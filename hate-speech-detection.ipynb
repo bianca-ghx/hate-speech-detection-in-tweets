{
  "nbformat": 4,
  "nbformat_minor": 0,
  "metadata": {
    "colab": {
      "provenance": [],
      "collapsed_sections": [
        "hqKXs9TpDkIV",
        "YeJA_ahJM3_m"
      ],
      "toc_visible": true,
      "gpuType": "T4"
    },
    "kernelspec": {
      "name": "python3",
      "display_name": "Python 3"
    },
    "language_info": {
      "name": "python"
    },
    "accelerator": "GPU"
  },
  "cells": [
    {
      "cell_type": "markdown",
      "source": [
        "# Mount Drive"
      ],
      "metadata": {
        "id": "T2Zmw8vyu4LL"
      }
    },
    {
      "cell_type": "code",
      "source": [
        "from google.colab import drive\n",
        "drive.mount('/content/drive')"
      ],
      "metadata": {
        "id": "SVtw5Giru7Px",
        "colab": {
          "base_uri": "https://localhost:8080/"
        },
        "outputId": "abb4953a-8000-4660-ca53-c0e6cfed8eac"
      },
      "execution_count": 1,
      "outputs": [
        {
          "output_type": "stream",
          "name": "stdout",
          "text": [
            "Mounted at /content/drive\n"
          ]
        }
      ]
    },
    {
      "cell_type": "code",
      "source": [
        "%cd /content/drive/MyDrive/Master/Dizertatie\n",
        "!ls"
      ],
      "metadata": {
        "id": "uZZKKp5yu9PU",
        "colab": {
          "base_uri": "https://localhost:8080/"
        },
        "outputId": "fe523581-182c-4601-950c-84e72de7dc96"
      },
      "execution_count": 2,
      "outputs": [
        {
          "output_type": "stream",
          "name": "stdout",
          "text": [
            "/content/drive/MyDrive/Master/Dizertatie\n",
            " DATASETS\t\t\t   hs-dl-methods.ipynb\t hs-transformers.ipynb\t\t  TESTS\n",
            " distilbert-base-uncased_logs\t   hs-eda.ipynb\t\t hs-transformers-multiple.ipynb\n",
            " distilbert-base-uncased_results   hs-full-code.ipynb\t'NO EDIT'\n",
            " glove.6B.50d.txt\t\t   hs-ml-methods.ipynb\t RESULTS\n"
          ]
        }
      ]
    },
    {
      "cell_type": "markdown",
      "source": [
        "# Install Required Packages"
      ],
      "metadata": {
        "id": "bp9t0WMtu-ze"
      }
    },
    {
      "cell_type": "code",
      "source": [
        "!pip install transformers\n",
        "!pip install optuna\n",
        "!pip install accelerate -U\n",
        "!pip install datasets"
      ],
      "metadata": {
        "id": "D6xIGymau9wA",
        "colab": {
          "base_uri": "https://localhost:8080/"
        },
        "outputId": "8a2c31ff-a85a-40dc-97c2-4da9466e2a2f"
      },
      "execution_count": 3,
      "outputs": [
        {
          "output_type": "stream",
          "name": "stdout",
          "text": [
            "Requirement already satisfied: transformers in /usr/local/lib/python3.10/dist-packages (4.41.2)\n",
            "Requirement already satisfied: filelock in /usr/local/lib/python3.10/dist-packages (from transformers) (3.14.0)\n",
            "Requirement already satisfied: huggingface-hub<1.0,>=0.23.0 in /usr/local/lib/python3.10/dist-packages (from transformers) (0.23.3)\n",
            "Requirement already satisfied: numpy>=1.17 in /usr/local/lib/python3.10/dist-packages (from transformers) (1.25.2)\n",
            "Requirement already satisfied: packaging>=20.0 in /usr/local/lib/python3.10/dist-packages (from transformers) (24.1)\n",
            "Requirement already satisfied: pyyaml>=5.1 in /usr/local/lib/python3.10/dist-packages (from transformers) (6.0.1)\n",
            "Requirement already satisfied: regex!=2019.12.17 in /usr/local/lib/python3.10/dist-packages (from transformers) (2024.5.15)\n",
            "Requirement already satisfied: requests in /usr/local/lib/python3.10/dist-packages (from transformers) (2.31.0)\n",
            "Requirement already satisfied: tokenizers<0.20,>=0.19 in /usr/local/lib/python3.10/dist-packages (from transformers) (0.19.1)\n",
            "Requirement already satisfied: safetensors>=0.4.1 in /usr/local/lib/python3.10/dist-packages (from transformers) (0.4.3)\n",
            "Requirement already satisfied: tqdm>=4.27 in /usr/local/lib/python3.10/dist-packages (from transformers) (4.66.4)\n",
            "Requirement already satisfied: fsspec>=2023.5.0 in /usr/local/lib/python3.10/dist-packages (from huggingface-hub<1.0,>=0.23.0->transformers) (2023.6.0)\n",
            "Requirement already satisfied: typing-extensions>=3.7.4.3 in /usr/local/lib/python3.10/dist-packages (from huggingface-hub<1.0,>=0.23.0->transformers) (4.12.2)\n",
            "Requirement already satisfied: charset-normalizer<4,>=2 in /usr/local/lib/python3.10/dist-packages (from requests->transformers) (3.3.2)\n",
            "Requirement already satisfied: idna<4,>=2.5 in /usr/local/lib/python3.10/dist-packages (from requests->transformers) (3.7)\n",
            "Requirement already satisfied: urllib3<3,>=1.21.1 in /usr/local/lib/python3.10/dist-packages (from requests->transformers) (2.0.7)\n",
            "Requirement already satisfied: certifi>=2017.4.17 in /usr/local/lib/python3.10/dist-packages (from requests->transformers) (2024.6.2)\n",
            "Collecting optuna\n",
            "  Downloading optuna-3.6.1-py3-none-any.whl (380 kB)\n",
            "\u001b[2K     \u001b[90m━━━━━━━━━━━━━━━━━━━━━━━━━━━━━━━━━━━━━━━━\u001b[0m \u001b[32m380.1/380.1 kB\u001b[0m \u001b[31m8.9 MB/s\u001b[0m eta \u001b[36m0:00:00\u001b[0m\n",
            "\u001b[?25hCollecting alembic>=1.5.0 (from optuna)\n",
            "  Downloading alembic-1.13.1-py3-none-any.whl (233 kB)\n",
            "\u001b[2K     \u001b[90m━━━━━━━━━━━━━━━━━━━━━━━━━━━━━━━━━━━━━━━━\u001b[0m \u001b[32m233.4/233.4 kB\u001b[0m \u001b[31m35.4 MB/s\u001b[0m eta \u001b[36m0:00:00\u001b[0m\n",
            "\u001b[?25hCollecting colorlog (from optuna)\n",
            "  Downloading colorlog-6.8.2-py3-none-any.whl (11 kB)\n",
            "Requirement already satisfied: numpy in /usr/local/lib/python3.10/dist-packages (from optuna) (1.25.2)\n",
            "Requirement already satisfied: packaging>=20.0 in /usr/local/lib/python3.10/dist-packages (from optuna) (24.1)\n",
            "Requirement already satisfied: sqlalchemy>=1.3.0 in /usr/local/lib/python3.10/dist-packages (from optuna) (2.0.30)\n",
            "Requirement already satisfied: tqdm in /usr/local/lib/python3.10/dist-packages (from optuna) (4.66.4)\n",
            "Requirement already satisfied: PyYAML in /usr/local/lib/python3.10/dist-packages (from optuna) (6.0.1)\n",
            "Collecting Mako (from alembic>=1.5.0->optuna)\n",
            "  Downloading Mako-1.3.5-py3-none-any.whl (78 kB)\n",
            "\u001b[2K     \u001b[90m━━━━━━━━━━━━━━━━━━━━━━━━━━━━━━━━━━━━━━━━\u001b[0m \u001b[32m78.6/78.6 kB\u001b[0m \u001b[31m14.0 MB/s\u001b[0m eta \u001b[36m0:00:00\u001b[0m\n",
            "\u001b[?25hRequirement already satisfied: typing-extensions>=4 in /usr/local/lib/python3.10/dist-packages (from alembic>=1.5.0->optuna) (4.12.2)\n",
            "Requirement already satisfied: greenlet!=0.4.17 in /usr/local/lib/python3.10/dist-packages (from sqlalchemy>=1.3.0->optuna) (3.0.3)\n",
            "Requirement already satisfied: MarkupSafe>=0.9.2 in /usr/local/lib/python3.10/dist-packages (from Mako->alembic>=1.5.0->optuna) (2.1.5)\n",
            "Installing collected packages: Mako, colorlog, alembic, optuna\n",
            "Successfully installed Mako-1.3.5 alembic-1.13.1 colorlog-6.8.2 optuna-3.6.1\n",
            "Collecting accelerate\n",
            "  Downloading accelerate-0.31.0-py3-none-any.whl (309 kB)\n",
            "\u001b[2K     \u001b[90m━━━━━━━━━━━━━━━━━━━━━━━━━━━━━━━━━━━━━━━━\u001b[0m \u001b[32m309.4/309.4 kB\u001b[0m \u001b[31m8.9 MB/s\u001b[0m eta \u001b[36m0:00:00\u001b[0m\n",
            "\u001b[?25hRequirement already satisfied: numpy>=1.17 in /usr/local/lib/python3.10/dist-packages (from accelerate) (1.25.2)\n",
            "Requirement already satisfied: packaging>=20.0 in /usr/local/lib/python3.10/dist-packages (from accelerate) (24.1)\n",
            "Requirement already satisfied: psutil in /usr/local/lib/python3.10/dist-packages (from accelerate) (5.9.5)\n",
            "Requirement already satisfied: pyyaml in /usr/local/lib/python3.10/dist-packages (from accelerate) (6.0.1)\n",
            "Requirement already satisfied: torch>=1.10.0 in /usr/local/lib/python3.10/dist-packages (from accelerate) (2.3.0+cu121)\n",
            "Requirement already satisfied: huggingface-hub in /usr/local/lib/python3.10/dist-packages (from accelerate) (0.23.3)\n",
            "Requirement already satisfied: safetensors>=0.3.1 in /usr/local/lib/python3.10/dist-packages (from accelerate) (0.4.3)\n",
            "Requirement already satisfied: filelock in /usr/local/lib/python3.10/dist-packages (from torch>=1.10.0->accelerate) (3.14.0)\n",
            "Requirement already satisfied: typing-extensions>=4.8.0 in /usr/local/lib/python3.10/dist-packages (from torch>=1.10.0->accelerate) (4.12.2)\n",
            "Requirement already satisfied: sympy in /usr/local/lib/python3.10/dist-packages (from torch>=1.10.0->accelerate) (1.12.1)\n",
            "Requirement already satisfied: networkx in /usr/local/lib/python3.10/dist-packages (from torch>=1.10.0->accelerate) (3.3)\n",
            "Requirement already satisfied: jinja2 in /usr/local/lib/python3.10/dist-packages (from torch>=1.10.0->accelerate) (3.1.4)\n",
            "Requirement already satisfied: fsspec in /usr/local/lib/python3.10/dist-packages (from torch>=1.10.0->accelerate) (2023.6.0)\n",
            "Collecting nvidia-cuda-nvrtc-cu12==12.1.105 (from torch>=1.10.0->accelerate)\n",
            "  Using cached nvidia_cuda_nvrtc_cu12-12.1.105-py3-none-manylinux1_x86_64.whl (23.7 MB)\n",
            "Collecting nvidia-cuda-runtime-cu12==12.1.105 (from torch>=1.10.0->accelerate)\n",
            "  Using cached nvidia_cuda_runtime_cu12-12.1.105-py3-none-manylinux1_x86_64.whl (823 kB)\n",
            "Collecting nvidia-cuda-cupti-cu12==12.1.105 (from torch>=1.10.0->accelerate)\n",
            "  Using cached nvidia_cuda_cupti_cu12-12.1.105-py3-none-manylinux1_x86_64.whl (14.1 MB)\n",
            "Collecting nvidia-cudnn-cu12==8.9.2.26 (from torch>=1.10.0->accelerate)\n",
            "  Using cached nvidia_cudnn_cu12-8.9.2.26-py3-none-manylinux1_x86_64.whl (731.7 MB)\n",
            "Collecting nvidia-cublas-cu12==12.1.3.1 (from torch>=1.10.0->accelerate)\n",
            "  Using cached nvidia_cublas_cu12-12.1.3.1-py3-none-manylinux1_x86_64.whl (410.6 MB)\n",
            "Collecting nvidia-cufft-cu12==11.0.2.54 (from torch>=1.10.0->accelerate)\n",
            "  Using cached nvidia_cufft_cu12-11.0.2.54-py3-none-manylinux1_x86_64.whl (121.6 MB)\n",
            "Collecting nvidia-curand-cu12==10.3.2.106 (from torch>=1.10.0->accelerate)\n",
            "  Using cached nvidia_curand_cu12-10.3.2.106-py3-none-manylinux1_x86_64.whl (56.5 MB)\n",
            "Collecting nvidia-cusolver-cu12==11.4.5.107 (from torch>=1.10.0->accelerate)\n",
            "  Using cached nvidia_cusolver_cu12-11.4.5.107-py3-none-manylinux1_x86_64.whl (124.2 MB)\n",
            "Collecting nvidia-cusparse-cu12==12.1.0.106 (from torch>=1.10.0->accelerate)\n",
            "  Using cached nvidia_cusparse_cu12-12.1.0.106-py3-none-manylinux1_x86_64.whl (196.0 MB)\n",
            "Collecting nvidia-nccl-cu12==2.20.5 (from torch>=1.10.0->accelerate)\n",
            "  Using cached nvidia_nccl_cu12-2.20.5-py3-none-manylinux2014_x86_64.whl (176.2 MB)\n",
            "Collecting nvidia-nvtx-cu12==12.1.105 (from torch>=1.10.0->accelerate)\n",
            "  Using cached nvidia_nvtx_cu12-12.1.105-py3-none-manylinux1_x86_64.whl (99 kB)\n",
            "Requirement already satisfied: triton==2.3.0 in /usr/local/lib/python3.10/dist-packages (from torch>=1.10.0->accelerate) (2.3.0)\n",
            "Collecting nvidia-nvjitlink-cu12 (from nvidia-cusolver-cu12==11.4.5.107->torch>=1.10.0->accelerate)\n",
            "  Downloading nvidia_nvjitlink_cu12-12.5.40-py3-none-manylinux2014_x86_64.whl (21.3 MB)\n",
            "\u001b[2K     \u001b[90m━━━━━━━━━━━━━━━━━━━━━━━━━━━━━━━━━━━━━━━━\u001b[0m \u001b[32m21.3/21.3 MB\u001b[0m \u001b[31m71.2 MB/s\u001b[0m eta \u001b[36m0:00:00\u001b[0m\n",
            "\u001b[?25hRequirement already satisfied: requests in /usr/local/lib/python3.10/dist-packages (from huggingface-hub->accelerate) (2.31.0)\n",
            "Requirement already satisfied: tqdm>=4.42.1 in /usr/local/lib/python3.10/dist-packages (from huggingface-hub->accelerate) (4.66.4)\n",
            "Requirement already satisfied: MarkupSafe>=2.0 in /usr/local/lib/python3.10/dist-packages (from jinja2->torch>=1.10.0->accelerate) (2.1.5)\n",
            "Requirement already satisfied: charset-normalizer<4,>=2 in /usr/local/lib/python3.10/dist-packages (from requests->huggingface-hub->accelerate) (3.3.2)\n",
            "Requirement already satisfied: idna<4,>=2.5 in /usr/local/lib/python3.10/dist-packages (from requests->huggingface-hub->accelerate) (3.7)\n",
            "Requirement already satisfied: urllib3<3,>=1.21.1 in /usr/local/lib/python3.10/dist-packages (from requests->huggingface-hub->accelerate) (2.0.7)\n",
            "Requirement already satisfied: certifi>=2017.4.17 in /usr/local/lib/python3.10/dist-packages (from requests->huggingface-hub->accelerate) (2024.6.2)\n",
            "Requirement already satisfied: mpmath<1.4.0,>=1.1.0 in /usr/local/lib/python3.10/dist-packages (from sympy->torch>=1.10.0->accelerate) (1.3.0)\n",
            "Installing collected packages: nvidia-nvtx-cu12, nvidia-nvjitlink-cu12, nvidia-nccl-cu12, nvidia-curand-cu12, nvidia-cufft-cu12, nvidia-cuda-runtime-cu12, nvidia-cuda-nvrtc-cu12, nvidia-cuda-cupti-cu12, nvidia-cublas-cu12, nvidia-cusparse-cu12, nvidia-cudnn-cu12, nvidia-cusolver-cu12, accelerate\n",
            "Successfully installed accelerate-0.31.0 nvidia-cublas-cu12-12.1.3.1 nvidia-cuda-cupti-cu12-12.1.105 nvidia-cuda-nvrtc-cu12-12.1.105 nvidia-cuda-runtime-cu12-12.1.105 nvidia-cudnn-cu12-8.9.2.26 nvidia-cufft-cu12-11.0.2.54 nvidia-curand-cu12-10.3.2.106 nvidia-cusolver-cu12-11.4.5.107 nvidia-cusparse-cu12-12.1.0.106 nvidia-nccl-cu12-2.20.5 nvidia-nvjitlink-cu12-12.5.40 nvidia-nvtx-cu12-12.1.105\n",
            "Collecting datasets\n",
            "  Downloading datasets-2.20.0-py3-none-any.whl (547 kB)\n",
            "\u001b[2K     \u001b[90m━━━━━━━━━━━━━━━━━━━━━━━━━━━━━━━━━━━━━━━━\u001b[0m \u001b[32m547.8/547.8 kB\u001b[0m \u001b[31m6.6 MB/s\u001b[0m eta \u001b[36m0:00:00\u001b[0m\n",
            "\u001b[?25hRequirement already satisfied: filelock in /usr/local/lib/python3.10/dist-packages (from datasets) (3.14.0)\n",
            "Requirement already satisfied: numpy>=1.17 in /usr/local/lib/python3.10/dist-packages (from datasets) (1.25.2)\n",
            "Collecting pyarrow>=15.0.0 (from datasets)\n",
            "  Downloading pyarrow-16.1.0-cp310-cp310-manylinux_2_28_x86_64.whl (40.8 MB)\n",
            "\u001b[2K     \u001b[90m━━━━━━━━━━━━━━━━━━━━━━━━━━━━━━━━━━━━━━━━\u001b[0m \u001b[32m40.8/40.8 MB\u001b[0m \u001b[31m15.1 MB/s\u001b[0m eta \u001b[36m0:00:00\u001b[0m\n",
            "\u001b[?25hRequirement already satisfied: pyarrow-hotfix in /usr/local/lib/python3.10/dist-packages (from datasets) (0.6)\n",
            "Collecting dill<0.3.9,>=0.3.0 (from datasets)\n",
            "  Downloading dill-0.3.8-py3-none-any.whl (116 kB)\n",
            "\u001b[2K     \u001b[90m━━━━━━━━━━━━━━━━━━━━━━━━━━━━━━━━━━━━━━━━\u001b[0m \u001b[32m116.3/116.3 kB\u001b[0m \u001b[31m16.8 MB/s\u001b[0m eta \u001b[36m0:00:00\u001b[0m\n",
            "\u001b[?25hRequirement already satisfied: pandas in /usr/local/lib/python3.10/dist-packages (from datasets) (2.0.3)\n",
            "Collecting requests>=2.32.2 (from datasets)\n",
            "  Downloading requests-2.32.3-py3-none-any.whl (64 kB)\n",
            "\u001b[2K     \u001b[90m━━━━━━━━━━━━━━━━━━━━━━━━━━━━━━━━━━━━━━━━\u001b[0m \u001b[32m64.9/64.9 kB\u001b[0m \u001b[31m10.6 MB/s\u001b[0m eta \u001b[36m0:00:00\u001b[0m\n",
            "\u001b[?25hRequirement already satisfied: tqdm>=4.66.3 in /usr/local/lib/python3.10/dist-packages (from datasets) (4.66.4)\n",
            "Collecting xxhash (from datasets)\n",
            "  Downloading xxhash-3.4.1-cp310-cp310-manylinux_2_17_x86_64.manylinux2014_x86_64.whl (194 kB)\n",
            "\u001b[2K     \u001b[90m━━━━━━━━━━━━━━━━━━━━━━━━━━━━━━━━━━━━━━━━\u001b[0m \u001b[32m194.1/194.1 kB\u001b[0m \u001b[31m24.7 MB/s\u001b[0m eta \u001b[36m0:00:00\u001b[0m\n",
            "\u001b[?25hCollecting multiprocess (from datasets)\n",
            "  Downloading multiprocess-0.70.16-py310-none-any.whl (134 kB)\n",
            "\u001b[2K     \u001b[90m━━━━━━━━━━━━━━━━━━━━━━━━━━━━━━━━━━━━━━━━\u001b[0m \u001b[32m134.8/134.8 kB\u001b[0m \u001b[31m21.0 MB/s\u001b[0m eta \u001b[36m0:00:00\u001b[0m\n",
            "\u001b[?25hRequirement already satisfied: fsspec[http]<=2024.5.0,>=2023.1.0 in /usr/local/lib/python3.10/dist-packages (from datasets) (2023.6.0)\n",
            "Requirement already satisfied: aiohttp in /usr/local/lib/python3.10/dist-packages (from datasets) (3.9.5)\n",
            "Requirement already satisfied: huggingface-hub>=0.21.2 in /usr/local/lib/python3.10/dist-packages (from datasets) (0.23.3)\n",
            "Requirement already satisfied: packaging in /usr/local/lib/python3.10/dist-packages (from datasets) (24.1)\n",
            "Requirement already satisfied: pyyaml>=5.1 in /usr/local/lib/python3.10/dist-packages (from datasets) (6.0.1)\n",
            "Requirement already satisfied: aiosignal>=1.1.2 in /usr/local/lib/python3.10/dist-packages (from aiohttp->datasets) (1.3.1)\n",
            "Requirement already satisfied: attrs>=17.3.0 in /usr/local/lib/python3.10/dist-packages (from aiohttp->datasets) (23.2.0)\n",
            "Requirement already satisfied: frozenlist>=1.1.1 in /usr/local/lib/python3.10/dist-packages (from aiohttp->datasets) (1.4.1)\n",
            "Requirement already satisfied: multidict<7.0,>=4.5 in /usr/local/lib/python3.10/dist-packages (from aiohttp->datasets) (6.0.5)\n",
            "Requirement already satisfied: yarl<2.0,>=1.0 in /usr/local/lib/python3.10/dist-packages (from aiohttp->datasets) (1.9.4)\n",
            "Requirement already satisfied: async-timeout<5.0,>=4.0 in /usr/local/lib/python3.10/dist-packages (from aiohttp->datasets) (4.0.3)\n",
            "Requirement already satisfied: typing-extensions>=3.7.4.3 in /usr/local/lib/python3.10/dist-packages (from huggingface-hub>=0.21.2->datasets) (4.12.2)\n",
            "Requirement already satisfied: charset-normalizer<4,>=2 in /usr/local/lib/python3.10/dist-packages (from requests>=2.32.2->datasets) (3.3.2)\n",
            "Requirement already satisfied: idna<4,>=2.5 in /usr/local/lib/python3.10/dist-packages (from requests>=2.32.2->datasets) (3.7)\n",
            "Requirement already satisfied: urllib3<3,>=1.21.1 in /usr/local/lib/python3.10/dist-packages (from requests>=2.32.2->datasets) (2.0.7)\n",
            "Requirement already satisfied: certifi>=2017.4.17 in /usr/local/lib/python3.10/dist-packages (from requests>=2.32.2->datasets) (2024.6.2)\n",
            "Requirement already satisfied: python-dateutil>=2.8.2 in /usr/local/lib/python3.10/dist-packages (from pandas->datasets) (2.8.2)\n",
            "Requirement already satisfied: pytz>=2020.1 in /usr/local/lib/python3.10/dist-packages (from pandas->datasets) (2023.4)\n",
            "Requirement already satisfied: tzdata>=2022.1 in /usr/local/lib/python3.10/dist-packages (from pandas->datasets) (2024.1)\n",
            "Requirement already satisfied: six>=1.5 in /usr/local/lib/python3.10/dist-packages (from python-dateutil>=2.8.2->pandas->datasets) (1.16.0)\n",
            "Installing collected packages: xxhash, requests, pyarrow, dill, multiprocess, datasets\n",
            "  Attempting uninstall: requests\n",
            "    Found existing installation: requests 2.31.0\n",
            "    Uninstalling requests-2.31.0:\n",
            "      Successfully uninstalled requests-2.31.0\n",
            "  Attempting uninstall: pyarrow\n",
            "    Found existing installation: pyarrow 14.0.2\n",
            "    Uninstalling pyarrow-14.0.2:\n",
            "      Successfully uninstalled pyarrow-14.0.2\n",
            "\u001b[31mERROR: pip's dependency resolver does not currently take into account all the packages that are installed. This behaviour is the source of the following dependency conflicts.\n",
            "cudf-cu12 24.4.1 requires pyarrow<15.0.0a0,>=14.0.1, but you have pyarrow 16.1.0 which is incompatible.\n",
            "google-colab 1.0.0 requires requests==2.31.0, but you have requests 2.32.3 which is incompatible.\n",
            "ibis-framework 8.0.0 requires pyarrow<16,>=2, but you have pyarrow 16.1.0 which is incompatible.\u001b[0m\u001b[31m\n",
            "\u001b[0mSuccessfully installed datasets-2.20.0 dill-0.3.8 multiprocess-0.70.16 pyarrow-16.1.0 requests-2.32.3 xxhash-3.4.1\n"
          ]
        }
      ]
    },
    {
      "cell_type": "markdown",
      "source": [
        "# Import Libraries"
      ],
      "metadata": {
        "id": "Kxfk2ojUvR6_"
      }
    },
    {
      "cell_type": "code",
      "source": [
        "import os\n",
        "import re\n",
        "import random\n",
        "import string\n",
        "import time\n",
        "import itertools\n",
        "import numpy as np\n",
        "import pandas as pd\n",
        "import matplotlib.pyplot as plt\n",
        "import seaborn as sns\n",
        "\n",
        "from scipy.special import softmax\n",
        "\n",
        "from sklearn.model_selection import train_test_split\n",
        "from sklearn.metrics import (accuracy_score, precision_score, recall_score, f1_score,\n",
        "                             precision_recall_fscore_support, roc_curve, roc_auc_score,\n",
        "                             auc, confusion_matrix, classification_report)\n",
        "from sklearn.naive_bayes import GaussianNB, BernoulliNB\n",
        "from sklearn.linear_model import LogisticRegression\n",
        "from sklearn.svm import SVC\n",
        "from sklearn.tree import DecisionTreeClassifier\n",
        "from sklearn.ensemble import RandomForestClassifier\n",
        "\n",
        "import tensorflow as tf\n",
        "import tensorflow_hub as hub\n",
        "from tensorflow import keras\n",
        "from tensorflow.keras.preprocessing.sequence import pad_sequences\n",
        "from keras.models import Sequential\n",
        "from keras.layers import (Embedding, LSTM, GRU, Bidirectional, Dense, Dropout, Reshape)\n",
        "from keras.callbacks import EarlyStopping\n",
        "from keras.optimizers import Adam, RMSprop, SGD\n",
        "\n",
        "from transformers import (BertTokenizer, TFBertModel, AutoTokenizer,\n",
        "                          AutoModelForSequenceClassification, Trainer, TrainingArguments,\n",
        "                          logging)\n",
        "logging.set_verbosity_error()\n",
        "\n",
        "from torch.utils.data import DataLoader\n",
        "from datasets import Dataset, load_metric\n",
        "\n",
        "import optuna\n",
        "import gensim.downloader as api\n",
        "\n",
        "import nltk\n",
        "from nltk.tokenize import word_tokenize\n",
        "from nltk.corpus import stopwords\n",
        "from nltk.stem import WordNetLemmatizer"
      ],
      "metadata": {
        "id": "4V6rYYpevQL8"
      },
      "execution_count": 4,
      "outputs": []
    },
    {
      "cell_type": "code",
      "source": [
        "nltk.download('stopwords')\n",
        "nltk.download('punkt')\n",
        "nltk.download('wordnet')\n",
        "!unzip /root/nltk_data/corpora/wordnet.zip -d /root/nltk_data/corpora/"
      ],
      "metadata": {
        "id": "yRsBW3N6vsMN",
        "colab": {
          "base_uri": "https://localhost:8080/"
        },
        "outputId": "c2324cad-8ccd-49b2-e472-f9d1cc3b6524"
      },
      "execution_count": 5,
      "outputs": [
        {
          "output_type": "stream",
          "name": "stderr",
          "text": [
            "[nltk_data] Downloading package stopwords to /root/nltk_data...\n",
            "[nltk_data]   Unzipping corpora/stopwords.zip.\n",
            "[nltk_data] Downloading package punkt to /root/nltk_data...\n",
            "[nltk_data]   Unzipping tokenizers/punkt.zip.\n",
            "[nltk_data] Downloading package wordnet to /root/nltk_data...\n"
          ]
        },
        {
          "output_type": "stream",
          "name": "stdout",
          "text": [
            "Archive:  /root/nltk_data/corpora/wordnet.zip\n",
            "   creating: /root/nltk_data/corpora/wordnet/\n",
            "  inflating: /root/nltk_data/corpora/wordnet/lexnames  \n",
            "  inflating: /root/nltk_data/corpora/wordnet/data.verb  \n",
            "  inflating: /root/nltk_data/corpora/wordnet/index.adv  \n",
            "  inflating: /root/nltk_data/corpora/wordnet/adv.exc  \n",
            "  inflating: /root/nltk_data/corpora/wordnet/index.verb  \n",
            "  inflating: /root/nltk_data/corpora/wordnet/cntlist.rev  \n",
            "  inflating: /root/nltk_data/corpora/wordnet/data.adj  \n",
            "  inflating: /root/nltk_data/corpora/wordnet/index.adj  \n",
            "  inflating: /root/nltk_data/corpora/wordnet/LICENSE  \n",
            "  inflating: /root/nltk_data/corpora/wordnet/citation.bib  \n",
            "  inflating: /root/nltk_data/corpora/wordnet/noun.exc  \n",
            "  inflating: /root/nltk_data/corpora/wordnet/verb.exc  \n",
            "  inflating: /root/nltk_data/corpora/wordnet/README  \n",
            "  inflating: /root/nltk_data/corpora/wordnet/index.sense  \n",
            "  inflating: /root/nltk_data/corpora/wordnet/data.noun  \n",
            "  inflating: /root/nltk_data/corpora/wordnet/data.adv  \n",
            "  inflating: /root/nltk_data/corpora/wordnet/index.noun  \n",
            "  inflating: /root/nltk_data/corpora/wordnet/adj.exc  \n"
          ]
        }
      ]
    },
    {
      "cell_type": "markdown",
      "source": [
        "# Set Parameters"
      ],
      "metadata": {
        "id": "7auvd6FHv0Cz"
      }
    },
    {
      "cell_type": "code",
      "source": [
        "#@title Dataset\n",
        "\n",
        "dataset_name = 'Davidson' #@param [\"Hateval2019\", \"Davidson\"] {allow-input: true}\n",
        "\n",
        "print(dataset_name)"
      ],
      "metadata": {
        "cellView": "form",
        "id": "gTMtqSIuv7Dt",
        "colab": {
          "base_uri": "https://localhost:8080/"
        },
        "outputId": "6f2e26fe-044c-47bf-ed31-ac78a6386841"
      },
      "execution_count": 6,
      "outputs": [
        {
          "output_type": "stream",
          "name": "stdout",
          "text": [
            "Davidson\n"
          ]
        }
      ]
    },
    {
      "cell_type": "code",
      "source": [
        "#@title Embedding Method\n",
        "\n",
        "embedding_method_name = 'GloVe' #@param [\"ELMo\", \"FastText\", \"Word2Vec\", \"GloVe\", \"BERT\"] {allow-input: true}\n",
        "\n",
        "print(embedding_method_name)"
      ],
      "metadata": {
        "cellView": "form",
        "id": "eTDq2-kivu__",
        "colab": {
          "base_uri": "https://localhost:8080/"
        },
        "outputId": "066404c9-7597-43ad-8ca8-606ab1fd8282"
      },
      "execution_count": 7,
      "outputs": [
        {
          "output_type": "stream",
          "name": "stdout",
          "text": [
            "GloVe\n"
          ]
        }
      ]
    },
    {
      "cell_type": "code",
      "source": [
        "#@title Algorithm Class\n",
        "\n",
        "algorithm_class = 'deep-learning' #@param [\"machine-learning\", \"deep-learning\", \"transformers\"] {allow-input: true}"
      ],
      "metadata": {
        "cellView": "form",
        "id": "1UkbEjEdxieC"
      },
      "execution_count": 8,
      "outputs": []
    },
    {
      "cell_type": "code",
      "source": [
        "#@title Machine Learning Algorithm\n",
        "\n",
        "machine_learning_algorithm = 'GNB' #@param [\"GNB\", \"BNB\", \"LR\", \"SVM\"] {allow-input: true}"
      ],
      "metadata": {
        "cellView": "form",
        "id": "crIyvR_twKye"
      },
      "execution_count": 9,
      "outputs": []
    },
    {
      "cell_type": "code",
      "source": [
        "#@title Deep Learning Model\n",
        "\n",
        "deep_learning_model = 'M-Bi-GRU' #@param [\"LSTM\", \"GRU\", \"Bi-LSTM\", \"Bi-GRU\", \"M-LSTM\", \"M-GRU\", \"M-Bi-LSTM\", \"M-Bi-GRU\"] {allow-input: true}"
      ],
      "metadata": {
        "cellView": "form",
        "id": "UxCiWFTTwREg"
      },
      "execution_count": 10,
      "outputs": []
    },
    {
      "cell_type": "code",
      "source": [
        "#@title Optimization Mode\n",
        "\n",
        "optimization_mode = False # @param {type:\"boolean\"}\n"
      ],
      "metadata": {
        "cellView": "form",
        "id": "R4PzwfJ_yu6m"
      },
      "execution_count": 11,
      "outputs": []
    },
    {
      "cell_type": "code",
      "source": [
        "#@title Transformer Model\n",
        "\n",
        "transformer_model = \"distilbert-base-uncased\" # @param {type:\"string\"}"
      ],
      "metadata": {
        "cellView": "form",
        "id": "l0nM92maw1t1"
      },
      "execution_count": 12,
      "outputs": []
    },
    {
      "cell_type": "code",
      "source": [
        "#@title Save Results\n",
        "\n",
        "save_results = False # @param {type:\"boolean\"}\n"
      ],
      "metadata": {
        "cellView": "form",
        "id": "3lzeAucIyQbJ"
      },
      "execution_count": 13,
      "outputs": []
    },
    {
      "cell_type": "markdown",
      "source": [
        "# Load Datasets"
      ],
      "metadata": {
        "id": "WCJwU7ZHxd0b"
      }
    },
    {
      "cell_type": "code",
      "source": [
        "def load_hateval2019_dataset(file_path: str):\n",
        "    column_names = [\"id\", \"text\", \"HS\", \"TR\", \"AG\"]\n",
        "    df = pd.read_csv(file_path, names=column_names, header=0)\n",
        "    return df"
      ],
      "metadata": {
        "id": "e0E9WN0QwbB4"
      },
      "execution_count": 14,
      "outputs": []
    },
    {
      "cell_type": "code",
      "source": [
        "def load_davidson_dataset(file_path: str):\n",
        "    column_names = [\"count\", \"hate_speech\", \"offensive_language\", \"neither\", \"class\", \"tweet\"]\n",
        "    df = pd.read_csv(file_path, names=column_names, header=0)\n",
        "    return df"
      ],
      "metadata": {
        "id": "-1P5jcn9zK_f"
      },
      "execution_count": 15,
      "outputs": []
    },
    {
      "cell_type": "code",
      "source": [
        "start = time.time()\n",
        "hateval2019_dataset = load_hateval2019_dataset(\"/content/drive/MyDrive/Master/Dizertatie/DATASETS/HATEVAL/hateval2019_en.csv\")\n",
        "end = time.time()\n",
        "print(f\"Execution time: {end-start:.2f} seconds\")"
      ],
      "metadata": {
        "id": "9NgEEzrJzNMI",
        "colab": {
          "base_uri": "https://localhost:8080/"
        },
        "outputId": "0fa1a6e3-b73b-4147-dfd9-66378e1ba5e9"
      },
      "execution_count": 16,
      "outputs": [
        {
          "output_type": "stream",
          "name": "stdout",
          "text": [
            "Execution time: 2.13 seconds\n"
          ]
        }
      ]
    },
    {
      "cell_type": "code",
      "source": [
        "start = time.time()\n",
        "davidson_dataset = load_davidson_dataset(\"/content/drive/MyDrive/Master/Dizertatie/DATASETS/TWITTER/labeled_data2.csv\")\n",
        "end = time.time()\n",
        "print(f\"Execution time: {end-start:.2f} seconds\")"
      ],
      "metadata": {
        "id": "K4OshV8SzO8z",
        "colab": {
          "base_uri": "https://localhost:8080/"
        },
        "outputId": "79212f5d-980e-4c41-8ee0-0ca254001a11"
      },
      "execution_count": 17,
      "outputs": [
        {
          "output_type": "stream",
          "name": "stdout",
          "text": [
            "Execution time: 1.86 seconds\n"
          ]
        }
      ]
    },
    {
      "cell_type": "code",
      "source": [
        "if dataset_name == 'Hateval2019':\n",
        "  data = hateval2019_dataset['text']\n",
        "  labels = hateval2019_dataset['HS']\n",
        "elif dataset_name == 'Davidson':\n",
        "  data = davidson_dataset['tweet']\n",
        "  labels = davidson_dataset['class'].apply(lambda x: 1 if x == 0 or x == 1 else 0)"
      ],
      "metadata": {
        "id": "H0XwEu8MzQU5"
      },
      "execution_count": 18,
      "outputs": []
    },
    {
      "cell_type": "markdown",
      "source": [
        "# Prepocess Data"
      ],
      "metadata": {
        "id": "0zHtvg3EzUUJ"
      }
    },
    {
      "cell_type": "code",
      "source": [
        "def preprocess_text(text):\n",
        "\n",
        "    # Remove HTML tags and URLs\n",
        "    text = re.sub('<[^<]+?>', '', text)\n",
        "    text = re.sub(r'http\\S+', '', text)\n",
        "\n",
        "    # Remove special characters\n",
        "    text = re.sub(r'[^a-zA-Z0-9\\s]', '', text)\n",
        "\n",
        "    # Tokenize the text\n",
        "    tokens = word_tokenize(text)\n",
        "\n",
        "    # Convert to lowercase\n",
        "    tokens = [token.lower() for token in tokens]\n",
        "\n",
        "    # Remove stopwords\n",
        "    stop_words = set(stopwords.words('english'))\n",
        "    tokens = [token for token in tokens if token not in stop_words]\n",
        "\n",
        "    # Lemmatize the tokens\n",
        "    lemmatizer = WordNetLemmatizer()\n",
        "    tokens = [lemmatizer.lemmatize(token) for token in tokens]\n",
        "\n",
        "    # Join the preprocessed tokens back into a string\n",
        "    preprocessed_text = \" \".join(tokens)\n",
        "\n",
        "    return preprocessed_text"
      ],
      "metadata": {
        "id": "6yZHmTurzSLn"
      },
      "execution_count": 19,
      "outputs": []
    },
    {
      "cell_type": "code",
      "source": [
        "data = data.apply(preprocess_text)"
      ],
      "metadata": {
        "id": "pMdxMJBwzZ14"
      },
      "execution_count": 20,
      "outputs": []
    },
    {
      "cell_type": "markdown",
      "source": [
        "# Load Embeddings"
      ],
      "metadata": {
        "id": "BL5N-sruzdRc"
      }
    },
    {
      "cell_type": "code",
      "source": [
        "def load_glove_model(file_path):\n",
        "    glove_model = {}\n",
        "    with open(file_path, 'r', encoding='utf-8') as f:\n",
        "        for line in f:\n",
        "            values = line.split()\n",
        "            word = values[0]\n",
        "            vector = np.asarray(values[1:], dtype='float32')\n",
        "            glove_model[word] = vector\n",
        "    return glove_model"
      ],
      "metadata": {
        "id": "aZU8qo3hzbPL"
      },
      "execution_count": 21,
      "outputs": []
    },
    {
      "cell_type": "code",
      "source": [
        "def glove_vectors(text):\n",
        "    embeddings = []\n",
        "\n",
        "    # Get the vector size from the first word in the dictionary\n",
        "    vector_size = len(next(iter(glove_model.values())))\n",
        "    zero_vector = np.zeros(vector_size)\n",
        "\n",
        "    for sentence in text:\n",
        "        words = sentence.split()\n",
        "        sentence_embeddings = [glove_model[word] for word in words if word in glove_model]\n",
        "\n",
        "        if not sentence_embeddings:\n",
        "            sentence_embeddings = [zero_vector]\n",
        "\n",
        "        embeddings.append(np.mean(sentence_embeddings, axis=0))\n",
        "\n",
        "    return np.array(embeddings)"
      ],
      "metadata": {
        "id": "ejT5NJI-zqvN"
      },
      "execution_count": 22,
      "outputs": []
    },
    {
      "cell_type": "code",
      "source": [
        "def elmo_vectors(text, batch_size=8):\n",
        "    num_batches = len(text) // batch_size + (1 if len(text) % batch_size > 0 else 0)\n",
        "    embeddings = []\n",
        "\n",
        "    for i in range(num_batches):\n",
        "        start_index = i * batch_size\n",
        "        end_index = min((i + 1) * batch_size, len(text))\n",
        "        batch_text = text[start_index:end_index]\n",
        "        batch_embeddings = elmo(tf.convert_to_tensor(batch_text.tolist()), training=False)\n",
        "        embeddings.append(batch_embeddings.numpy())\n",
        "\n",
        "    return np.concatenate(embeddings, axis=0)"
      ],
      "metadata": {
        "id": "05v3V-kOzgFe"
      },
      "execution_count": 23,
      "outputs": []
    },
    {
      "cell_type": "code",
      "source": [
        "def fasttext_word2vec_vectors(text, model):\n",
        "    embeddings = []\n",
        "    zero_vector = np.zeros(model.vector_size)\n",
        "\n",
        "    for sentence in text:\n",
        "        words = sentence.split()\n",
        "        sentence_embeddings = [model[word] for word in words if word in model]\n",
        "\n",
        "        if not sentence_embeddings:\n",
        "            sentence_embeddings = [zero_vector]\n",
        "\n",
        "        embeddings.append(np.mean(sentence_embeddings, axis=0))\n",
        "\n",
        "    return np.array(embeddings)"
      ],
      "metadata": {
        "id": "lhTd_u3Wzkpz"
      },
      "execution_count": 24,
      "outputs": []
    },
    {
      "cell_type": "code",
      "source": [
        "def bert_vectors(text, batch_size=32):\n",
        "    # Load the BERT tokenizer and model\n",
        "    tokenizer = BertTokenizer.from_pretrained(\"bert-base-uncased\")\n",
        "    model = TFBertModel.from_pretrained(\"bert-base-uncased\")\n",
        "\n",
        "    # Compute the number of batches\n",
        "    num_batches = len(text) // batch_size + (1 if len(text) % batch_size > 0 else 0)\n",
        "    embeddings = []\n",
        "\n",
        "    for i in range(num_batches):\n",
        "        start_index = i * batch_size\n",
        "        end_index = min((i + 1) * batch_size, len(text))\n",
        "        batch_text = text[start_index:end_index]\n",
        "\n",
        "        # Tokenize the batch of text and generate input tensors for the model\n",
        "        inputs = tokenizer(batch_text.tolist(), return_tensors=\"tf\", padding=True, truncation=True, max_length=512)\n",
        "\n",
        "        # Generate embeddings for the batch using the BERT model\n",
        "        outputs = model(inputs)\n",
        "        batch_embeddings = outputs.last_hidden_state[:, 0, :]\n",
        "        embeddings.append(batch_embeddings.numpy())\n",
        "\n",
        "    return np.concatenate(embeddings, axis=0)"
      ],
      "metadata": {
        "id": "iBZkJwjRzpMs"
      },
      "execution_count": 25,
      "outputs": []
    },
    {
      "cell_type": "code",
      "source": [
        "if algorithm_class == \"transformers\":\n",
        "  pass\n",
        "elif embedding_method_name == \"ELMo\":\n",
        "  elmo = hub.KerasLayer(\"https://tfhub.dev/google/elmo/3\", trainable=False)\n",
        "  embeddings_func = elmo_vectors\n",
        "elif embedding_method_name == \"FastText\":\n",
        "  fasttext_model = api.load(\"fasttext-wiki-news-subwords-300\")\n",
        "  embeddings_func = lambda text: fasttext_word2vec_vectors(text, fasttext_model)\n",
        "elif embedding_method_name == \"Word2Vec\":\n",
        "  word2vec_model = api.load(\"word2vec-google-news-300\")\n",
        "  embeddings_func = lambda text: fasttext_word2vec_vectors(text, word2vec_model)\n",
        "elif embedding_method_name == \"GloVe\":\n",
        "  glove_model = load_glove_model('/content/drive/MyDrive/Master/Dizertatie/glove.6B.50d.txt')\n",
        "  embeddings_func = glove_vectors\n",
        "elif embedding_method_name == \"BERT\":\n",
        "  bert = hub.KerasLayer(\"https://tfhub.dev/tensorflow/bert_en_uncased_L-12_H-768_A-12/3\", trainable=False)\n",
        "  embeddings_func = bert_vectors"
      ],
      "metadata": {
        "id": "KmIo0EMJzvnI"
      },
      "execution_count": 26,
      "outputs": []
    },
    {
      "cell_type": "code",
      "source": [
        "embeddings = embeddings_func(data)\n",
        "print(f\"{embedding_method_name} embeddings shape:\", embeddings.shape)"
      ],
      "metadata": {
        "id": "bCEIKoDh0VDf",
        "colab": {
          "base_uri": "https://localhost:8080/"
        },
        "outputId": "2300f621-1849-43ea-c4ef-1bb21e70fe12"
      },
      "execution_count": 27,
      "outputs": [
        {
          "output_type": "stream",
          "name": "stdout",
          "text": [
            "GloVe embeddings shape: (8326, 50)\n"
          ]
        }
      ]
    },
    {
      "cell_type": "markdown",
      "source": [
        "# Split Data"
      ],
      "metadata": {
        "id": "gspLYi630f5Y"
      }
    },
    {
      "cell_type": "code",
      "source": [
        "if algorithm_class == \"machine-learning\":\n",
        "\n",
        "  train_ratio = 80\n",
        "  test_ratio = 20\n",
        "\n",
        "  data_to_split = embeddings\n",
        "\n",
        "  train_data, test_data, train_labels, test_labels = train_test_split(data_to_split, labels, test_size=test_ratio/100, random_state=42, stratify=labels)\n",
        "\n",
        "  print(train_data.shape)\n",
        "  print(test_data.shape)\n",
        "  print(test_labels.shape)\n",
        "  print(test_labels.shape)\n",
        "\n",
        "else:\n",
        "  train_ratio = 80\n",
        "  val_ratio = 10\n",
        "  test_ratio = 10\n",
        "\n",
        "  if algorithm_class == \"deep-learning\":\n",
        "    data_to_split = embeddings\n",
        "  elif algorithm_class == \"transformers\":\n",
        "    data_to_split = data\n",
        "\n",
        "  # Splitting the data into train and test sets\n",
        "  train_val_data, test_data, train_val_labels, test_labels = train_test_split(\n",
        "    data_to_split, labels, test_size=(test_ratio / 100), random_state=1, stratify=labels)\n",
        "\n",
        "  # Calculating the remaining ratio after the test split\n",
        "  remaining_ratio = 100 - test_ratio\n",
        "\n",
        "  # Splitting the train_val set into train and validation sets with stratification\n",
        "  train_data, val_data, train_labels, val_labels = train_test_split(\n",
        "    train_val_data, train_val_labels, test_size=(val_ratio / remaining_ratio), random_state=1, stratify=train_val_labels)\n",
        "\n",
        "  print(train_data.shape)\n",
        "  print(val_data.shape)\n",
        "  print(test_data.shape)\n",
        "  print(train_labels.shape)\n",
        "  print(val_labels.shape)\n",
        "  print(test_labels.shape)"
      ],
      "metadata": {
        "id": "hsE9KdU_0cLP",
        "colab": {
          "base_uri": "https://localhost:8080/"
        },
        "outputId": "583cc997-3431-4fbc-97f1-0b549cced475"
      },
      "execution_count": 28,
      "outputs": [
        {
          "output_type": "stream",
          "name": "stdout",
          "text": [
            "(6660, 50)\n",
            "(833, 50)\n",
            "(833, 50)\n",
            "(6660,)\n",
            "(833,)\n",
            "(833,)\n"
          ]
        }
      ]
    },
    {
      "cell_type": "markdown",
      "source": [
        "# Tokenize Data"
      ],
      "metadata": {
        "id": "ylpUd0XH2k3o"
      }
    },
    {
      "cell_type": "code",
      "source": [
        "if algorithm_class == \"transformers\":\n",
        "  train_dataset = pd.DataFrame({\"text\": train_data, \"label\": train_labels})\n",
        "  val_dataset = pd.DataFrame({\"text\": val_data, \"label\": val_labels})\n",
        "  test_dataset = pd.DataFrame({\"text\": test_data, \"label\": test_labels})"
      ],
      "metadata": {
        "id": "2v8Zn9LZfde5"
      },
      "execution_count": 29,
      "outputs": []
    },
    {
      "cell_type": "code",
      "source": [
        "if algorithm_class == \"transformers\":\n",
        "  train_dataset = Dataset.from_pandas(train_dataset)\n",
        "  val_dataset = Dataset.from_pandas(val_dataset)\n",
        "  test_dataset = Dataset.from_pandas(test_dataset)"
      ],
      "metadata": {
        "id": "lvD18DG92IL8"
      },
      "execution_count": 30,
      "outputs": []
    },
    {
      "cell_type": "code",
      "source": [
        "def tokenize(batch):\n",
        "    return tokenizer(batch['text'], padding=True, truncation=True, max_length=256)"
      ],
      "metadata": {
        "id": "j7R1ioWN270W"
      },
      "execution_count": 31,
      "outputs": []
    },
    {
      "cell_type": "code",
      "source": [
        "if algorithm_class == \"transformers\":\n",
        "  tokenizer = AutoTokenizer.from_pretrained(transformer_model)"
      ],
      "metadata": {
        "id": "ZasF5TXN8yT3"
      },
      "execution_count": 32,
      "outputs": []
    },
    {
      "cell_type": "code",
      "source": [
        "if algorithm_class == \"transformers\":\n",
        "  encoded_train_dataset = train_dataset.map(tokenize, batched=True, batch_size=None)\n",
        "  encoded_val_dataset = val_dataset.map(tokenize, batched=True, batch_size=None)\n",
        "  encoded_test_dataset = test_dataset.map(tokenize, batched=True, batch_size=None)"
      ],
      "metadata": {
        "id": "X4b_UO0xhLPb"
      },
      "execution_count": 33,
      "outputs": []
    },
    {
      "cell_type": "markdown",
      "source": [
        "# Create Empty Dataframe to Store Results"
      ],
      "metadata": {
        "id": "D-ydJOXi9rg7"
      }
    },
    {
      "cell_type": "code",
      "source": [
        "if algorithm_class == \"machine-learning\":\n",
        "  results_df = pd.DataFrame(columns=[\"GNB\", \"BNB\", \"LR\", \"SVM\"],\n",
        "                            index=[\"Accuracy-Train\", \"Accuracy-Test\",\n",
        "                                  \"Execution-Train\", \"Execution-Test\",\n",
        "                                  \"Precision-Train\", \"Precision-Test\",\n",
        "                                  \"Recall-Train\", \"Recall-Test\",\n",
        "                                  \"MAR-Train\", \"MAR-Test\",\n",
        "                                  \"FAR-Train\", \"FAR-Test\",\n",
        "                                  \"F1-Train\", \"F1-Test\",\n",
        "                                  \"ROC-AUC-Train\", \"ROC-AUC-Test\"])\n",
        "\n",
        "elif algorithm_class == \"deep-learning\":\n",
        "  results_df = pd.DataFrame(columns=[\"LSTM\", \"GRU\", \"Bi-LSTM\", \"Bi-GRU\", \"M-LSTM\", \"M-GRU\", \"M-Bi-LSTM\", \"M-Bi-GRU\"],\n",
        "                            index=[\"Accuracy-Train\", \"Accuracy-Val\", \"Accuracy-Test\",\n",
        "                                    \"Loss-Train\", \"Loss-Val\", \"Loss-Test\",\n",
        "                                    \"Execution-Train\", \"Execution-Val\", \"Execution-Test\",\n",
        "                                    \"Precision-Train\", \"Precision-Val\", \"Precision-Test\",\n",
        "                                    \"Recall-Train\", \"Recall-Val\", \"Recall-Test\",\n",
        "                                    \"MAR-Train\", \"MAR-Val\", \"MAR-Test\",\n",
        "                                    \"FAR-Train\", \"FAR-Val\", \"FAR-Test\",\n",
        "                                    \"F1-Train\", \"F1-Val\", \"F1-Test\",\n",
        "                                    \"ROC-AUC-Train\", \"ROC-AUC-Val\", \"ROC-AUC-Test\"])\n",
        "\n",
        "elif algorithm_class == \"transfomers\":\n",
        "  results_df = pd.DataFrame(columns=[f\"{transformer_model}\"],\n",
        "                            index=[\"Accuracy-Train\", \"Accuracy-Val\", \"Accuracy-Test\",\n",
        "                                    \"Execution-Train\", \"Execution-Val\", \"Execution-Test\",\n",
        "                                    \"Precision-Train\", \"Precision-Val\", \"Precision-Test\",\n",
        "                                    \"Recall-Train\", \"Recall-Val\", \"Recall-Test\",\n",
        "                                    \"F1-Train\", \"F1-Val\", \"F1-Test\",\n",
        "                                    \"ROC-AUC-Train\", \"ROC-AUC-Val\", \"ROC-AUC-Test\"])"
      ],
      "metadata": {
        "id": "xogxL2H187MO"
      },
      "execution_count": 34,
      "outputs": []
    },
    {
      "cell_type": "markdown",
      "source": [
        "# Machine Learning"
      ],
      "metadata": {
        "id": "hqKXs9TpDkIV"
      }
    },
    {
      "cell_type": "markdown",
      "source": [
        "## Gaussian Naive Bayes"
      ],
      "metadata": {
        "id": "Q2Pt5vZdDmtF"
      }
    },
    {
      "cell_type": "code",
      "source": [
        "if machine_learning_algorithm == \"GNB\" and algorithm_class == \"machine-learning\":\n",
        "  start = time.time()\n",
        "  gnb = GaussianNB()\n",
        "  gnb.fit(train_data, train_labels)\n",
        "  end = time.time()\n",
        "  print(f\"{machine_learning_algorithm} (Train) Execution time: {end-start:.2f} seconds\")\n",
        "  results_df.at[\"Execution-Train\", machine_learning_algorithm] = end - start"
      ],
      "metadata": {
        "id": "gTJ8Gi_a95nV"
      },
      "execution_count": 35,
      "outputs": []
    },
    {
      "cell_type": "code",
      "source": [
        "if machine_learning_algorithm == \"GNB\" and algorithm_class == \"machine-learning\":\n",
        "  start = time.time()\n",
        "  gnb_accuracy = gnb.score(test_data, test_labels)\n",
        "  end = time.time()\n",
        "  print(f\"{machine_learning_algorithm} (Test) Execution time: {end-start:.2f} seconds\")\n",
        "  results_df.at[\"Execution-Test\", machine_learning_algorithm] = end - start"
      ],
      "metadata": {
        "id": "uQ8HflYMD-WO"
      },
      "execution_count": 36,
      "outputs": []
    },
    {
      "cell_type": "markdown",
      "source": [
        "## Bernoulli Naive Bayes"
      ],
      "metadata": {
        "id": "I4keBG81EC_1"
      }
    },
    {
      "cell_type": "code",
      "source": [
        "if machine_learning_algorithm == \"BNB\" and algorithm_class == \"machine-learning\":\n",
        "  start = time.time()\n",
        "  bnb = BernoulliNB()\n",
        "  bnb.fit(train_data, train_labels)\n",
        "  end = time.time()\n",
        "  print(f\"{machine_learning_algorithm} (Train) Execution time: {end-start:.2f} seconds\")\n",
        "  results_df.at[\"Execution-Train\", machine_learning_algorithm] = end - start"
      ],
      "metadata": {
        "id": "RghWLx3TECWS"
      },
      "execution_count": 37,
      "outputs": []
    },
    {
      "cell_type": "code",
      "source": [
        "if machine_learning_algorithm == \"BNB\" and algorithm_class == \"machine-learning\":\n",
        "  start = time.time()\n",
        "  bnb_accuracy = bnb.score(test_data, test_labels)\n",
        "  end = time.time()\n",
        "  print(f\"{machine_learning_algorithm} (Test) Execution time: {end-start:.2f} seconds\")\n",
        "  results_df.at[\"Execution-Test\", machine_learning_algorithm] = end - start"
      ],
      "metadata": {
        "id": "jRYTTemSEaYb"
      },
      "execution_count": 38,
      "outputs": []
    },
    {
      "cell_type": "markdown",
      "source": [
        "## Logistic Regression"
      ],
      "metadata": {
        "id": "Ep7pLqmREitI"
      }
    },
    {
      "cell_type": "code",
      "source": [
        "if machine_learning_algorithm == \"LR\" and algorithm_class == \"machine-learning\":\n",
        "  start = time.time()\n",
        "  lr = LogisticRegression()\n",
        "  lr.fit(train_data, train_labels)\n",
        "  end = time.time()\n",
        "  print(f\"{machine_learning_algorithm} (Train) Execution time: {end-start:.2f} seconds\")\n",
        "  results_df.at[\"Execution-Train\", machine_learning_algorithm] = end - start"
      ],
      "metadata": {
        "id": "tZLkkW9NEg9t"
      },
      "execution_count": 39,
      "outputs": []
    },
    {
      "cell_type": "code",
      "source": [
        "if machine_learning_algorithm == \"LR\" and algorithm_class == \"machine-learning\":\n",
        "  start = time.time()\n",
        "  lr_accuracy = lr.score(test_data, test_labels)\n",
        "  end = time.time()\n",
        "  print(f\"{machine_learning_algorithm} (Test) Execution time: {end-start:.2f} seconds\")\n",
        "  results_df.at[\"Execution-Test\", algorithm_machine_learning_algorithmname] = end - start"
      ],
      "metadata": {
        "id": "NZMBaboIEo1o"
      },
      "execution_count": 40,
      "outputs": []
    },
    {
      "cell_type": "markdown",
      "source": [
        "## Support Vector Machine"
      ],
      "metadata": {
        "id": "kpB0MU-2E59s"
      }
    },
    {
      "cell_type": "code",
      "source": [
        "if machine_learning_algorithm == \"SVM\" and algorithm_class == \"machine-learning\":\n",
        "  start = time.time()\n",
        "  svm = SVC(probability=True)\n",
        "  svm.fit(train_data, train_labels)\n",
        "  end = time.time()\n",
        "  print(f\"{machine_learning_algorithm} (Train) Execution time: {end-start:.2f} seconds\")\n",
        "  results_df.at[\"Execution-Train\", machine_learning_algorithm] = end - start"
      ],
      "metadata": {
        "id": "omJvpXa4E5F8"
      },
      "execution_count": 41,
      "outputs": []
    },
    {
      "cell_type": "code",
      "source": [
        "if machine_learning_algorithm == \"SVM\" and algorithm_class == \"machine-learning\":\n",
        "  start = time.time()\n",
        "  svm_accuracy = svm.score(test_data, test_labels)\n",
        "  end = time.time()\n",
        "  print(f\"{machine_learning_algorithm} (Test) Execution time: {end-start:.2f} seconds\")\n",
        "  results_df.at[\"Execution-Test\", machine_learning_algorithm] = end - start"
      ],
      "metadata": {
        "id": "usdwtuOLFB1V"
      },
      "execution_count": 42,
      "outputs": []
    },
    {
      "cell_type": "markdown",
      "source": [
        "## Evaluation"
      ],
      "metadata": {
        "id": "wt4CR7_lF13M"
      }
    },
    {
      "cell_type": "markdown",
      "source": [
        "### Predictions"
      ],
      "metadata": {
        "id": "1EAItPOeIC_P"
      }
    },
    {
      "cell_type": "markdown",
      "source": [
        "#### Train"
      ],
      "metadata": {
        "id": "O1KKNxwqIFp5"
      }
    },
    {
      "cell_type": "code",
      "source": [
        "if machine_learning_algorithm == \"GNB\" and algorithm_class == \"machine-learning\":\n",
        "    pred_train_labels = gnb.predict(train_data)\n",
        "\n",
        "elif machine_learning_algorithm == \"BNB\" and algorithm_class == \"machine-learning\":\n",
        "    pred_train_labels = bnb.predict(train_data)\n",
        "\n",
        "elif machine_learning_algorithm == \"LR\" and algorithm_class == \"machine-learning\":\n",
        "    pred_train_labels= lr.predict(train_data)\n",
        "\n",
        "elif machine_learning_algorithm == \"SVM\" and algorithm_class == \"machine-learning\":\n",
        "    pred_train_labels = svm.predict(train_data)"
      ],
      "metadata": {
        "id": "Hnt_Gq9bIHkq"
      },
      "execution_count": 43,
      "outputs": []
    },
    {
      "cell_type": "code",
      "source": [
        "if machine_learning_algorithm == \"GNB\" and algorithm_class == \"machine-learning\":\n",
        "    pred_prob_train_labels = gnb.predict_proba(train_data)[:, 1]\n",
        "\n",
        "elif machine_learning_algorithm == \"BNB\" and algorithm_class == \"machine-learning\":\n",
        "    pred_prob_train_labels = bnb.predict_proba(train_data)[:, 1]\n",
        "\n",
        "elif machine_learning_algorithm == \"LR\" and algorithm_class == \"machine-learning\":\n",
        "    pred_prob_train_labels = lr.predict_proba(train_data)[:, 1]\n",
        "\n",
        "elif machine_learning_algorithm == \"SVM\" and algorithm_class == \"machine-learning\":\n",
        "    pred_prob_train_labels = svm.predict_proba(train_data)[:, 1]"
      ],
      "metadata": {
        "id": "RTht3A7OI40V"
      },
      "execution_count": 44,
      "outputs": []
    },
    {
      "cell_type": "markdown",
      "source": [
        "#### Test"
      ],
      "metadata": {
        "id": "zjM1b-5MKIqZ"
      }
    },
    {
      "cell_type": "code",
      "source": [
        "if machine_learning_algorithm == \"GNB\" and algorithm_class == \"machine-learning\":\n",
        "    pred_test_labels = gnb.predict(test_data)\n",
        "\n",
        "elif machine_learning_algorithm == \"BNB\" and algorithm_class == \"machine-learning\":\n",
        "    pred_test_labels = bnb.predict(test_data)\n",
        "\n",
        "elif machine_learning_algorithm == \"LR\" and algorithm_class == \"machine-learning\":\n",
        "    pred_test_labels= lr.predict(test_data)\n",
        "\n",
        "elif machine_learning_algorithm == \"SVM\" and algorithm_class == \"machine-learning\":\n",
        "    pred_test_labels = svm.predict(test_data)"
      ],
      "metadata": {
        "id": "-1BTEvxnKLVR"
      },
      "execution_count": 45,
      "outputs": []
    },
    {
      "cell_type": "code",
      "source": [
        "if machine_learning_algorithm == \"GNB\" and algorithm_class == \"machine-learning\":\n",
        "    pred_prob_test_labels = gnb.predict_proba(test_data)[:, 1]\n",
        "\n",
        "elif machine_learning_algorithm == \"BNB\" and algorithm_class == \"machine-learning\":\n",
        "    pred_prob_test_labels = bnb.predict_proba(test_data)[:, 1]\n",
        "\n",
        "elif machine_learning_algorithm == \"LR\" and algorithm_class == \"machine-learning\":\n",
        "    pred_prob_test_labels = lr.predict_proba(test_data)[:, 1]\n",
        "\n",
        "elif machine_learning_algorithm == \"SVM\" and algorithm_class == \"machine-learning\":\n",
        "    pred_prob_test_labels = svm.predict_proba(test_data)[:, 1]"
      ],
      "metadata": {
        "id": "XwhjGYaRKVMf"
      },
      "execution_count": 46,
      "outputs": []
    },
    {
      "cell_type": "markdown",
      "source": [
        "### Accuracies"
      ],
      "metadata": {
        "id": "JtA_gL44F-Q3"
      }
    },
    {
      "cell_type": "markdown",
      "source": [
        "#### Train"
      ],
      "metadata": {
        "id": "OPgcBPZmGAY5"
      }
    },
    {
      "cell_type": "code",
      "source": [
        "if machine_learning_algorithm == \"GNB\" and algorithm_class == \"machine-learning\":\n",
        "  print(f\"Gaussian Naive Bayes Train Accuracy: {gnb.score(train_data, train_labels) * 100:.2f}\")\n",
        "  results_df.at[\"Accuracy-Train\", machine_learning_algorithm] = gnb.score(train_data, train_labels)\n",
        "\n",
        "elif machine_learning_algorithm == \"BNB\" and algorithm_class == \"machine-learning\":\n",
        "  print(f\"Bernoulli Naive Bayes Train Accuracy: {bnb.score(train_data, train_labels) * 100:.2f}\")\n",
        "  results_df.at[\"Accuracy-Train\", machine_learning_algorithm] = bnb.score(train_data, train_labels)\n",
        "\n",
        "elif machine_learning_algorithm == \"LR\" and algorithm_class == \"machine-learning\":\n",
        "  print(f\"Logistic Regression Train Accuracy: {lr.score(train_data, train_labels) * 100:.2f}\")\n",
        "  results_df.at[\"Accuracy-Train\", machine_learning_algorithm] = lr.score(train_data, train_labels)\n",
        "\n",
        "elif machine_learning_algorithm == \"SVM\" and algorithm_class == \"machine-learning\":\n",
        "  print(f\"SVM Train Accuracy: {svm.score(train_data, train_labels) * 100:.2f}\")\n",
        "  results_df.at[\"Accuracy-Train\", machine_learning_algorithm] = svm.score(train_data, train_labels)"
      ],
      "metadata": {
        "id": "ew-_u2vvFIL3"
      },
      "execution_count": 47,
      "outputs": []
    },
    {
      "cell_type": "markdown",
      "source": [
        "#### Test"
      ],
      "metadata": {
        "id": "Sgw51E35GteY"
      }
    },
    {
      "cell_type": "code",
      "source": [
        "if machine_learning_algorithm == \"GNB\" and algorithm_class == \"machine-learning\":\n",
        "  print(f\"Gaussian Naive Bayes Test Accuracy: {gnb_accuracy * 100:.2f}\")\n",
        "  results_df.at[\"Accuracy-Test\", machine_learning_algorithm] = gnb_accuracy\n",
        "\n",
        "elif machine_learning_algorithm == \"BNB\" and algorithm_class == \"machine-learning\":\n",
        "  print(f\"Bernoulli Naive Bayes Test Accuracy: {bnb_accuracy * 100:.2f}\")\n",
        "  results_df.at[\"Accuracy-Test\", machine_learning_algorithm] = bnb_accuracy\n",
        "\n",
        "elif machine_learning_algorithm == \"LR\" and algorithm_class == \"machine-learning\":\n",
        "  print(f\"Logistic Regression Test Accuracy: {lr_accuracy * 100:.2f}\")\n",
        "  results_df.at[\"Accuracy-Test\", machine_learning_algorithm] = lr_accuracy\n",
        "\n",
        "elif machine_learning_algorithm == \"SVM\" and algorithm_class == \"machine-learning\":\n",
        "  print(f\"SVM Test Accuracy: {svm_accuracy * 100:.2f}\")\n",
        "  results_df.at[\"Accuracy-Test\", machine_learning_algorithm] = svm_accuracy"
      ],
      "metadata": {
        "id": "AUYcklbLGhvy"
      },
      "execution_count": 48,
      "outputs": []
    },
    {
      "cell_type": "markdown",
      "source": [
        "### Precision, Recall and F1 Score"
      ],
      "metadata": {
        "id": "otqqhACAHJUp"
      }
    },
    {
      "cell_type": "markdown",
      "source": [
        "#### Train"
      ],
      "metadata": {
        "id": "aJOYTw-kHM18"
      }
    },
    {
      "cell_type": "code",
      "source": [
        "if algorithm_class == \"machine-learning\":\n",
        "  precision_train = precision_score(train_labels, pred_train_labels)\n",
        "  recall_train = recall_score(train_labels, pred_train_labels)\n",
        "  f1_train = f1_score(train_labels, pred_train_labels)\n",
        "\n",
        "  results_df.at[\"Precision-Train\", machine_learning_algorithm] = precision_train\n",
        "  results_df.at[\"Recall-Train\", machine_learning_algorithm] = recall_train\n",
        "  results_df.at[\"F1-Train\", machine_learning_algorithm] = f1_train\n",
        "\n",
        "  print(f\"{machine_learning_algorithm} (Train Set) - Precision: {precision_train:.4f}, Recall: {recall_train:.4f}, F1 Score: {f1_train:.4f}\")"
      ],
      "metadata": {
        "id": "rT_t-vnSHE9z"
      },
      "execution_count": 49,
      "outputs": []
    },
    {
      "cell_type": "markdown",
      "source": [
        "#### Test"
      ],
      "metadata": {
        "id": "jevmExFHJ2J3"
      }
    },
    {
      "cell_type": "code",
      "source": [
        "if algorithm_class == \"machine-learning\":\n",
        "  precision_test = precision_score(test_labels, pred_test_labels)\n",
        "  recall_test = recall_score(test_labels, pred_test_labels)\n",
        "  f1_test = f1_score(test_labels, pred_test_labels)\n",
        "\n",
        "  results_df.at[\"Precision-Test\", machine_learning_algorithm] = precision_test\n",
        "  results_df.at[\"Recall-Test\", machine_learning_algorithm] = recall_test\n",
        "  results_df.at[\"F1-Test\", machine_learning_algorithm] = f1_test\n",
        "\n",
        "  print(f\"{machine_learning_algorithm} (Test Set) - Precision: {precision_test:.4f}, Recall: {recall_test:.4f}, F1 Score: {f1_test:.4f}\")"
      ],
      "metadata": {
        "id": "vU5zQL7_J51Q"
      },
      "execution_count": 50,
      "outputs": []
    },
    {
      "cell_type": "markdown",
      "source": [
        "### MAR and FAR"
      ],
      "metadata": {
        "id": "M9IIScB1Khpt"
      }
    },
    {
      "cell_type": "code",
      "source": [
        "def compute_mar(TN, FP, FN, TP):\n",
        "    miss_alarm_rate = FN / (TP + FN)\n",
        "    return miss_alarm_rate"
      ],
      "metadata": {
        "id": "rOhuwt7FH0i0"
      },
      "execution_count": 51,
      "outputs": []
    },
    {
      "cell_type": "code",
      "source": [
        "def compute_far(TN, FP, FN, TP):\n",
        "    false_alarm_rate = FP / (FP + TN)\n",
        "    return false_alarm_rate"
      ],
      "metadata": {
        "id": "V_Dl_byQKkdm"
      },
      "execution_count": 52,
      "outputs": []
    },
    {
      "cell_type": "markdown",
      "source": [
        "#### Train"
      ],
      "metadata": {
        "id": "nUV0vIrKKqw7"
      }
    },
    {
      "cell_type": "code",
      "source": [
        "if algorithm_class == \"machine-learning\":\n",
        "  tn, fp, fn, tp = confusion_matrix(train_labels, pred_train_labels).ravel()\n",
        "\n",
        "  mar_train = compute_mar(tn, fp, fn, tp)\n",
        "  far_train = compute_far(tn, fp, fn, tp)\n",
        "\n",
        "  results_df.at[\"MAR-Train\", machine_learning_algorithm] = mar_train\n",
        "  results_df.at[\"FAR-Train\", machine_learning_algorithm] = far_train\n",
        "\n",
        "  print(f\"{machine_learning_algorithm} (Train Set) - MAR: {mar_train:.4f}, FAR: {far_train:.4f}\")"
      ],
      "metadata": {
        "id": "q-EiJFnZKnF3"
      },
      "execution_count": 53,
      "outputs": []
    },
    {
      "cell_type": "markdown",
      "source": [
        "#### Test"
      ],
      "metadata": {
        "id": "jt4yiRzbK3Ph"
      }
    },
    {
      "cell_type": "code",
      "source": [
        "if algorithm_class == \"machine-learning\":\n",
        "  tn, fp, fn, tp = confusion_matrix(test_labels, pred_test_labels).ravel()\n",
        "\n",
        "  mar_test = compute_mar(tn, fp, fn, tp)\n",
        "  far_test = compute_far(tn, fp, fn, tp)\n",
        "\n",
        "  results_df.at[\"MAR-Test\", machine_learning_algorithm] = mar_test\n",
        "  results_df.at[\"FAR-Test\", machine_learning_algorithm] = far_test\n",
        "\n",
        "  print(f\"{machine_learning_algorithm} (Test Set) - MAR: {mar_test:.4f}, FAR: {far_test:.4f}\")"
      ],
      "metadata": {
        "id": "Mh5Xe3-mK1ib"
      },
      "execution_count": 54,
      "outputs": []
    },
    {
      "cell_type": "markdown",
      "source": [
        "### ROC and AUC"
      ],
      "metadata": {
        "id": "vBCbViV-LBD-"
      }
    },
    {
      "cell_type": "markdown",
      "source": [
        "#### Train"
      ],
      "metadata": {
        "id": "Z7rWi-DSLEp4"
      }
    },
    {
      "cell_type": "code",
      "source": [
        "if algorithm_class == \"machine-learning\":\n",
        "  # Compute ROC curve and AUC\n",
        "  fpr_train, tpr_train, thresholds_train = roc_curve(train_labels, pred_prob_train_labels)\n",
        "  roc_auc_train = auc(fpr_train, tpr_train)\n",
        "  results_df.at[\"ROC-AUC-Train\", machine_learning_algorithm] = roc_auc_train\n",
        "\n",
        "  # Plot ROC curve\n",
        "  plt.figure(figsize=(6, 4))\n",
        "  plt.plot(fpr_train, tpr_train, color='red', lw=2, label=f'ROC curve (AUC = {roc_auc_train:.2f})')\n",
        "  plt.plot([0, 1], [0, 1], color='black', lw=2, linestyle='--')\n",
        "  plt.xlim([0.0, 1.0])\n",
        "  plt.ylim([0.0, 1.05])\n",
        "  plt.xlabel('False Positive Rate')\n",
        "  plt.ylabel('True Positive Rate')\n",
        "  plt.title(f'{machine_learning_algorithm} - Receiver Operating Characteristic (Train)')\n",
        "  plt.legend(loc=\"lower right\")\n",
        "  if save_results:\n",
        "      plt.savefig(f\"RESULTS/ML/PLOTS/{embedding_method_name}_{machine_learning_algorithm}_ROC_Train\")\n",
        "  plt.show()\n",
        "\n",
        "  # Print AUC score\n",
        "  print(f\"{machine_learning_algorithm} AUC: {roc_auc_train:.4f}\")"
      ],
      "metadata": {
        "id": "-pWgKP1LLCo2"
      },
      "execution_count": 55,
      "outputs": []
    },
    {
      "cell_type": "markdown",
      "source": [
        "#### Test"
      ],
      "metadata": {
        "id": "R3gRs4DLLgKf"
      }
    },
    {
      "cell_type": "code",
      "source": [
        "if algorithm_class == \"machine-learning\":\n",
        "  # Compute ROC curve and AUC\n",
        "  fpr_test, tpr_test, thresholds_test = roc_curve(test_labels, pred_prob_test_labels)\n",
        "  roc_auc_test = auc(fpr_test, tpr_test)\n",
        "  results_df.at[\"ROC-AUC-Test\", machine_learning_algorithm] = roc_auc_test\n",
        "\n",
        "  # Plot ROC curve\n",
        "  plt.figure(figsize=(6, 4))\n",
        "  plt.plot(fpr_test, tpr_test, color='red', lw=2, label=f'ROC curve (AUC = {roc_auc_test:.2f})')\n",
        "  plt.plot([0, 1], [0, 1], color='black', lw=2, linestyle='--')\n",
        "  plt.xlim([0.0, 1.0])\n",
        "  plt.ylim([0.0, 1.05])\n",
        "  plt.xlabel('False Positive Rate')\n",
        "  plt.ylabel('True Positive Rate')\n",
        "  plt.title(f'{machine_learning_algorithm} - Receiver Operating Characteristic (Test)')\n",
        "  plt.legend(loc=\"lower right\")\n",
        "  if save_results:\n",
        "      plt.savefig(f\"RESULTS/ML/PLOTS/{embedding_method_name}_{machine_learning_algorithm}_ROC_Test\")\n",
        "  plt.show()"
      ],
      "metadata": {
        "id": "MUG2sGqrLcDn"
      },
      "execution_count": 56,
      "outputs": []
    },
    {
      "cell_type": "markdown",
      "source": [
        "### Confusion Matrix"
      ],
      "metadata": {
        "id": "FkP3KaDtLun-"
      }
    },
    {
      "cell_type": "markdown",
      "source": [
        "#### Train"
      ],
      "metadata": {
        "id": "z8XKSfrLLx7o"
      }
    },
    {
      "cell_type": "code",
      "source": [
        "if algorithm_class == \"machine-learning\":\n",
        "  # Create a confusion matrix\n",
        "  cm = confusion_matrix(train_labels, pred_train_labels)\n",
        "\n",
        "  # Use matplotlib to create a heatmap\n",
        "  plt.figure(figsize=(4, 4))\n",
        "  plt.imshow(cm, interpolation='nearest', cmap=plt.cm.Reds)\n",
        "\n",
        "  # Set up the labels\n",
        "  tick_marks = np.arange(2)  # there are 2 classes: 0 and 1\n",
        "  plt.xticks(tick_marks, [0, 1])\n",
        "  plt.yticks(tick_marks, [0, 1], rotation=90)\n",
        "\n",
        "  # Add the values in the cells\n",
        "  thresh = cm.max() / 2.\n",
        "  for i, j in itertools.product(range(cm.shape[0]), range(cm.shape[1])):\n",
        "      plt.text(j, i, format(cm[i, j], 'd'),\n",
        "              horizontalalignment=\"center\",\n",
        "              color=\"white\" if cm[i, j] > thresh else \"black\")\n",
        "\n",
        "  plt.tight_layout()\n",
        "  plt.title(f'{machine_learning_algorithm} - Confusion Matrix (Train)')\n",
        "  plt.xlabel('Predicted')\n",
        "  plt.ylabel('True')\n",
        "  if save_results:\n",
        "      plt.savefig(f\"RESULTS/ML/PLOTS/{embedding_method_name}_{machine_learning_algorithm}_CM_Train\", bbox_inches='tight')\n",
        "  plt.show()"
      ],
      "metadata": {
        "id": "La5othuGLsoD"
      },
      "execution_count": 57,
      "outputs": []
    },
    {
      "cell_type": "markdown",
      "source": [
        "#### Test"
      ],
      "metadata": {
        "id": "PWizXuwEL8XY"
      }
    },
    {
      "cell_type": "code",
      "source": [
        "if algorithm_class == \"machine-learning\":\n",
        "  # Create a confusion matrix\n",
        "  cm = confusion_matrix(test_labels, pred_test_labels)\n",
        "\n",
        "  # Use matplotlib to create a heatmap\n",
        "  plt.figure(figsize=(4, 4))\n",
        "  plt.imshow(cm, interpolation='nearest', cmap=plt.cm.Reds)\n",
        "\n",
        "  # Set up the labels\n",
        "  tick_marks = np.arange(2)  # there are 2 classes: 0 and 1\n",
        "  plt.xticks(tick_marks, [0, 1])\n",
        "  plt.yticks(tick_marks, [0, 1], rotation=90)\n",
        "\n",
        "  # Add the values in the cells\n",
        "  thresh = cm.max() / 2.\n",
        "  for i, j in itertools.product(range(cm.shape[0]), range(cm.shape[1])):\n",
        "      plt.text(j, i, format(cm[i, j], 'd'),\n",
        "              horizontalalignment=\"center\",\n",
        "              color=\"white\" if cm[i, j] > thresh else \"black\")\n",
        "\n",
        "  plt.tight_layout()\n",
        "  plt.title(f'{machine_learning_algorithm} - Confusion Matrix (Test)')\n",
        "  plt.xlabel('Predicted')\n",
        "  plt.ylabel('True')\n",
        "  if save_results:\n",
        "      plt.savefig(f\"RESULTS/ML/PLOTS/{embedding_method_name}_{machine_learning_algorithm}_CM_Test\", bbox_inches='tight')\n",
        "  plt.show()"
      ],
      "metadata": {
        "id": "7EtTV66cL7TH"
      },
      "execution_count": 58,
      "outputs": []
    },
    {
      "cell_type": "code",
      "source": [
        "if save_results == True and algorithm_class == \"machine-learning\":\n",
        "    results_df.to_csv(f\"RESULTS/ML/METRICS/{embedding_method_name}_results.csv\")"
      ],
      "metadata": {
        "id": "czYZwCx0MSjs"
      },
      "execution_count": 59,
      "outputs": []
    },
    {
      "cell_type": "code",
      "source": [
        "results_df"
      ],
      "metadata": {
        "id": "JjHqok3pFvBf",
        "colab": {
          "base_uri": "https://localhost:8080/",
          "height": 896
        },
        "outputId": "580f915a-db40-48e0-9099-3ec22325024e"
      },
      "execution_count": 60,
      "outputs": [
        {
          "output_type": "execute_result",
          "data": {
            "text/plain": [
              "                LSTM  GRU Bi-LSTM Bi-GRU M-LSTM M-GRU M-Bi-LSTM M-Bi-GRU\n",
              "Accuracy-Train   NaN  NaN     NaN    NaN    NaN   NaN       NaN      NaN\n",
              "Accuracy-Val     NaN  NaN     NaN    NaN    NaN   NaN       NaN      NaN\n",
              "Accuracy-Test    NaN  NaN     NaN    NaN    NaN   NaN       NaN      NaN\n",
              "Loss-Train       NaN  NaN     NaN    NaN    NaN   NaN       NaN      NaN\n",
              "Loss-Val         NaN  NaN     NaN    NaN    NaN   NaN       NaN      NaN\n",
              "Loss-Test        NaN  NaN     NaN    NaN    NaN   NaN       NaN      NaN\n",
              "Execution-Train  NaN  NaN     NaN    NaN    NaN   NaN       NaN      NaN\n",
              "Execution-Val    NaN  NaN     NaN    NaN    NaN   NaN       NaN      NaN\n",
              "Execution-Test   NaN  NaN     NaN    NaN    NaN   NaN       NaN      NaN\n",
              "Precision-Train  NaN  NaN     NaN    NaN    NaN   NaN       NaN      NaN\n",
              "Precision-Val    NaN  NaN     NaN    NaN    NaN   NaN       NaN      NaN\n",
              "Precision-Test   NaN  NaN     NaN    NaN    NaN   NaN       NaN      NaN\n",
              "Recall-Train     NaN  NaN     NaN    NaN    NaN   NaN       NaN      NaN\n",
              "Recall-Val       NaN  NaN     NaN    NaN    NaN   NaN       NaN      NaN\n",
              "Recall-Test      NaN  NaN     NaN    NaN    NaN   NaN       NaN      NaN\n",
              "MAR-Train        NaN  NaN     NaN    NaN    NaN   NaN       NaN      NaN\n",
              "MAR-Val          NaN  NaN     NaN    NaN    NaN   NaN       NaN      NaN\n",
              "MAR-Test         NaN  NaN     NaN    NaN    NaN   NaN       NaN      NaN\n",
              "FAR-Train        NaN  NaN     NaN    NaN    NaN   NaN       NaN      NaN\n",
              "FAR-Val          NaN  NaN     NaN    NaN    NaN   NaN       NaN      NaN\n",
              "FAR-Test         NaN  NaN     NaN    NaN    NaN   NaN       NaN      NaN\n",
              "F1-Train         NaN  NaN     NaN    NaN    NaN   NaN       NaN      NaN\n",
              "F1-Val           NaN  NaN     NaN    NaN    NaN   NaN       NaN      NaN\n",
              "F1-Test          NaN  NaN     NaN    NaN    NaN   NaN       NaN      NaN\n",
              "ROC-AUC-Train    NaN  NaN     NaN    NaN    NaN   NaN       NaN      NaN\n",
              "ROC-AUC-Val      NaN  NaN     NaN    NaN    NaN   NaN       NaN      NaN\n",
              "ROC-AUC-Test     NaN  NaN     NaN    NaN    NaN   NaN       NaN      NaN"
            ],
            "text/html": [
              "\n",
              "  <div id=\"df-5d5b4235-fc18-48ba-8f81-6b37fb8b98c8\" class=\"colab-df-container\">\n",
              "    <div>\n",
              "<style scoped>\n",
              "    .dataframe tbody tr th:only-of-type {\n",
              "        vertical-align: middle;\n",
              "    }\n",
              "\n",
              "    .dataframe tbody tr th {\n",
              "        vertical-align: top;\n",
              "    }\n",
              "\n",
              "    .dataframe thead th {\n",
              "        text-align: right;\n",
              "    }\n",
              "</style>\n",
              "<table border=\"1\" class=\"dataframe\">\n",
              "  <thead>\n",
              "    <tr style=\"text-align: right;\">\n",
              "      <th></th>\n",
              "      <th>LSTM</th>\n",
              "      <th>GRU</th>\n",
              "      <th>Bi-LSTM</th>\n",
              "      <th>Bi-GRU</th>\n",
              "      <th>M-LSTM</th>\n",
              "      <th>M-GRU</th>\n",
              "      <th>M-Bi-LSTM</th>\n",
              "      <th>M-Bi-GRU</th>\n",
              "    </tr>\n",
              "  </thead>\n",
              "  <tbody>\n",
              "    <tr>\n",
              "      <th>Accuracy-Train</th>\n",
              "      <td>NaN</td>\n",
              "      <td>NaN</td>\n",
              "      <td>NaN</td>\n",
              "      <td>NaN</td>\n",
              "      <td>NaN</td>\n",
              "      <td>NaN</td>\n",
              "      <td>NaN</td>\n",
              "      <td>NaN</td>\n",
              "    </tr>\n",
              "    <tr>\n",
              "      <th>Accuracy-Val</th>\n",
              "      <td>NaN</td>\n",
              "      <td>NaN</td>\n",
              "      <td>NaN</td>\n",
              "      <td>NaN</td>\n",
              "      <td>NaN</td>\n",
              "      <td>NaN</td>\n",
              "      <td>NaN</td>\n",
              "      <td>NaN</td>\n",
              "    </tr>\n",
              "    <tr>\n",
              "      <th>Accuracy-Test</th>\n",
              "      <td>NaN</td>\n",
              "      <td>NaN</td>\n",
              "      <td>NaN</td>\n",
              "      <td>NaN</td>\n",
              "      <td>NaN</td>\n",
              "      <td>NaN</td>\n",
              "      <td>NaN</td>\n",
              "      <td>NaN</td>\n",
              "    </tr>\n",
              "    <tr>\n",
              "      <th>Loss-Train</th>\n",
              "      <td>NaN</td>\n",
              "      <td>NaN</td>\n",
              "      <td>NaN</td>\n",
              "      <td>NaN</td>\n",
              "      <td>NaN</td>\n",
              "      <td>NaN</td>\n",
              "      <td>NaN</td>\n",
              "      <td>NaN</td>\n",
              "    </tr>\n",
              "    <tr>\n",
              "      <th>Loss-Val</th>\n",
              "      <td>NaN</td>\n",
              "      <td>NaN</td>\n",
              "      <td>NaN</td>\n",
              "      <td>NaN</td>\n",
              "      <td>NaN</td>\n",
              "      <td>NaN</td>\n",
              "      <td>NaN</td>\n",
              "      <td>NaN</td>\n",
              "    </tr>\n",
              "    <tr>\n",
              "      <th>Loss-Test</th>\n",
              "      <td>NaN</td>\n",
              "      <td>NaN</td>\n",
              "      <td>NaN</td>\n",
              "      <td>NaN</td>\n",
              "      <td>NaN</td>\n",
              "      <td>NaN</td>\n",
              "      <td>NaN</td>\n",
              "      <td>NaN</td>\n",
              "    </tr>\n",
              "    <tr>\n",
              "      <th>Execution-Train</th>\n",
              "      <td>NaN</td>\n",
              "      <td>NaN</td>\n",
              "      <td>NaN</td>\n",
              "      <td>NaN</td>\n",
              "      <td>NaN</td>\n",
              "      <td>NaN</td>\n",
              "      <td>NaN</td>\n",
              "      <td>NaN</td>\n",
              "    </tr>\n",
              "    <tr>\n",
              "      <th>Execution-Val</th>\n",
              "      <td>NaN</td>\n",
              "      <td>NaN</td>\n",
              "      <td>NaN</td>\n",
              "      <td>NaN</td>\n",
              "      <td>NaN</td>\n",
              "      <td>NaN</td>\n",
              "      <td>NaN</td>\n",
              "      <td>NaN</td>\n",
              "    </tr>\n",
              "    <tr>\n",
              "      <th>Execution-Test</th>\n",
              "      <td>NaN</td>\n",
              "      <td>NaN</td>\n",
              "      <td>NaN</td>\n",
              "      <td>NaN</td>\n",
              "      <td>NaN</td>\n",
              "      <td>NaN</td>\n",
              "      <td>NaN</td>\n",
              "      <td>NaN</td>\n",
              "    </tr>\n",
              "    <tr>\n",
              "      <th>Precision-Train</th>\n",
              "      <td>NaN</td>\n",
              "      <td>NaN</td>\n",
              "      <td>NaN</td>\n",
              "      <td>NaN</td>\n",
              "      <td>NaN</td>\n",
              "      <td>NaN</td>\n",
              "      <td>NaN</td>\n",
              "      <td>NaN</td>\n",
              "    </tr>\n",
              "    <tr>\n",
              "      <th>Precision-Val</th>\n",
              "      <td>NaN</td>\n",
              "      <td>NaN</td>\n",
              "      <td>NaN</td>\n",
              "      <td>NaN</td>\n",
              "      <td>NaN</td>\n",
              "      <td>NaN</td>\n",
              "      <td>NaN</td>\n",
              "      <td>NaN</td>\n",
              "    </tr>\n",
              "    <tr>\n",
              "      <th>Precision-Test</th>\n",
              "      <td>NaN</td>\n",
              "      <td>NaN</td>\n",
              "      <td>NaN</td>\n",
              "      <td>NaN</td>\n",
              "      <td>NaN</td>\n",
              "      <td>NaN</td>\n",
              "      <td>NaN</td>\n",
              "      <td>NaN</td>\n",
              "    </tr>\n",
              "    <tr>\n",
              "      <th>Recall-Train</th>\n",
              "      <td>NaN</td>\n",
              "      <td>NaN</td>\n",
              "      <td>NaN</td>\n",
              "      <td>NaN</td>\n",
              "      <td>NaN</td>\n",
              "      <td>NaN</td>\n",
              "      <td>NaN</td>\n",
              "      <td>NaN</td>\n",
              "    </tr>\n",
              "    <tr>\n",
              "      <th>Recall-Val</th>\n",
              "      <td>NaN</td>\n",
              "      <td>NaN</td>\n",
              "      <td>NaN</td>\n",
              "      <td>NaN</td>\n",
              "      <td>NaN</td>\n",
              "      <td>NaN</td>\n",
              "      <td>NaN</td>\n",
              "      <td>NaN</td>\n",
              "    </tr>\n",
              "    <tr>\n",
              "      <th>Recall-Test</th>\n",
              "      <td>NaN</td>\n",
              "      <td>NaN</td>\n",
              "      <td>NaN</td>\n",
              "      <td>NaN</td>\n",
              "      <td>NaN</td>\n",
              "      <td>NaN</td>\n",
              "      <td>NaN</td>\n",
              "      <td>NaN</td>\n",
              "    </tr>\n",
              "    <tr>\n",
              "      <th>MAR-Train</th>\n",
              "      <td>NaN</td>\n",
              "      <td>NaN</td>\n",
              "      <td>NaN</td>\n",
              "      <td>NaN</td>\n",
              "      <td>NaN</td>\n",
              "      <td>NaN</td>\n",
              "      <td>NaN</td>\n",
              "      <td>NaN</td>\n",
              "    </tr>\n",
              "    <tr>\n",
              "      <th>MAR-Val</th>\n",
              "      <td>NaN</td>\n",
              "      <td>NaN</td>\n",
              "      <td>NaN</td>\n",
              "      <td>NaN</td>\n",
              "      <td>NaN</td>\n",
              "      <td>NaN</td>\n",
              "      <td>NaN</td>\n",
              "      <td>NaN</td>\n",
              "    </tr>\n",
              "    <tr>\n",
              "      <th>MAR-Test</th>\n",
              "      <td>NaN</td>\n",
              "      <td>NaN</td>\n",
              "      <td>NaN</td>\n",
              "      <td>NaN</td>\n",
              "      <td>NaN</td>\n",
              "      <td>NaN</td>\n",
              "      <td>NaN</td>\n",
              "      <td>NaN</td>\n",
              "    </tr>\n",
              "    <tr>\n",
              "      <th>FAR-Train</th>\n",
              "      <td>NaN</td>\n",
              "      <td>NaN</td>\n",
              "      <td>NaN</td>\n",
              "      <td>NaN</td>\n",
              "      <td>NaN</td>\n",
              "      <td>NaN</td>\n",
              "      <td>NaN</td>\n",
              "      <td>NaN</td>\n",
              "    </tr>\n",
              "    <tr>\n",
              "      <th>FAR-Val</th>\n",
              "      <td>NaN</td>\n",
              "      <td>NaN</td>\n",
              "      <td>NaN</td>\n",
              "      <td>NaN</td>\n",
              "      <td>NaN</td>\n",
              "      <td>NaN</td>\n",
              "      <td>NaN</td>\n",
              "      <td>NaN</td>\n",
              "    </tr>\n",
              "    <tr>\n",
              "      <th>FAR-Test</th>\n",
              "      <td>NaN</td>\n",
              "      <td>NaN</td>\n",
              "      <td>NaN</td>\n",
              "      <td>NaN</td>\n",
              "      <td>NaN</td>\n",
              "      <td>NaN</td>\n",
              "      <td>NaN</td>\n",
              "      <td>NaN</td>\n",
              "    </tr>\n",
              "    <tr>\n",
              "      <th>F1-Train</th>\n",
              "      <td>NaN</td>\n",
              "      <td>NaN</td>\n",
              "      <td>NaN</td>\n",
              "      <td>NaN</td>\n",
              "      <td>NaN</td>\n",
              "      <td>NaN</td>\n",
              "      <td>NaN</td>\n",
              "      <td>NaN</td>\n",
              "    </tr>\n",
              "    <tr>\n",
              "      <th>F1-Val</th>\n",
              "      <td>NaN</td>\n",
              "      <td>NaN</td>\n",
              "      <td>NaN</td>\n",
              "      <td>NaN</td>\n",
              "      <td>NaN</td>\n",
              "      <td>NaN</td>\n",
              "      <td>NaN</td>\n",
              "      <td>NaN</td>\n",
              "    </tr>\n",
              "    <tr>\n",
              "      <th>F1-Test</th>\n",
              "      <td>NaN</td>\n",
              "      <td>NaN</td>\n",
              "      <td>NaN</td>\n",
              "      <td>NaN</td>\n",
              "      <td>NaN</td>\n",
              "      <td>NaN</td>\n",
              "      <td>NaN</td>\n",
              "      <td>NaN</td>\n",
              "    </tr>\n",
              "    <tr>\n",
              "      <th>ROC-AUC-Train</th>\n",
              "      <td>NaN</td>\n",
              "      <td>NaN</td>\n",
              "      <td>NaN</td>\n",
              "      <td>NaN</td>\n",
              "      <td>NaN</td>\n",
              "      <td>NaN</td>\n",
              "      <td>NaN</td>\n",
              "      <td>NaN</td>\n",
              "    </tr>\n",
              "    <tr>\n",
              "      <th>ROC-AUC-Val</th>\n",
              "      <td>NaN</td>\n",
              "      <td>NaN</td>\n",
              "      <td>NaN</td>\n",
              "      <td>NaN</td>\n",
              "      <td>NaN</td>\n",
              "      <td>NaN</td>\n",
              "      <td>NaN</td>\n",
              "      <td>NaN</td>\n",
              "    </tr>\n",
              "    <tr>\n",
              "      <th>ROC-AUC-Test</th>\n",
              "      <td>NaN</td>\n",
              "      <td>NaN</td>\n",
              "      <td>NaN</td>\n",
              "      <td>NaN</td>\n",
              "      <td>NaN</td>\n",
              "      <td>NaN</td>\n",
              "      <td>NaN</td>\n",
              "      <td>NaN</td>\n",
              "    </tr>\n",
              "  </tbody>\n",
              "</table>\n",
              "</div>\n",
              "    <div class=\"colab-df-buttons\">\n",
              "\n",
              "  <div class=\"colab-df-container\">\n",
              "    <button class=\"colab-df-convert\" onclick=\"convertToInteractive('df-5d5b4235-fc18-48ba-8f81-6b37fb8b98c8')\"\n",
              "            title=\"Convert this dataframe to an interactive table.\"\n",
              "            style=\"display:none;\">\n",
              "\n",
              "  <svg xmlns=\"http://www.w3.org/2000/svg\" height=\"24px\" viewBox=\"0 -960 960 960\">\n",
              "    <path d=\"M120-120v-720h720v720H120Zm60-500h600v-160H180v160Zm220 220h160v-160H400v160Zm0 220h160v-160H400v160ZM180-400h160v-160H180v160Zm440 0h160v-160H620v160ZM180-180h160v-160H180v160Zm440 0h160v-160H620v160Z\"/>\n",
              "  </svg>\n",
              "    </button>\n",
              "\n",
              "  <style>\n",
              "    .colab-df-container {\n",
              "      display:flex;\n",
              "      gap: 12px;\n",
              "    }\n",
              "\n",
              "    .colab-df-convert {\n",
              "      background-color: #E8F0FE;\n",
              "      border: none;\n",
              "      border-radius: 50%;\n",
              "      cursor: pointer;\n",
              "      display: none;\n",
              "      fill: #1967D2;\n",
              "      height: 32px;\n",
              "      padding: 0 0 0 0;\n",
              "      width: 32px;\n",
              "    }\n",
              "\n",
              "    .colab-df-convert:hover {\n",
              "      background-color: #E2EBFA;\n",
              "      box-shadow: 0px 1px 2px rgba(60, 64, 67, 0.3), 0px 1px 3px 1px rgba(60, 64, 67, 0.15);\n",
              "      fill: #174EA6;\n",
              "    }\n",
              "\n",
              "    .colab-df-buttons div {\n",
              "      margin-bottom: 4px;\n",
              "    }\n",
              "\n",
              "    [theme=dark] .colab-df-convert {\n",
              "      background-color: #3B4455;\n",
              "      fill: #D2E3FC;\n",
              "    }\n",
              "\n",
              "    [theme=dark] .colab-df-convert:hover {\n",
              "      background-color: #434B5C;\n",
              "      box-shadow: 0px 1px 3px 1px rgba(0, 0, 0, 0.15);\n",
              "      filter: drop-shadow(0px 1px 2px rgba(0, 0, 0, 0.3));\n",
              "      fill: #FFFFFF;\n",
              "    }\n",
              "  </style>\n",
              "\n",
              "    <script>\n",
              "      const buttonEl =\n",
              "        document.querySelector('#df-5d5b4235-fc18-48ba-8f81-6b37fb8b98c8 button.colab-df-convert');\n",
              "      buttonEl.style.display =\n",
              "        google.colab.kernel.accessAllowed ? 'block' : 'none';\n",
              "\n",
              "      async function convertToInteractive(key) {\n",
              "        const element = document.querySelector('#df-5d5b4235-fc18-48ba-8f81-6b37fb8b98c8');\n",
              "        const dataTable =\n",
              "          await google.colab.kernel.invokeFunction('convertToInteractive',\n",
              "                                                    [key], {});\n",
              "        if (!dataTable) return;\n",
              "\n",
              "        const docLinkHtml = 'Like what you see? Visit the ' +\n",
              "          '<a target=\"_blank\" href=https://colab.research.google.com/notebooks/data_table.ipynb>data table notebook</a>'\n",
              "          + ' to learn more about interactive tables.';\n",
              "        element.innerHTML = '';\n",
              "        dataTable['output_type'] = 'display_data';\n",
              "        await google.colab.output.renderOutput(dataTable, element);\n",
              "        const docLink = document.createElement('div');\n",
              "        docLink.innerHTML = docLinkHtml;\n",
              "        element.appendChild(docLink);\n",
              "      }\n",
              "    </script>\n",
              "  </div>\n",
              "\n",
              "\n",
              "<div id=\"df-991bdc65-311d-4d52-8bbf-b34617edbbf1\">\n",
              "  <button class=\"colab-df-quickchart\" onclick=\"quickchart('df-991bdc65-311d-4d52-8bbf-b34617edbbf1')\"\n",
              "            title=\"Suggest charts\"\n",
              "            style=\"display:none;\">\n",
              "\n",
              "<svg xmlns=\"http://www.w3.org/2000/svg\" height=\"24px\"viewBox=\"0 0 24 24\"\n",
              "     width=\"24px\">\n",
              "    <g>\n",
              "        <path d=\"M19 3H5c-1.1 0-2 .9-2 2v14c0 1.1.9 2 2 2h14c1.1 0 2-.9 2-2V5c0-1.1-.9-2-2-2zM9 17H7v-7h2v7zm4 0h-2V7h2v10zm4 0h-2v-4h2v4z\"/>\n",
              "    </g>\n",
              "</svg>\n",
              "  </button>\n",
              "\n",
              "<style>\n",
              "  .colab-df-quickchart {\n",
              "      --bg-color: #E8F0FE;\n",
              "      --fill-color: #1967D2;\n",
              "      --hover-bg-color: #E2EBFA;\n",
              "      --hover-fill-color: #174EA6;\n",
              "      --disabled-fill-color: #AAA;\n",
              "      --disabled-bg-color: #DDD;\n",
              "  }\n",
              "\n",
              "  [theme=dark] .colab-df-quickchart {\n",
              "      --bg-color: #3B4455;\n",
              "      --fill-color: #D2E3FC;\n",
              "      --hover-bg-color: #434B5C;\n",
              "      --hover-fill-color: #FFFFFF;\n",
              "      --disabled-bg-color: #3B4455;\n",
              "      --disabled-fill-color: #666;\n",
              "  }\n",
              "\n",
              "  .colab-df-quickchart {\n",
              "    background-color: var(--bg-color);\n",
              "    border: none;\n",
              "    border-radius: 50%;\n",
              "    cursor: pointer;\n",
              "    display: none;\n",
              "    fill: var(--fill-color);\n",
              "    height: 32px;\n",
              "    padding: 0;\n",
              "    width: 32px;\n",
              "  }\n",
              "\n",
              "  .colab-df-quickchart:hover {\n",
              "    background-color: var(--hover-bg-color);\n",
              "    box-shadow: 0 1px 2px rgba(60, 64, 67, 0.3), 0 1px 3px 1px rgba(60, 64, 67, 0.15);\n",
              "    fill: var(--button-hover-fill-color);\n",
              "  }\n",
              "\n",
              "  .colab-df-quickchart-complete:disabled,\n",
              "  .colab-df-quickchart-complete:disabled:hover {\n",
              "    background-color: var(--disabled-bg-color);\n",
              "    fill: var(--disabled-fill-color);\n",
              "    box-shadow: none;\n",
              "  }\n",
              "\n",
              "  .colab-df-spinner {\n",
              "    border: 2px solid var(--fill-color);\n",
              "    border-color: transparent;\n",
              "    border-bottom-color: var(--fill-color);\n",
              "    animation:\n",
              "      spin 1s steps(1) infinite;\n",
              "  }\n",
              "\n",
              "  @keyframes spin {\n",
              "    0% {\n",
              "      border-color: transparent;\n",
              "      border-bottom-color: var(--fill-color);\n",
              "      border-left-color: var(--fill-color);\n",
              "    }\n",
              "    20% {\n",
              "      border-color: transparent;\n",
              "      border-left-color: var(--fill-color);\n",
              "      border-top-color: var(--fill-color);\n",
              "    }\n",
              "    30% {\n",
              "      border-color: transparent;\n",
              "      border-left-color: var(--fill-color);\n",
              "      border-top-color: var(--fill-color);\n",
              "      border-right-color: var(--fill-color);\n",
              "    }\n",
              "    40% {\n",
              "      border-color: transparent;\n",
              "      border-right-color: var(--fill-color);\n",
              "      border-top-color: var(--fill-color);\n",
              "    }\n",
              "    60% {\n",
              "      border-color: transparent;\n",
              "      border-right-color: var(--fill-color);\n",
              "    }\n",
              "    80% {\n",
              "      border-color: transparent;\n",
              "      border-right-color: var(--fill-color);\n",
              "      border-bottom-color: var(--fill-color);\n",
              "    }\n",
              "    90% {\n",
              "      border-color: transparent;\n",
              "      border-bottom-color: var(--fill-color);\n",
              "    }\n",
              "  }\n",
              "</style>\n",
              "\n",
              "  <script>\n",
              "    async function quickchart(key) {\n",
              "      const quickchartButtonEl =\n",
              "        document.querySelector('#' + key + ' button');\n",
              "      quickchartButtonEl.disabled = true;  // To prevent multiple clicks.\n",
              "      quickchartButtonEl.classList.add('colab-df-spinner');\n",
              "      try {\n",
              "        const charts = await google.colab.kernel.invokeFunction(\n",
              "            'suggestCharts', [key], {});\n",
              "      } catch (error) {\n",
              "        console.error('Error during call to suggestCharts:', error);\n",
              "      }\n",
              "      quickchartButtonEl.classList.remove('colab-df-spinner');\n",
              "      quickchartButtonEl.classList.add('colab-df-quickchart-complete');\n",
              "    }\n",
              "    (() => {\n",
              "      let quickchartButtonEl =\n",
              "        document.querySelector('#df-991bdc65-311d-4d52-8bbf-b34617edbbf1 button');\n",
              "      quickchartButtonEl.style.display =\n",
              "        google.colab.kernel.accessAllowed ? 'block' : 'none';\n",
              "    })();\n",
              "  </script>\n",
              "</div>\n",
              "    </div>\n",
              "  </div>\n"
            ],
            "application/vnd.google.colaboratory.intrinsic+json": {
              "type": "dataframe",
              "variable_name": "results_df",
              "repr_error": "Out of range float values are not JSON compliant: nan"
            }
          },
          "metadata": {},
          "execution_count": 60
        }
      ]
    },
    {
      "cell_type": "markdown",
      "source": [
        "# Deep Learning"
      ],
      "metadata": {
        "id": "YeJA_ahJM3_m"
      }
    },
    {
      "cell_type": "markdown",
      "source": [
        "## LSTM Model"
      ],
      "metadata": {
        "id": "LwjmjRV4NBCE"
      }
    },
    {
      "cell_type": "markdown",
      "source": [
        "### Optimize LSTM Model"
      ],
      "metadata": {
        "id": "z33ZS5RwNDWU"
      }
    },
    {
      "cell_type": "code",
      "source": [
        "def objective(trial):\n",
        "    # Define the model\n",
        "    model = Sequential()\n",
        "    model.add(Reshape((1, train_data.shape[1]), input_shape=(train_data.shape[1],)))\n",
        "    n_units = trial.suggest_int('n_units', 4, 200)\n",
        "    model.add(LSTM(n_units))\n",
        "    model.add(Dense(1, activation='sigmoid'))\n",
        "\n",
        "    # Hyperparameters\n",
        "    optimizer_options = ['RMSprop', 'Adam', 'SGD']\n",
        "    optimizer_selected = trial.suggest_categorical('optimizer', optimizer_options)\n",
        "    learning_rate = trial.suggest_loguniform('learning_rate', 1e-5, 1e-1)\n",
        "\n",
        "    if optimizer_selected == 'RMSprop':\n",
        "        optimizer = RMSprop(learning_rate=learning_rate)\n",
        "    elif optimizer_selected == 'Adam':\n",
        "        optimizer = Adam(learning_rate=learning_rate)\n",
        "    else:\n",
        "        optimizer = SGD(learning_rate=learning_rate)\n",
        "\n",
        "    # Compile the model\n",
        "    model.compile(loss='binary_crossentropy', optimizer=optimizer, metrics=['accuracy'])\n",
        "\n",
        "    # Train the model\n",
        "    n_epochs = trial.suggest_int('n_epochs', 2, 50)\n",
        "    history = model.fit(train_data, train_labels, epochs=n_epochs, validation_data=(val_data, val_labels), verbose=0)\n",
        "\n",
        "    # Evaluate\n",
        "    score = model.evaluate(val_data, val_labels, verbose=0)\n",
        "    return score[0]  # Return validation loss\n",
        "\n",
        "if algorithm_class == \"deep-learning\" and deep_learning_model == \"LSTM\" and optimization_mode == True:\n",
        "    study = optuna.create_study(direction='minimize')\n",
        "    study.optimize(objective, n_trials=100)\n",
        "\n",
        "    # Print the result\n",
        "    best_params = study.best_params\n",
        "    print(f'Best params: {best_params}')\n",
        "    print(f'Best score: {study.best_value}')"
      ],
      "metadata": {
        "id": "Gf4sX-u7NHsX"
      },
      "execution_count": 61,
      "outputs": []
    },
    {
      "cell_type": "markdown",
      "source": [
        "### Train LSTM Model"
      ],
      "metadata": {
        "id": "A89rL7KxNF8W"
      }
    },
    {
      "cell_type": "code",
      "source": [
        "if algorithm_class == \"deep-learning\" and deep_learning_model == \"LSTM\" and optimization_mode == False and dataset_name == 'Hateval2019':\n",
        "  best_params = {'n_units': 56, 'optimizer': 'RMSprop', 'learning_rate': 0.0018396184813426356, 'n_epochs': 18}\n",
        "elif algorithm_class == \"deep-learning\" and deep_learning_model == \"LSTM\" and optimization_mode == False and dataset_name == 'Davidson':\n",
        "  best_params = {'n_units': 125, 'optimizer': 'RMSprop', 'learning_rate': 0.00536792628255773, 'n_epochs': 45}"
      ],
      "metadata": {
        "id": "-QBc5RmuM2SO"
      },
      "execution_count": 62,
      "outputs": []
    },
    {
      "cell_type": "code",
      "source": [
        "if algorithm_class == \"deep-learning\" and deep_learning_model == 'LSTM':\n",
        "    # Define the model\n",
        "    model = Sequential()\n",
        "    model.add(Reshape((1, train_data.shape[1]), input_shape=(train_data.shape[1],)))\n",
        "    model.add(LSTM(best_params['n_units']))\n",
        "    model.add(Dense(1, activation='sigmoid'))\n",
        "\n",
        "    if best_params['optimizer'] == 'RMSprop':\n",
        "        optimizer = RMSprop(learning_rate=best_params['learning_rate'])\n",
        "    elif best_params['optimizer'] == 'Adam':\n",
        "        optimizer = Adam(learning_rate=best_params['learning_rate'])\n",
        "    else:\n",
        "        optimizer = SGD(learning_rate=best_params['learning_rate'])\n",
        "\n",
        "    # Compile the model\n",
        "    model.compile(loss='binary_crossentropy', optimizer=optimizer, metrics=['accuracy'])\n",
        "\n",
        "    # Train the model\n",
        "    start = time.time()\n",
        "    model.fit(train_data, train_labels, epochs=best_params['n_epochs'], validation_data=(val_data, val_labels))\n",
        "    end = time.time()\n",
        "    results_df.at[\"Execution-Train\", deep_learning_model] = end - start\n",
        "\n",
        "    # Plot model\n",
        "    if save_results == True:\n",
        "      tf.keras.utils.plot_model(model, to_file=f'RESULTS/DAVIDSON/RNN/PLOTS/{deep_learning_model}_model.png', show_shapes=False)"
      ],
      "metadata": {
        "id": "fTQSUA20Nb33"
      },
      "execution_count": 63,
      "outputs": []
    },
    {
      "cell_type": "markdown",
      "source": [
        "## GRU Model"
      ],
      "metadata": {
        "id": "1jWlDoNiN-HE"
      }
    },
    {
      "cell_type": "markdown",
      "source": [
        "### Optimize GRU Model"
      ],
      "metadata": {
        "id": "8sLzvMs4OJGU"
      }
    },
    {
      "cell_type": "code",
      "source": [
        "def objective(trial):\n",
        "    # Define the model\n",
        "    model = Sequential()\n",
        "    model.add(Reshape((1, train_data.shape[1]), input_shape=(train_data.shape[1],)))\n",
        "    n_units = trial.suggest_int('n_units', 4, 200)\n",
        "    model.add(GRU(n_units))\n",
        "    model.add(Dense(1, activation='sigmoid'))\n",
        "\n",
        "    # Hyperparameters\n",
        "    optimizer_options = ['RMSprop', 'Adam', 'SGD']\n",
        "    optimizer_selected = trial.suggest_categorical('optimizer', optimizer_options)\n",
        "    learning_rate = trial.suggest_loguniform('learning_rate', 1e-5, 1e-1)\n",
        "\n",
        "    if optimizer_selected == 'RMSprop':\n",
        "        optimizer = RMSprop(learning_rate=learning_rate)\n",
        "    elif optimizer_selected == 'Adam':\n",
        "        optimizer = Adam(learning_rate=learning_rate)\n",
        "    else:\n",
        "        optimizer = SGD(learning_rate=learning_rate)\n",
        "\n",
        "    # Compile the model\n",
        "    model.compile(loss='binary_crossentropy', optimizer=optimizer, metrics=['accuracy'])\n",
        "\n",
        "    # Train the model\n",
        "    n_epochs = trial.suggest_int('n_epochs', 2, 50)\n",
        "    history = model.fit(train_data, train_labels, epochs=n_epochs, validation_data=(val_data, val_labels), verbose=0)\n",
        "\n",
        "    # Evaluate\n",
        "    score = model.evaluate(val_data, val_labels, verbose=0)\n",
        "    return score[0]  # Return validation loss\n",
        "\n",
        "if algorithm_class == \"deep-learning\" and deep_learning_model == \"GRU\" and optimization_mode == True:\n",
        "    study = optuna.create_study(direction='minimize')\n",
        "    study.optimize(objective, n_trials=100)\n",
        "\n",
        "    # Print the result\n",
        "    best_params = study.best_params\n",
        "    print(f'Best params: {best_params}')\n",
        "    print(f'Best score: {study.best_value}')"
      ],
      "metadata": {
        "id": "rKEK2ciEOTlh"
      },
      "execution_count": 64,
      "outputs": []
    },
    {
      "cell_type": "markdown",
      "source": [
        "### Train GRU Model"
      ],
      "metadata": {
        "id": "YiQIqbPvOMi8"
      }
    },
    {
      "cell_type": "code",
      "source": [
        "if algorithm_class == \"deep-learning\" and deep_learning_model == \"GRU\" and optimization_mode == False and dataset_name == 'Hateval2019':\n",
        "  best_params = {'n_units': 16, 'optimizer': 'Adam', 'learning_rate': 0.00016682881930972022, 'n_epochs': 46}\n",
        "elif algorithm_class == \"deep-learning\" and deep_learning_model == \"GRU\" and optimization_mode == False and dataset_name == 'Davidson':\n",
        "  best_params = {'n_units': 103, 'optimizer': 'Adam', 'learning_rate': 0.00800356311681664, 'n_epochs': 5}"
      ],
      "metadata": {
        "id": "8AcYHS4NNuje"
      },
      "execution_count": 65,
      "outputs": []
    },
    {
      "cell_type": "code",
      "source": [
        "if algorithm_class == \"deep-learning\" and deep_learning_model == 'GRU':\n",
        "    # Define the model\n",
        "    model = Sequential()\n",
        "    model.add(Reshape((1, train_data.shape[1]), input_shape=(train_data.shape[1],)))\n",
        "    model.add(GRU(best_params['n_units']))\n",
        "    model.add(Dense(1, activation='sigmoid'))\n",
        "\n",
        "    if best_params['optimizer'] == 'RMSprop':\n",
        "        optimizer = RMSprop(learning_rate=best_params['learning_rate'])\n",
        "    elif best_params['optimizer'] == 'Adam':\n",
        "        optimizer = Adam(learning_rate=best_params['learning_rate'])\n",
        "    else:\n",
        "        optimizer = SGD(learning_rate=best_params['learning_rate'])\n",
        "\n",
        "    # Compile the model\n",
        "    model.compile(loss='binary_crossentropy', optimizer=optimizer, metrics=['accuracy'])\n",
        "\n",
        "    # Train the model\n",
        "    start = time.time()\n",
        "    model.fit(train_data, train_labels, epochs=best_params['n_epochs'], validation_data=(val_data, val_labels))\n",
        "    end = time.time()\n",
        "    results_df.at[\"Execution-Train\", deep_learning_model] = end - start\n",
        "\n",
        "    # Plot model\n",
        "    if save_results == True:\n",
        "      tf.keras.utils.plot_model(model, to_file=f'RESULTS/DAVIDSON/RNN/PLOTS/{deep_learning_model}_model.png', show_shapes=False)"
      ],
      "metadata": {
        "id": "Q43f7_RyWvYE"
      },
      "execution_count": 66,
      "outputs": []
    },
    {
      "cell_type": "markdown",
      "source": [
        "## Bidirectional LSTM Model"
      ],
      "metadata": {
        "id": "dFkA0_n0XDGj"
      }
    },
    {
      "cell_type": "markdown",
      "source": [
        "### Optimize Bidirectional LSTM Model"
      ],
      "metadata": {
        "id": "RDe3qXf6XPKE"
      }
    },
    {
      "cell_type": "code",
      "source": [
        "def objective(trial):\n",
        "    # Define the model\n",
        "    model = Sequential()\n",
        "    model.add(Reshape((1, train_data.shape[1]), input_shape=(train_data.shape[1],)))\n",
        "    n_units = trial.suggest_int('n_units', 4, 200)\n",
        "    model.add(Bidirectional(LSTM(n_units)))\n",
        "    model.add(Dense(1, activation='sigmoid'))\n",
        "\n",
        "    # Hyperparameters\n",
        "    optimizer_options = ['RMSprop', 'Adam', 'SGD']\n",
        "    optimizer_selected = trial.suggest_categorical('optimizer', optimizer_options)\n",
        "    learning_rate = trial.suggest_loguniform('learning_rate', 1e-5, 1e-1)\n",
        "\n",
        "    if optimizer_selected == 'RMSprop':\n",
        "        optimizer = RMSprop(learning_rate=learning_rate)\n",
        "    elif optimizer_selected == 'Adam':\n",
        "        optimizer = Adam(learning_rate=learning_rate)\n",
        "    else:\n",
        "        optimizer = SGD(learning_rate=learning_rate)\n",
        "\n",
        "    # Compile the model\n",
        "    model.compile(loss='binary_crossentropy', optimizer=optimizer, metrics=['accuracy'])\n",
        "\n",
        "    # Train the model\n",
        "    n_epochs = trial.suggest_int('n_epochs', 2, 50)\n",
        "    history = model.fit(train_data, train_labels, epochs=n_epochs, validation_data=(val_data, val_labels), verbose=0)\n",
        "\n",
        "    # Evaluate\n",
        "    score = model.evaluate(val_data, val_labels, verbose=0)\n",
        "    return score[0]  # Return validation loss\n",
        "\n",
        "if algorithm_class == \"deep-learning\" and deep_learning_model == \"Bi-LSTM\" and optimization_mode == True:\n",
        "    study = optuna.create_study(direction='minimize')\n",
        "    study.optimize(objective, n_trials=100)\n",
        "\n",
        "    # Print the result\n",
        "    best_params = study.best_params\n",
        "    print(f'Best params: {best_params}')\n",
        "    print(f'Best score: {study.best_value}')"
      ],
      "metadata": {
        "id": "tsGD0dG8XGwe"
      },
      "execution_count": 67,
      "outputs": []
    },
    {
      "cell_type": "markdown",
      "source": [
        "### Train Bi-LSTM Model"
      ],
      "metadata": {
        "id": "gzbGp_jbXcSa"
      }
    },
    {
      "cell_type": "code",
      "source": [
        "if algorithm_class == \"deep-learning\" and deep_learning_model == \"Bi-LSTM\" and optimization_mode == False and dataset_name == 'Hateval2019':\n",
        "  best_params = {'n_units': 140, 'optimizer': 'Adam', 'learning_rate': 4.871738191900015e-05, 'n_epochs': 38}\n",
        "elif algorithm_class == \"deep-learning\" and deep_learning_model == \"Bi-LSTM\" and optimization_mode == False and dataset_name == 'Davidson':\n",
        "  best_params = {'n_units': 192, 'optimizer': 'Adam', 'learning_rate': 0.0015374249148203659, 'n_epochs': 16}"
      ],
      "metadata": {
        "id": "DwgWkkVaXhxA"
      },
      "execution_count": 68,
      "outputs": []
    },
    {
      "cell_type": "code",
      "source": [
        "if algorithm_class == \"deep-learning\" and deep_learning_model == 'Bi-LSTM':\n",
        "    # Define the model\n",
        "    model = Sequential()\n",
        "    model.add(Reshape((1, train_data.shape[1]), input_shape=(train_data.shape[1],)))\n",
        "    model.add(Bidirectional(LSTM(best_params['n_units'])))\n",
        "    model.add(Dense(1, activation='sigmoid'))\n",
        "\n",
        "    if best_params['optimizer'] == 'RMSprop':\n",
        "        optimizer = RMSprop(learning_rate=best_params['learning_rate'])\n",
        "    elif best_params['optimizer'] == 'Adam':\n",
        "        optimizer = Adam(learning_rate=best_params['learning_rate'])\n",
        "    else:\n",
        "        optimizer = SGD(learning_rate=best_params['learning_rate'])\n",
        "\n",
        "    # Compile the model\n",
        "    model.compile(loss='binary_crossentropy', optimizer=optimizer, metrics=['accuracy'])\n",
        "\n",
        "    # Train the model\n",
        "    start = time.time()\n",
        "    model.fit(train_data, train_labels, epochs=best_params['n_epochs'], validation_data=(val_data, val_labels))\n",
        "    end = time.time()\n",
        "    results_df.at[\"Execution-Train\", deep_learning_model] = end - start\n",
        "\n",
        "    # Plot model\n",
        "    if save_results == True:\n",
        "      tf.keras.utils.plot_model(model, to_file=f'RESULTS/DAVIDSON/RNN/PLOTS/{deep_learning_model}_model.png', show_shapes=False)"
      ],
      "metadata": {
        "id": "bYPOCZ3sXtRj"
      },
      "execution_count": 69,
      "outputs": []
    },
    {
      "cell_type": "markdown",
      "source": [
        "## Bidirectional GRU Model"
      ],
      "metadata": {
        "id": "PO49qL4mX0bY"
      }
    },
    {
      "cell_type": "markdown",
      "source": [
        "### Optimize Bi-GRU Model"
      ],
      "metadata": {
        "id": "I7IfVXAmX3lM"
      }
    },
    {
      "cell_type": "code",
      "source": [
        "def objective(trial):\n",
        "    # Define the model\n",
        "    model = Sequential()\n",
        "    model.add(Reshape((1, train_data.shape[1]), input_shape=(train_data.shape[1],)))\n",
        "    n_units = trial.suggest_int('n_units', 4, 200)\n",
        "    model.add(Bidirectional(GRU(n_units)))\n",
        "    model.add(Dense(1, activation='sigmoid'))\n",
        "\n",
        "    # Hyperparameters\n",
        "    optimizer_options = ['RMSprop', 'Adam', 'SGD']\n",
        "    optimizer_selected = trial.suggest_categorical('optimizer', optimizer_options)\n",
        "    learning_rate = trial.suggest_loguniform('learning_rate', 1e-5, 1e-1)\n",
        "\n",
        "    if optimizer_selected == 'RMSprop':\n",
        "        optimizer = RMSprop(learning_rate=learning_rate)\n",
        "    elif optimizer_selected == 'Adam':\n",
        "        optimizer = Adam(learning_rate=learning_rate)\n",
        "    else:\n",
        "        optimizer = SGD(learning_rate=learning_rate)\n",
        "\n",
        "    # Compile the model\n",
        "    model.compile(loss='binary_crossentropy', optimizer=optimizer, metrics=['accuracy'])\n",
        "\n",
        "    # Train the model\n",
        "    n_epochs = trial.suggest_int('n_epochs', 2, 50)\n",
        "    history = model.fit(train_data, train_labels, epochs=n_epochs, validation_data=(val_data, val_labels), verbose=0)\n",
        "\n",
        "    # Evaluate\n",
        "    score = model.evaluate(val_data, val_labels, verbose=0)\n",
        "    return score[0]  # Return validation loss\n",
        "\n",
        "if algorithm_class == \"deep-learning\" and deep_learning_model == \"Bi-GRU\" and optimization_mode == True:\n",
        "    study = optuna.create_study(direction='minimize')\n",
        "    study.optimize(objective, n_trials=100)\n",
        "\n",
        "    # Print the result\n",
        "    best_params = study.best_params\n",
        "    print(f'Best params: {best_params}')\n",
        "    print(f'Best score: {study.best_value}')"
      ],
      "metadata": {
        "id": "82ZERR_uX8RF"
      },
      "execution_count": 70,
      "outputs": []
    },
    {
      "cell_type": "markdown",
      "source": [
        "### Train Bi-GRU Model"
      ],
      "metadata": {
        "id": "k2vp_bESX6Aa"
      }
    },
    {
      "cell_type": "code",
      "source": [
        "if algorithm_class == \"deep-learning\" and deep_learning_model == \"Bi-GRU\" and optimization_mode == False and dataset_name == 'Hateval2019':\n",
        "  best_params = {'n_units': 132, 'optimizer': 'Adam', 'learning_rate': 8.471060637037659e-05, 'n_epochs': 38}\n",
        "elif algorithm_class == \"deep-learning\" and deep_learning_model == \"Bi-GRU\" and optimization_mode == False and dataset_name == 'Davidson':\n",
        "  best_params = {'n_units': 4, 'optimizer': 'Adam', 'learning_rate': 0.006178562644869577, 'n_epochs': 27}"
      ],
      "metadata": {
        "id": "XVTRIireX3ET"
      },
      "execution_count": 71,
      "outputs": []
    },
    {
      "cell_type": "code",
      "source": [
        "if algorithm_class == \"deep-learning\" and deep_learning_model == 'Bi-GRU':\n",
        "    # Define the model\n",
        "    model = Sequential()\n",
        "    model.add(Reshape((1, train_data.shape[1]), input_shape=(train_data.shape[1],)))\n",
        "    model.add(Bidirectional(GRU(best_params['n_units'])))\n",
        "    model.add(Dense(1, activation='sigmoid'))\n",
        "\n",
        "    if best_params['optimizer'] == 'RMSprop':\n",
        "        optimizer = RMSprop(learning_rate=best_params['learning_rate'])\n",
        "    elif best_params['optimizer'] == 'Adam':\n",
        "        optimizer = Adam(learning_rate=best_params['learning_rate'])\n",
        "    else:\n",
        "        optimizer = SGD(learning_rate=best_params['learning_rate'])\n",
        "\n",
        "    # Compile the model\n",
        "    model.compile(loss='binary_crossentropy', optimizer=optimizer, metrics=['accuracy'])\n",
        "\n",
        "    # Train the model\n",
        "    start = time.time()\n",
        "    model.fit(train_data, train_labels, epochs=best_params['n_epochs'], validation_data=(val_data, val_labels))\n",
        "    end = time.time()\n",
        "    results_df.at[\"Execution-Train\", deep_learning_model] = end - start\n",
        "\n",
        "    # Plot model\n",
        "    if save_results == True:\n",
        "      tf.keras.utils.plot_model(model, to_file=f'RESULTS/DAVIDSON/RNN/PLOTS/{deep_learning_model}_model.png', show_shapes=False)"
      ],
      "metadata": {
        "id": "D1HbKqCyZR0T"
      },
      "execution_count": 72,
      "outputs": []
    },
    {
      "cell_type": "markdown",
      "source": [
        "## Multi-layer LSTM Model"
      ],
      "metadata": {
        "id": "OHZ2gFX9YLlc"
      }
    },
    {
      "cell_type": "markdown",
      "source": [
        "### Optimize M-LSTM Model"
      ],
      "metadata": {
        "id": "Si9yEskgYbC_"
      }
    },
    {
      "cell_type": "code",
      "source": [
        "def objective(trial):\n",
        "    # Define the model\n",
        "    model = Sequential()\n",
        "    model.add(Reshape((1, train_data.shape[1]), input_shape=(train_data.shape[1],)))\n",
        "    n_units_1 = trial.suggest_int('n_units_1', 4, 200)\n",
        "    model.add(LSTM(n_units_1, return_sequences=True))\n",
        "    dropout_rate = trial.suggest_uniform(\"dropout_rate\", 0.1, 0.7)\n",
        "    model.add(Dropout(dropout_rate))\n",
        "    n_units_2 = trial.suggest_int('n_units_2', 4, 200)\n",
        "    model.add(LSTM(n_units_2))\n",
        "    model.add(Dropout(dropout_rate))\n",
        "    model.add(Dense(1, activation='sigmoid'))\n",
        "\n",
        "    # Hyperparameters\n",
        "    optimizer_options = ['RMSprop', 'Adam', 'SGD']\n",
        "    optimizer_selected = trial.suggest_categorical('optimizer', optimizer_options)\n",
        "    learning_rate = trial.suggest_loguniform('learning_rate', 1e-5, 1e-1)\n",
        "\n",
        "    if optimizer_selected == 'RMSprop':\n",
        "        optimizer = RMSprop(learning_rate=learning_rate)\n",
        "    elif optimizer_selected == 'Adam':\n",
        "        optimizer = Adam(learning_rate=learning_rate)\n",
        "    else:\n",
        "        optimizer = SGD(learning_rate=learning_rate)\n",
        "\n",
        "    # Compile the model\n",
        "    model.compile(loss='binary_crossentropy', optimizer=optimizer, metrics=['accuracy'])\n",
        "\n",
        "    # Train the model\n",
        "    n_epochs = trial.suggest_int('n_epochs', 2, 50)\n",
        "    history = model.fit(train_data, train_labels, epochs=n_epochs, validation_data=(val_data, val_labels), verbose=0)\n",
        "\n",
        "    # Evaluate\n",
        "    score = model.evaluate(val_data, val_labels, verbose=0)\n",
        "    return score[0]  # Return validation loss\n",
        "\n",
        "if algorithm_class == \"deep-learning\" and deep_learning_model == \"M-LSTM\" and optimization_mode == True:\n",
        "    study = optuna.create_study(direction='minimize')\n",
        "    study.optimize(objective, n_trials=75)\n",
        "\n",
        "    # Print the result\n",
        "    best_params = study.best_params\n",
        "    print(f'Best params: {best_params}')\n",
        "    print(f'Best score: {study.best_value}')"
      ],
      "metadata": {
        "id": "hKnh-U6xYrP0"
      },
      "execution_count": 73,
      "outputs": []
    },
    {
      "cell_type": "markdown",
      "source": [
        "### Train M-LSTM Model"
      ],
      "metadata": {
        "id": "AB0IG14GYd5v"
      }
    },
    {
      "cell_type": "code",
      "source": [
        "if algorithm_class == \"deep-learning\" and deep_learning_model == \"M-LSTM\" and optimization_mode == False and dataset_name == 'Hateval2019':\n",
        "  best_params = {'n_units_1': 115, 'dropout_rate': 0.5548187910815977, 'n_units_2': 195, 'optimizer': 'Adam', 'learning_rate': 6.622865093659962e-05, 'n_epochs': 41}\n",
        "elif algorithm_class == \"deep-learning\" and deep_learning_model == \"M-LSTM\" and optimization_mode == False and dataset_name == 'Davidson':\n",
        "  best_params = {'n_units_1': 107, 'dropout_rate': 0.6052276425998127, 'n_units_2': 78, 'optimizer': 'RMSprop', 'learning_rate': 0.0017310464944428508, 'n_epochs': 18}"
      ],
      "metadata": {
        "id": "IvLvK0eAYaS1"
      },
      "execution_count": 74,
      "outputs": []
    },
    {
      "cell_type": "code",
      "source": [
        "if algorithm_class == \"deep-learning\" and deep_learning_model == 'M-LSTM':\n",
        "    # Define the model\n",
        "    model = Sequential()\n",
        "    model.add(Reshape((1, train_data.shape[1]), input_shape=(train_data.shape[1],)))\n",
        "    model.add(LSTM(best_params['n_units_1'], return_sequences=True))\n",
        "    model.add(Dropout(best_params['dropout_rate']))\n",
        "    model.add(LSTM(best_params['n_units_2']))\n",
        "    model.add(Dropout(best_params['dropout_rate']))\n",
        "    model.add(Dense(1, activation='sigmoid'))\n",
        "\n",
        "    if best_params['optimizer'] == 'RMSprop':\n",
        "        optimizer = RMSprop(learning_rate=best_params['learning_rate'])\n",
        "    elif best_params['optimizer'] == 'Adam':\n",
        "        optimizer = Adam(learning_rate=best_params['learning_rate'])\n",
        "    else:\n",
        "        optimizer = SGD(learning_rate=best_params['learning_rate'])\n",
        "\n",
        "    # Compile the model\n",
        "    model.compile(loss='binary_crossentropy', optimizer=optimizer, metrics=['accuracy'])\n",
        "\n",
        "    # Train the model\n",
        "    start = time.time()\n",
        "    model.fit(train_data, train_labels, epochs=best_params['n_epochs'], validation_data=(val_data, val_labels))\n",
        "    end = time.time()\n",
        "    results_df.at[\"Execution-Train\", deep_learning_model] = end - start\n",
        "\n",
        "    # Plot model\n",
        "    if save_results == True:\n",
        "      tf.keras.utils.plot_model(model, to_file=f'RESULTS/DAVIDSON/RNN/PLOTS/{deep_learning_model}_model.png', show_shapes=False)"
      ],
      "metadata": {
        "id": "EcHib4J9ZJ5P"
      },
      "execution_count": 75,
      "outputs": []
    },
    {
      "cell_type": "markdown",
      "source": [
        "## Multi-layer GRU Model"
      ],
      "metadata": {
        "id": "pJY63mdHZgz6"
      }
    },
    {
      "cell_type": "markdown",
      "source": [
        "### Optimize M-GRU"
      ],
      "metadata": {
        "id": "K1c1fkHXZn13"
      }
    },
    {
      "cell_type": "code",
      "source": [
        "def objective(trial):\n",
        "    # Define the model\n",
        "    model = Sequential()\n",
        "    model.add(Reshape((1, train_data.shape[1]), input_shape=(train_data.shape[1],)))\n",
        "    n_units_1 = trial.suggest_int('n_units_1', 4, 200)\n",
        "    model.add(GRU(n_units_1, return_sequences=True))\n",
        "    dropout_rate = trial.suggest_uniform(\"dropout_rate\", 0.1, 0.7)\n",
        "    model.add(Dropout(dropout_rate))\n",
        "    n_units_2 = trial.suggest_int('n_units_2', 4, 200)\n",
        "    model.add(GRU(n_units_2))\n",
        "    model.add(Dropout(dropout_rate))\n",
        "    model.add(Dense(1, activation='sigmoid'))\n",
        "\n",
        "    # Hyperparameters\n",
        "    optimizer_options = ['RMSprop', 'Adam', 'SGD']\n",
        "    optimizer_selected = trial.suggest_categorical('optimizer', optimizer_options)\n",
        "    learning_rate = trial.suggest_loguniform('learning_rate', 1e-5, 1e-1)\n",
        "\n",
        "    if optimizer_selected == 'RMSprop':\n",
        "        optimizer = RMSprop(learning_rate=learning_rate)\n",
        "    elif optimizer_selected == 'Adam':\n",
        "        optimizer = Adam(learning_rate=learning_rate)\n",
        "    else:\n",
        "        optimizer = SGD(learning_rate=learning_rate)\n",
        "\n",
        "    # Compile the model\n",
        "    model.compile(loss='binary_crossentropy', optimizer=optimizer, metrics=['accuracy'])\n",
        "\n",
        "    # Train the model\n",
        "    n_epochs = trial.suggest_int('n_epochs', 2, 50)\n",
        "    history = model.fit(train_data, train_labels, epochs=n_epochs, validation_data=(val_data, val_labels), verbose=0)\n",
        "\n",
        "    # Evaluate\n",
        "    score = model.evaluate(val_data, val_labels, verbose=0)\n",
        "    return score[0]  # Return validation loss\n",
        "\n",
        "if algorithm_class == \"deep-learning\" and deep_learning_model == \"M-GRU\" and optimization_mode == True:\n",
        "    study = optuna.create_study(direction='minimize')\n",
        "    study.optimize(objective, n_trials=75)\n",
        "\n",
        "    # Print the result\n",
        "    best_params = study.best_params\n",
        "    print(f'Best params: {best_params}')\n",
        "    print(f'Best score: {study.best_value}')"
      ],
      "metadata": {
        "id": "hm7vgfx0ZmhJ"
      },
      "execution_count": 76,
      "outputs": []
    },
    {
      "cell_type": "markdown",
      "source": [
        "### Train M-GRU"
      ],
      "metadata": {
        "id": "FMjbU6cyZvxL"
      }
    },
    {
      "cell_type": "code",
      "source": [
        "if algorithm_class == \"deep-learning\" and deep_learning_model == \"M-GRU\" and optimization_mode == False and dataset_name == 'Hateval2019':\n",
        "  best_params = {'n_units_1': 161, 'dropout_rate': 0.20813420517463382, 'n_units_2': 53, 'optimizer': 'Adam', 'learning_rate': 0.0002274928678261308, 'n_epochs': 12}\n",
        "elif algorithm_class == \"deep-learning\" and deep_learning_model == \"M-GRU\" and optimization_mode == False and dataset_name == 'Davidson':\n",
        "  best_params = {'n_units_1': 90, 'dropout_rate': 0.3520149648419266, 'n_units_2': 193, 'optimizer': 'Adam', 'learning_rate': 0.012139879843360762, 'n_epochs': 10}"
      ],
      "metadata": {
        "id": "90vl1dAhZ1ol"
      },
      "execution_count": 77,
      "outputs": []
    },
    {
      "cell_type": "code",
      "source": [
        "if algorithm_class == \"deep-learning\" and deep_learning_model == 'M-GRU':\n",
        "    # Define the model\n",
        "    model = Sequential()\n",
        "    model.add(Reshape((1, train_data.shape[1]), input_shape=(train_data.shape[1],)))\n",
        "    model.add(GRU(best_params['n_units_1'], return_sequences=True))\n",
        "    model.add(Dropout(best_params['dropout_rate']))\n",
        "    model.add(GRU(best_params['n_units_2']))\n",
        "    model.add(Dropout(best_params['dropout_rate']))\n",
        "    model.add(Dense(1, activation='sigmoid'))\n",
        "\n",
        "    if best_params['optimizer'] == 'RMSprop':\n",
        "        optimizer = RMSprop(learning_rate=best_params['learning_rate'])\n",
        "    elif best_params['optimizer'] == 'Adam':\n",
        "        optimizer = Adam(learning_rate=best_params['learning_rate'])\n",
        "    else:\n",
        "        optimizer = SGD(learning_rate=best_params['learning_rate'])\n",
        "\n",
        "    # Compile the model\n",
        "    model.compile(loss='binary_crossentropy', optimizer=optimizer, metrics=['accuracy'])\n",
        "\n",
        "    # Train the model\n",
        "    start = time.time()\n",
        "    model.fit(train_data, train_labels, epochs=best_params['n_epochs'], validation_data=(val_data, val_labels))\n",
        "    end = time.time()\n",
        "    results_df.at[\"Execution-Train\", deep_learning_model] = end - start\n",
        "\n",
        "    # Plot model\n",
        "    if save_results == True:\n",
        "      tf.keras.utils.plot_model(model, to_file=f'RESULTS/DAVIDSON/RNN/PLOTS/{deep_learning_model}_model.png', show_shapes=False)"
      ],
      "metadata": {
        "id": "hBVyY1ftaJ1B"
      },
      "execution_count": 78,
      "outputs": []
    },
    {
      "cell_type": "markdown",
      "source": [
        "## Multi-layer Bidirectional LSTM Model"
      ],
      "metadata": {
        "id": "C6-XgmqraRFU"
      }
    },
    {
      "cell_type": "markdown",
      "source": [
        "### Optimize M-Bi-LSTM"
      ],
      "metadata": {
        "id": "_PoF9AMXaWO4"
      }
    },
    {
      "cell_type": "code",
      "source": [
        "def objective(trial):\n",
        "    # Define the model\n",
        "    model = Sequential()\n",
        "    model.add(Reshape((1, train_data.shape[1]), input_shape=(train_data.shape[1],)))\n",
        "    n_units_1 = trial.suggest_int('n_units_1', 4, 200)\n",
        "    model.add(Bidirectional(LSTM(n_units_1, return_sequences=True)))\n",
        "    dropout_rate = trial.suggest_uniform(\"dropout_rate\", 0.1, 0.7)\n",
        "    model.add(Dropout(dropout_rate))\n",
        "    n_units_2 = trial.suggest_int('n_units_2', 4, 200)\n",
        "    model.add(Bidirectional(LSTM(n_units_2)))\n",
        "    model.add(Dropout(dropout_rate))\n",
        "    model.add(Dense(1, activation='sigmoid'))\n",
        "\n",
        "    # Hyperparameters\n",
        "    optimizer_options = ['RMSprop', 'Adam', 'SGD']\n",
        "    optimizer_selected = trial.suggest_categorical('optimizer', optimizer_options)\n",
        "    learning_rate = trial.suggest_loguniform('learning_rate', 1e-5, 1e-1)\n",
        "\n",
        "    if optimizer_selected == 'RMSprop':\n",
        "        optimizer = RMSprop(learning_rate=learning_rate)\n",
        "    elif optimizer_selected == 'Adam':\n",
        "        optimizer = Adam(learning_rate=learning_rate)\n",
        "    else:\n",
        "        optimizer = SGD(learning_rate=learning_rate)\n",
        "\n",
        "    # Compile the model\n",
        "    model.compile(loss='binary_crossentropy', optimizer=optimizer, metrics=['accuracy'])\n",
        "\n",
        "    # Train the model\n",
        "    n_epochs = trial.suggest_int('n_epochs', 2, 50)\n",
        "    history = model.fit(train_data, train_labels, epochs=n_epochs, validation_data=(val_data, val_labels), verbose=0)\n",
        "\n",
        "    # Evaluate\n",
        "    score = model.evaluate(val_data, val_labels, verbose=0)\n",
        "    return score[0]  # Return validation loss\n",
        "\n",
        "if algorithm_class == \"deep-learning\" and deep_learning_model == \"M-Bi-LSTM\" and optimization_mode == True:\n",
        "    study = optuna.create_study(direction='minimize')\n",
        "    study.optimize(objective, n_trials=75)\n",
        "\n",
        "    # Print the result\n",
        "    best_params = study.best_params\n",
        "    print(f'Best params: {best_params}')\n",
        "    print(f'Best score: {study.best_value}')"
      ],
      "metadata": {
        "id": "oyQwClScaVtD"
      },
      "execution_count": 79,
      "outputs": []
    },
    {
      "cell_type": "markdown",
      "source": [
        "### Train M-Bi-LSTM"
      ],
      "metadata": {
        "id": "bcrSXqNLacvy"
      }
    },
    {
      "cell_type": "code",
      "source": [
        "if algorithm_class == \"deep-learning\" and deep_learning_model == \"M-Bi-LSTM\" and optimization_mode == False and dataset_name == 'Hateval2019':\n",
        "  best_params = {'n_units_1': 77, 'dropout_rate': 0.3841023209529557, 'n_units_2': 127, 'optimizer': 'RMSprop', 'learning_rate': 4.563616651487224e-05, 'n_epochs': 44}\n",
        "elif algorithm_class == \"deep-learning\" and deep_learning_model == \"M-Bi-LSTM\" and optimization_mode == False and dataset_name == 'Davidson':\n",
        "  best_params = {'n_units_1': 99, 'dropout_rate': 0.2608802925299928, 'n_units_2': 11, 'optimizer': 'Adam', 'learning_rate': 0.0010270719790073885, 'n_epochs': 16}"
      ],
      "metadata": {
        "id": "oEtH_LU9aebk"
      },
      "execution_count": 80,
      "outputs": []
    },
    {
      "cell_type": "code",
      "source": [
        "if algorithm_class == \"deep-learning\" and deep_learning_model == 'M-Bi-LSTM':\n",
        "    # Define the model\n",
        "    model = Sequential()\n",
        "    model.add(Reshape((1, train_data.shape[1]), input_shape=(train_data.shape[1],)))\n",
        "    model.add(Bidirectional(LSTM(best_params['n_units_1'], return_sequences=True)))\n",
        "    model.add(Dropout(best_params['dropout_rate']))\n",
        "    model.add(Bidirectional(LSTM(best_params['n_units_2'])))\n",
        "    model.add(Dropout(best_params['dropout_rate']))\n",
        "    model.add(Dense(1, activation='sigmoid'))\n",
        "\n",
        "    if best_params['optimizer'] == 'RMSprop':\n",
        "        optimizer = RMSprop(learning_rate=best_params['learning_rate'])\n",
        "    elif best_params['optimizer'] == 'Adam':\n",
        "        optimizer = Adam(learning_rate=best_params['learning_rate'])\n",
        "    else:\n",
        "        optimizer = SGD(learning_rate=best_params['learning_rate'])\n",
        "\n",
        "    # Compile the model\n",
        "    model.compile(loss='binary_crossentropy', optimizer=optimizer, metrics=['accuracy'])\n",
        "\n",
        "    # Train the model\n",
        "    start = time.time()\n",
        "    model.fit(train_data, train_labels, epochs=best_params['n_epochs'], validation_data=(val_data, val_labels))\n",
        "    end = time.time()\n",
        "    results_df.at[\"Execution-Train\", deep_learning_model] = end - start\n",
        "\n",
        "    # Plot model\n",
        "    if save_results == True:\n",
        "      tf.keras.utils.plot_model(model, to_file=f'RESULTS/DAVIDSON/RNN/PLOTS/{deep_learning_model}_model.png', show_shapes=False)"
      ],
      "metadata": {
        "id": "Mu006LJlawXh"
      },
      "execution_count": 81,
      "outputs": []
    },
    {
      "cell_type": "markdown",
      "source": [
        "## Multi-layer Bidirectional GRU Model"
      ],
      "metadata": {
        "id": "vXsUgSvra4pT"
      }
    },
    {
      "cell_type": "markdown",
      "source": [
        "### Optimize M-Bi-GRU"
      ],
      "metadata": {
        "id": "JaPdd3rYa9XU"
      }
    },
    {
      "cell_type": "code",
      "source": [
        "def objective(trial):\n",
        "    # Define the model\n",
        "    model = Sequential()\n",
        "    model.add(Reshape((1, train_data.shape[1]), input_shape=(train_data.shape[1],)))\n",
        "    n_units_1 = trial.suggest_int('n_units_1', 4, 200)\n",
        "    model.add(Bidirectional(GRU(n_units_1, return_sequences=True)))\n",
        "    dropout_rate = trial.suggest_uniform(\"dropout_rate\", 0.1, 0.7)\n",
        "    model.add(Dropout(dropout_rate))\n",
        "    n_units_2 = trial.suggest_int('n_units_2', 4, 200)\n",
        "    model.add(Bidirectional(GRU(n_units_2)))\n",
        "    model.add(Dropout(dropout_rate))\n",
        "    model.add(Dense(1, activation='sigmoid'))\n",
        "\n",
        "    # Hyperparameters\n",
        "    optimizer_options = ['RMSprop', 'Adam', 'SGD']\n",
        "    optimizer_selected = trial.suggest_categorical('optimizer', optimizer_options)\n",
        "    learning_rate = trial.suggest_loguniform('learning_rate', 1e-5, 1e-1)\n",
        "\n",
        "    if optimizer_selected == 'RMSprop':\n",
        "        optimizer = RMSprop(learning_rate=learning_rate)\n",
        "    elif optimizer_selected == 'Adam':\n",
        "        optimizer = Adam(learning_rate=learning_rate)\n",
        "    else:\n",
        "        optimizer = SGD(learning_rate=learning_rate)\n",
        "\n",
        "    # Compile the model\n",
        "    model.compile(loss='binary_crossentropy', optimizer=optimizer, metrics=['accuracy'])\n",
        "\n",
        "    # Train the model\n",
        "    n_epochs = trial.suggest_int('n_epochs', 2, 50)\n",
        "    history = model.fit(train_data, train_labels, epochs=n_epochs, validation_data=(val_data, val_labels), verbose=0)\n",
        "\n",
        "    # Evaluate\n",
        "    score = model.evaluate(val_data, val_labels, verbose=0)\n",
        "    return score[0]  # Return validation loss\n",
        "\n",
        "if algorithm_class == \"deep-learning\" and deep_learning_model == \"M-Bi-GRU\" and optimization_mode == True:\n",
        "    study = optuna.create_study(direction='minimize')\n",
        "    study.optimize(objective, n_trials=100)\n",
        "\n",
        "    # Print the result\n",
        "    best_params = study.best_params\n",
        "    print(f'Best params: {best_params}')\n",
        "    print(f'Best score: {study.best_value}')"
      ],
      "metadata": {
        "id": "UVM8Vs4Ta3br"
      },
      "execution_count": 82,
      "outputs": []
    },
    {
      "cell_type": "markdown",
      "source": [
        "### Train M-Bi-GRU"
      ],
      "metadata": {
        "id": "7jfh1ogFbFTZ"
      }
    },
    {
      "cell_type": "code",
      "source": [
        "if algorithm_class == \"deep-learning\" and deep_learning_model == \"M-Bi-GRU\" and optimization_mode == False and dataset_name == 'Hateval2019':\n",
        "  best_params = {'n_units_1': 42, 'dropout_rate': 0.6489363969181386, 'n_units_2': 85, 'optimizer': 'Adam', 'learning_rate': 0.0001732837038203649, 'n_epochs': 29}\n",
        "elif algorithm_class == \"deep-learning\" and deep_learning_model == \"M-Bi-GRU\" and optimization_mode == False and dataset_name == 'Davidson':\n",
        "  best_params = {'n_units_1': 94, 'dropout_rate': 0.5765214045839716, 'n_units_2': 4, 'optimizer': 'RMSprop', 'learning_rate': 0.000563238597312842, 'n_epochs': 48}"
      ],
      "metadata": {
        "id": "WMEb2s7UbHTW"
      },
      "execution_count": 83,
      "outputs": []
    },
    {
      "cell_type": "code",
      "source": [
        "if algorithm_class == \"deep-learning\" and deep_learning_model == 'M-Bi-GRU':\n",
        "    # Define the model\n",
        "    model = Sequential()\n",
        "    model.add(Reshape((1, train_data.shape[1]), input_shape=(train_data.shape[1],)))\n",
        "    model.add(Bidirectional(GRU(best_params['n_units_1'], return_sequences=True)))\n",
        "    model.add(Dropout(best_params['dropout_rate']))\n",
        "    model.add(Bidirectional(GRU(best_params['n_units_2'])))\n",
        "    model.add(Dropout(best_params['dropout_rate']))\n",
        "    model.add(Dense(1, activation='sigmoid'))\n",
        "\n",
        "    if best_params['optimizer'] == 'RMSprop':\n",
        "        optimizer = RMSprop(learning_rate=best_params['learning_rate'])\n",
        "    elif best_params['optimizer'] == 'Adam':\n",
        "        optimizer = Adam(learning_rate=best_params['learning_rate'])\n",
        "    else:\n",
        "        optimizer = SGD(learning_rate=best_params['learning_rate'])\n",
        "\n",
        "    # Compile the model\n",
        "    model.compile(loss='binary_crossentropy', optimizer=optimizer, metrics=['accuracy'])\n",
        "\n",
        "    # Train the model\n",
        "    start = time.time()\n",
        "    early_stop = EarlyStopping(monitor='val_loss', patience=5)\n",
        "    model.fit(train_data, train_labels, epochs=best_params['n_epochs'], validation_data=(val_data, val_labels))\n",
        "    end = time.time()\n",
        "    results_df.at[\"Execution-Train\", deep_learning_model] = end - start\n",
        "\n",
        "    # Plot model\n",
        "    if save_results == True:\n",
        "      tf.keras.utils.plot_model(model, to_file=f'RESULTS/DAVIDSON/RNN/PLOTS/{deep_learning_model}_model.png', show_shapes=False)"
      ],
      "metadata": {
        "id": "E4jAKOX8bWtQ",
        "colab": {
          "base_uri": "https://localhost:8080/"
        },
        "outputId": "57f193c6-4081-4255-c0a5-cc9aaebc55ed"
      },
      "execution_count": 84,
      "outputs": [
        {
          "output_type": "stream",
          "name": "stderr",
          "text": [
            "WARNING:tensorflow:Layer gru will not use cuDNN kernels since it doesn't meet the criteria. It will use a generic GPU kernel as fallback when running on GPU.\n",
            "WARNING:tensorflow:Layer gru will not use cuDNN kernels since it doesn't meet the criteria. It will use a generic GPU kernel as fallback when running on GPU.\n",
            "WARNING:tensorflow:Layer gru will not use cuDNN kernels since it doesn't meet the criteria. It will use a generic GPU kernel as fallback when running on GPU.\n",
            "WARNING:tensorflow:Layer gru_1 will not use cuDNN kernels since it doesn't meet the criteria. It will use a generic GPU kernel as fallback when running on GPU.\n",
            "WARNING:tensorflow:Layer gru_1 will not use cuDNN kernels since it doesn't meet the criteria. It will use a generic GPU kernel as fallback when running on GPU.\n",
            "WARNING:tensorflow:Layer gru_1 will not use cuDNN kernels since it doesn't meet the criteria. It will use a generic GPU kernel as fallback when running on GPU.\n"
          ]
        },
        {
          "output_type": "stream",
          "name": "stdout",
          "text": [
            "Epoch 1/48\n",
            "209/209 [==============================] - 26s 50ms/step - loss: 0.5905 - accuracy: 0.7002 - val_loss: 0.4873 - val_accuracy: 0.7887\n",
            "Epoch 2/48\n",
            "209/209 [==============================] - 6s 30ms/step - loss: 0.5035 - accuracy: 0.7757 - val_loss: 0.4442 - val_accuracy: 0.8139\n",
            "Epoch 3/48\n",
            "209/209 [==============================] - 5s 26ms/step - loss: 0.4695 - accuracy: 0.7926 - val_loss: 0.4294 - val_accuracy: 0.8067\n",
            "Epoch 4/48\n",
            "209/209 [==============================] - 3s 14ms/step - loss: 0.4672 - accuracy: 0.7955 - val_loss: 0.4259 - val_accuracy: 0.8031\n",
            "Epoch 5/48\n",
            "209/209 [==============================] - 3s 14ms/step - loss: 0.4495 - accuracy: 0.8014 - val_loss: 0.4175 - val_accuracy: 0.7983\n",
            "Epoch 6/48\n",
            "209/209 [==============================] - 3s 14ms/step - loss: 0.4409 - accuracy: 0.8065 - val_loss: 0.3957 - val_accuracy: 0.8175\n",
            "Epoch 7/48\n",
            "209/209 [==============================] - 5s 25ms/step - loss: 0.4398 - accuracy: 0.8090 - val_loss: 0.3947 - val_accuracy: 0.8235\n",
            "Epoch 8/48\n",
            "209/209 [==============================] - 3s 15ms/step - loss: 0.4395 - accuracy: 0.8104 - val_loss: 0.3905 - val_accuracy: 0.8295\n",
            "Epoch 9/48\n",
            "209/209 [==============================] - 3s 14ms/step - loss: 0.4348 - accuracy: 0.8107 - val_loss: 0.3921 - val_accuracy: 0.8163\n",
            "Epoch 10/48\n",
            "209/209 [==============================] - 3s 14ms/step - loss: 0.4359 - accuracy: 0.8134 - val_loss: 0.3876 - val_accuracy: 0.8307\n",
            "Epoch 11/48\n",
            "209/209 [==============================] - 5s 22ms/step - loss: 0.4260 - accuracy: 0.8224 - val_loss: 0.3821 - val_accuracy: 0.8379\n",
            "Epoch 12/48\n",
            "209/209 [==============================] - 4s 19ms/step - loss: 0.4281 - accuracy: 0.8159 - val_loss: 0.3807 - val_accuracy: 0.8379\n",
            "Epoch 13/48\n",
            "209/209 [==============================] - 3s 14ms/step - loss: 0.4187 - accuracy: 0.8230 - val_loss: 0.3797 - val_accuracy: 0.8415\n",
            "Epoch 14/48\n",
            "209/209 [==============================] - 3s 14ms/step - loss: 0.4196 - accuracy: 0.8207 - val_loss: 0.3788 - val_accuracy: 0.8391\n",
            "Epoch 15/48\n",
            "209/209 [==============================] - 4s 19ms/step - loss: 0.4197 - accuracy: 0.8215 - val_loss: 0.3955 - val_accuracy: 0.8139\n",
            "Epoch 16/48\n",
            "209/209 [==============================] - 4s 22ms/step - loss: 0.4218 - accuracy: 0.8212 - val_loss: 0.3800 - val_accuracy: 0.8331\n",
            "Epoch 17/48\n",
            "209/209 [==============================] - 3s 14ms/step - loss: 0.4105 - accuracy: 0.8239 - val_loss: 0.3792 - val_accuracy: 0.8403\n",
            "Epoch 18/48\n",
            "209/209 [==============================] - 4s 20ms/step - loss: 0.4166 - accuracy: 0.8203 - val_loss: 0.3784 - val_accuracy: 0.8415\n",
            "Epoch 19/48\n",
            "209/209 [==============================] - 5s 23ms/step - loss: 0.4080 - accuracy: 0.8219 - val_loss: 0.3786 - val_accuracy: 0.8319\n",
            "Epoch 20/48\n",
            "209/209 [==============================] - 3s 16ms/step - loss: 0.4119 - accuracy: 0.8228 - val_loss: 0.3741 - val_accuracy: 0.8451\n",
            "Epoch 21/48\n",
            "209/209 [==============================] - 3s 14ms/step - loss: 0.4083 - accuracy: 0.8240 - val_loss: 0.3759 - val_accuracy: 0.8355\n",
            "Epoch 22/48\n",
            "209/209 [==============================] - 3s 14ms/step - loss: 0.4114 - accuracy: 0.8245 - val_loss: 0.3714 - val_accuracy: 0.8367\n",
            "Epoch 23/48\n",
            "209/209 [==============================] - 5s 23ms/step - loss: 0.4051 - accuracy: 0.8239 - val_loss: 0.3742 - val_accuracy: 0.8343\n",
            "Epoch 24/48\n",
            "209/209 [==============================] - 4s 17ms/step - loss: 0.4014 - accuracy: 0.8239 - val_loss: 0.3681 - val_accuracy: 0.8511\n",
            "Epoch 25/48\n",
            "209/209 [==============================] - 3s 14ms/step - loss: 0.4047 - accuracy: 0.8246 - val_loss: 0.3758 - val_accuracy: 0.8379\n",
            "Epoch 26/48\n",
            "209/209 [==============================] - 3s 14ms/step - loss: 0.4016 - accuracy: 0.8240 - val_loss: 0.3910 - val_accuracy: 0.8211\n",
            "Epoch 27/48\n",
            "209/209 [==============================] - 4s 21ms/step - loss: 0.3996 - accuracy: 0.8297 - val_loss: 0.3744 - val_accuracy: 0.8295\n",
            "Epoch 28/48\n",
            "209/209 [==============================] - 4s 19ms/step - loss: 0.4048 - accuracy: 0.8269 - val_loss: 0.3669 - val_accuracy: 0.8403\n",
            "Epoch 29/48\n",
            "209/209 [==============================] - 3s 14ms/step - loss: 0.4032 - accuracy: 0.8327 - val_loss: 0.3673 - val_accuracy: 0.8415\n",
            "Epoch 30/48\n",
            "209/209 [==============================] - 3s 14ms/step - loss: 0.4076 - accuracy: 0.8299 - val_loss: 0.3631 - val_accuracy: 0.8571\n",
            "Epoch 31/48\n",
            "209/209 [==============================] - 4s 18ms/step - loss: 0.3995 - accuracy: 0.8275 - val_loss: 0.3675 - val_accuracy: 0.8343\n",
            "Epoch 32/48\n",
            "209/209 [==============================] - 4s 21ms/step - loss: 0.3942 - accuracy: 0.8300 - val_loss: 0.3652 - val_accuracy: 0.8355\n",
            "Epoch 33/48\n",
            "209/209 [==============================] - 3s 15ms/step - loss: 0.4005 - accuracy: 0.8296 - val_loss: 0.3643 - val_accuracy: 0.8391\n",
            "Epoch 34/48\n",
            "209/209 [==============================] - 3s 14ms/step - loss: 0.3962 - accuracy: 0.8302 - val_loss: 0.3585 - val_accuracy: 0.8523\n",
            "Epoch 35/48\n",
            "209/209 [==============================] - 4s 19ms/step - loss: 0.3927 - accuracy: 0.8299 - val_loss: 0.3579 - val_accuracy: 0.8499\n",
            "Epoch 36/48\n",
            "209/209 [==============================] - 5s 22ms/step - loss: 0.3926 - accuracy: 0.8347 - val_loss: 0.3623 - val_accuracy: 0.8403\n",
            "Epoch 37/48\n",
            "209/209 [==============================] - 3s 14ms/step - loss: 0.3995 - accuracy: 0.8317 - val_loss: 0.3593 - val_accuracy: 0.8391\n",
            "Epoch 38/48\n",
            "209/209 [==============================] - 3s 14ms/step - loss: 0.3937 - accuracy: 0.8353 - val_loss: 0.3561 - val_accuracy: 0.8463\n",
            "Epoch 39/48\n",
            "209/209 [==============================] - 3s 16ms/step - loss: 0.3880 - accuracy: 0.8323 - val_loss: 0.3619 - val_accuracy: 0.8415\n",
            "Epoch 40/48\n",
            "209/209 [==============================] - 5s 26ms/step - loss: 0.3870 - accuracy: 0.8353 - val_loss: 0.3534 - val_accuracy: 0.8571\n",
            "Epoch 41/48\n",
            "209/209 [==============================] - 3s 14ms/step - loss: 0.3917 - accuracy: 0.8330 - val_loss: 0.3769 - val_accuracy: 0.8379\n",
            "Epoch 42/48\n",
            "209/209 [==============================] - 3s 14ms/step - loss: 0.3885 - accuracy: 0.8375 - val_loss: 0.3627 - val_accuracy: 0.8451\n",
            "Epoch 43/48\n",
            "209/209 [==============================] - 3s 15ms/step - loss: 0.3834 - accuracy: 0.8356 - val_loss: 0.3557 - val_accuracy: 0.8511\n",
            "Epoch 44/48\n",
            "209/209 [==============================] - 6s 28ms/step - loss: 0.3885 - accuracy: 0.8345 - val_loss: 0.3572 - val_accuracy: 0.8475\n",
            "Epoch 45/48\n",
            "209/209 [==============================] - 3s 14ms/step - loss: 0.3832 - accuracy: 0.8380 - val_loss: 0.3591 - val_accuracy: 0.8439\n",
            "Epoch 46/48\n",
            "209/209 [==============================] - 3s 14ms/step - loss: 0.3816 - accuracy: 0.8360 - val_loss: 0.3521 - val_accuracy: 0.8547\n",
            "Epoch 47/48\n",
            "209/209 [==============================] - 3s 14ms/step - loss: 0.3890 - accuracy: 0.8374 - val_loss: 0.3528 - val_accuracy: 0.8475\n",
            "Epoch 48/48\n",
            "209/209 [==============================] - 7s 33ms/step - loss: 0.3830 - accuracy: 0.8390 - val_loss: 0.3521 - val_accuracy: 0.8499\n"
          ]
        }
      ]
    },
    {
      "cell_type": "markdown",
      "source": [
        "## Evaluation"
      ],
      "metadata": {
        "id": "5kepPutSbgZv"
      }
    },
    {
      "cell_type": "markdown",
      "source": [
        "### Accuracy"
      ],
      "metadata": {
        "id": "HEkTRaYmbi69"
      }
    },
    {
      "cell_type": "markdown",
      "source": [
        "### Train"
      ],
      "metadata": {
        "id": "QDy3-qA2blga"
      }
    },
    {
      "cell_type": "code",
      "source": [
        "if algorithm_class == \"deep-learning\":\n",
        "  train_loss, train_accuracy = model.evaluate(train_data,train_labels)\n",
        "  results_df.at[\"Accuracy-Train\", deep_learning_model] = train_accuracy\n",
        "  results_df.at[\"Loss-Train\", deep_learning_model] = train_loss\n",
        "  print(f\"{deep_learning_model} Train loss: {train_loss:.4f} - Train accuracy: {train_accuracy:.4f}\")"
      ],
      "metadata": {
        "id": "xJGiUavdbhlH",
        "colab": {
          "base_uri": "https://localhost:8080/"
        },
        "outputId": "537e5e5f-029e-4cf0-e1ef-bf36de7ff1d7"
      },
      "execution_count": 85,
      "outputs": [
        {
          "output_type": "stream",
          "name": "stdout",
          "text": [
            "209/209 [==============================] - 1s 5ms/step - loss: 0.3397 - accuracy: 0.8502\n",
            "M-Bi-GRU Train loss: 0.3397 - Train accuracy: 0.8502\n"
          ]
        }
      ]
    },
    {
      "cell_type": "markdown",
      "source": [
        "#### Validation"
      ],
      "metadata": {
        "id": "FQD0TU24bryu"
      }
    },
    {
      "cell_type": "code",
      "source": [
        "if algorithm_class == \"deep-learning\":\n",
        "  start = time.time()\n",
        "  val_loss, val_accuracy = model.evaluate(val_data, val_labels)\n",
        "  end = time.time()\n",
        "  results_df.at[\"Execution-Val\", deep_learning_model] = end - start\n",
        "  results_df.at[\"Accuracy-Val\", deep_learning_model] = val_accuracy\n",
        "  results_df.at[\"Loss-Val\", deep_learning_model] = val_loss\n",
        "  print(f\"{deep_learning_model} Validation loss: {val_loss:.4f} - Validation accuracy: {val_accuracy:.4f}\")"
      ],
      "metadata": {
        "id": "NXYQBd60bq01",
        "colab": {
          "base_uri": "https://localhost:8080/"
        },
        "outputId": "b8a1e9bd-e129-41f4-f5b8-761f458bb85b"
      },
      "execution_count": 86,
      "outputs": [
        {
          "output_type": "stream",
          "name": "stdout",
          "text": [
            "27/27 [==============================] - 0s 5ms/step - loss: 0.3521 - accuracy: 0.8499\n",
            "M-Bi-GRU Validation loss: 0.3521 - Validation accuracy: 0.8499\n"
          ]
        }
      ]
    },
    {
      "cell_type": "markdown",
      "source": [
        "#### Test"
      ],
      "metadata": {
        "id": "I-Xhp63lbzoy"
      }
    },
    {
      "cell_type": "code",
      "source": [
        "if algorithm_class == \"deep-learning\":\n",
        "  start = time.time()\n",
        "  test_loss, test_accuracy = model.evaluate(test_data, test_labels)\n",
        "  end = time.time()\n",
        "  results_df.at[\"Execution-Test\", deep_learning_model] = end - start\n",
        "  results_df.at[\"Accuracy-Test\", deep_learning_model] = test_accuracy\n",
        "  results_df.at[\"Loss-Test\", deep_learning_model] = test_loss\n",
        "  print(f\"{deep_learning_model} Test loss: {test_loss:.4f} - Test accuracy: {test_accuracy:.4f}\")"
      ],
      "metadata": {
        "id": "RSgdWvmtby_1",
        "colab": {
          "base_uri": "https://localhost:8080/"
        },
        "outputId": "0124eab0-c0b0-4880-b30e-a45ccbbbb18c"
      },
      "execution_count": 87,
      "outputs": [
        {
          "output_type": "stream",
          "name": "stdout",
          "text": [
            "27/27 [==============================] - 0s 3ms/step - loss: 0.3942 - accuracy: 0.8307\n",
            "M-Bi-GRU Test loss: 0.3942 - Test accuracy: 0.8307\n"
          ]
        }
      ]
    },
    {
      "cell_type": "markdown",
      "source": [
        "### Precision, Recall and F1 Score"
      ],
      "metadata": {
        "id": "YyZV2TVub7te"
      }
    },
    {
      "cell_type": "markdown",
      "source": [
        "#### Train"
      ],
      "metadata": {
        "id": "NvuICfGwcASI"
      }
    },
    {
      "cell_type": "code",
      "source": [
        "if algorithm_class == \"deep-learning\":\n",
        "  train_predictions = model.predict(train_data)\n",
        "  train_predictions = [1 if x >= 0.5 else 0 for x in train_predictions]\n",
        "\n",
        "  precision_train = precision_score(train_labels, train_predictions)\n",
        "  recall_train = recall_score(train_labels, train_predictions)\n",
        "  f1_train = f1_score(train_labels, train_predictions)\n",
        "\n",
        "  results_df.at[\"Precision-Train\", deep_learning_model] = precision_train\n",
        "  results_df.at[\"Recall-Train\", deep_learning_model] = recall_train\n",
        "  results_df.at[\"F1-Train\", deep_learning_model] = f1_train\n",
        "\n",
        "  print(f\"{deep_learning_model} (Train Set) - Precision: {precision_train:.4f}, Recall: {recall_train:.4f}, F1 Score: {f1_train:.4f}\")"
      ],
      "metadata": {
        "id": "7Jp2NUDDb7Fi",
        "colab": {
          "base_uri": "https://localhost:8080/"
        },
        "outputId": "f32c5065-8a28-4b54-8c46-e38283aadc81"
      },
      "execution_count": 88,
      "outputs": [
        {
          "output_type": "stream",
          "name": "stdout",
          "text": [
            "209/209 [==============================] - 1s 3ms/step\n",
            "M-Bi-GRU (Train Set) - Precision: 0.8657, Recall: 0.8288, F1 Score: 0.8469\n"
          ]
        }
      ]
    },
    {
      "cell_type": "markdown",
      "source": [
        "#### Validation"
      ],
      "metadata": {
        "id": "Blo54KJJcPGR"
      }
    },
    {
      "cell_type": "code",
      "source": [
        "if algorithm_class == \"deep-learning\":\n",
        "  val_predictions = model.predict(val_data)\n",
        "  val_predictions = [1 if x >= 0.5 else 0 for x in val_predictions]\n",
        "\n",
        "  precision_val = precision_score(val_labels, val_predictions)\n",
        "  recall_val = recall_score(val_labels, val_predictions)\n",
        "  f1_val = f1_score(val_labels, val_predictions)\n",
        "\n",
        "  results_df.at[\"Precision-Val\", deep_learning_model] = precision_val\n",
        "  results_df.at[\"Recall-Val\", deep_learning_model] = recall_val\n",
        "  results_df.at[\"F1-Val\", deep_learning_model] = f1_val\n",
        "\n",
        "  print(f\"{deep_learning_model} (Val Set) - Precision: {precision_val:.4f}, Recall: {recall_val:.4f}, F1 Score: {f1_val:.4f}\")"
      ],
      "metadata": {
        "id": "ADxAugrCcJB5",
        "colab": {
          "base_uri": "https://localhost:8080/"
        },
        "outputId": "3e157f42-55d6-4111-ce63-c853d1a067f6"
      },
      "execution_count": 89,
      "outputs": [
        {
          "output_type": "stream",
          "name": "stdout",
          "text": [
            "27/27 [==============================] - 0s 3ms/step\n",
            "M-Bi-GRU (Val Set) - Precision: 0.8506, Recall: 0.8486, F1 Score: 0.8496\n"
          ]
        }
      ]
    },
    {
      "cell_type": "markdown",
      "source": [
        "#### Test"
      ],
      "metadata": {
        "id": "ufb93OYbcVmM"
      }
    },
    {
      "cell_type": "code",
      "source": [
        "if algorithm_class == \"deep-learning\":\n",
        "  test_predictions = model.predict(test_data)\n",
        "  test_predictions = [1 if x >= 0.5 else 0 for x in test_predictions]\n",
        "\n",
        "  precision_test = precision_score(test_labels, test_predictions)\n",
        "  recall_test = recall_score(test_labels, test_predictions)\n",
        "  f1_test = f1_score(test_labels, test_predictions)\n",
        "\n",
        "  results_df.at[\"Precision-Test\", deep_learning_model] = precision_test\n",
        "  results_df.at[\"Recall-Test\", deep_learning_model] = recall_test\n",
        "  results_df.at[\"F1-Test\", deep_learning_model] = f1_test\n",
        "\n",
        "  print(f\"{deep_learning_model} (Test Set) - Precision: {precision_test:.4f}, Recall: {recall_test:.4f}, F1 Score: {f1_test:.4f}\")"
      ],
      "metadata": {
        "id": "iI3aJXyicU_f",
        "colab": {
          "base_uri": "https://localhost:8080/"
        },
        "outputId": "e3f812b4-d072-4c0b-afa1-d0e486835b52"
      },
      "execution_count": 90,
      "outputs": [
        {
          "output_type": "stream",
          "name": "stdout",
          "text": [
            "27/27 [==============================] - 0s 3ms/step\n",
            "M-Bi-GRU (Test Set) - Precision: 0.8270, Recall: 0.8369, F1 Score: 0.8319\n"
          ]
        }
      ]
    },
    {
      "cell_type": "markdown",
      "source": [
        "### MAR and FAR"
      ],
      "metadata": {
        "id": "tOsbwbGLcaKW"
      }
    },
    {
      "cell_type": "code",
      "source": [
        "def compute_mar(TN, FP, FN, TP):\n",
        "    miss_alarm_rate = FN / (TP + FN)\n",
        "    return miss_alarm_rate"
      ],
      "metadata": {
        "id": "buMF0rREcZfu"
      },
      "execution_count": 91,
      "outputs": []
    },
    {
      "cell_type": "code",
      "source": [
        "def compute_far(TN, FP, FN, TP):\n",
        "    false_alarm_rate = FP / (FP + TN)\n",
        "    return false_alarm_rate"
      ],
      "metadata": {
        "id": "dg0Q-wD7cdMO"
      },
      "execution_count": 92,
      "outputs": []
    },
    {
      "cell_type": "markdown",
      "source": [
        "#### Train"
      ],
      "metadata": {
        "id": "lJHiQ4HWcffr"
      }
    },
    {
      "cell_type": "code",
      "source": [
        "if algorithm_class == \"deep-learning\":\n",
        "  tn, fp, fn, tp = confusion_matrix(train_labels, train_predictions).ravel()\n",
        "\n",
        "  mar_train = compute_mar(tn, fp, fn, tp)\n",
        "  far_train = compute_far(tn, fp, fn, tp)\n",
        "\n",
        "  results_df.at[\"MAR-Train\", deep_learning_model] = mar_train\n",
        "  results_df.at[\"FAR-Train\", deep_learning_model] = far_train\n",
        "\n",
        "  print(f\"{deep_learning_model} (Train Set) - MAR: {mar_train:.4f}, FAR: {far_train:.4f}\")"
      ],
      "metadata": {
        "id": "BS98rTvschh1",
        "colab": {
          "base_uri": "https://localhost:8080/"
        },
        "outputId": "ddc328f1-62cd-47c8-8f65-4b229d76f447"
      },
      "execution_count": 93,
      "outputs": [
        {
          "output_type": "stream",
          "name": "stdout",
          "text": [
            "M-Bi-GRU (Train Set) - MAR: 0.1712, FAR: 0.1285\n"
          ]
        }
      ]
    },
    {
      "cell_type": "markdown",
      "source": [
        "#### Validation"
      ],
      "metadata": {
        "id": "_J8W7CgRclTL"
      }
    },
    {
      "cell_type": "code",
      "source": [
        "if algorithm_class == \"deep-learning\":\n",
        "  tn, fp, fn, tp = confusion_matrix(val_labels, val_predictions).ravel()\n",
        "\n",
        "  mar_val = compute_mar(tn, fp, fn, tp)\n",
        "  far_val = compute_far(tn, fp, fn, tp)\n",
        "\n",
        "  results_df.at[\"MAR-Val\", deep_learning_model] = mar_val\n",
        "  results_df.at[\"FAR-Val\", deep_learning_model] = far_val\n",
        "\n",
        "  print(f\"{deep_learning_model} (Val Set) - MAR: {mar_val:.4f}, FAR: {far_val:.4f}\")"
      ],
      "metadata": {
        "id": "bTdo5BaOckd5",
        "colab": {
          "base_uri": "https://localhost:8080/"
        },
        "outputId": "a420b1f4-ef24-4601-af92-52eeccdf5c7e"
      },
      "execution_count": 94,
      "outputs": [
        {
          "output_type": "stream",
          "name": "stdout",
          "text": [
            "M-Bi-GRU (Val Set) - MAR: 0.1514, FAR: 0.1487\n"
          ]
        }
      ]
    },
    {
      "cell_type": "markdown",
      "source": [
        "#### Test"
      ],
      "metadata": {
        "id": "GxgPNzI6crHf"
      }
    },
    {
      "cell_type": "code",
      "source": [
        "if algorithm_class == \"deep-learning\":\n",
        "  tn, fp, fn, tp = confusion_matrix(test_labels, test_predictions).ravel()\n",
        "\n",
        "  mar_test = compute_mar(tn, fp, fn, tp)\n",
        "  far_test = compute_far(tn, fp, fn, tp)\n",
        "\n",
        "  results_df.at[\"MAR-Test\", deep_learning_model] = mar_test\n",
        "  results_df.at[\"FAR-Test\", deep_learning_model] = far_test\n",
        "\n",
        "  print(f\"{deep_learning_model} (Test Set) - MAR: {mar_test:.4f}, FAR: {far_test:.4f}\")"
      ],
      "metadata": {
        "id": "ZpkBfZ51cquW",
        "colab": {
          "base_uri": "https://localhost:8080/"
        },
        "outputId": "0d1e4766-493e-4a43-ae09-c6855a898f7b"
      },
      "execution_count": 95,
      "outputs": [
        {
          "output_type": "stream",
          "name": "stdout",
          "text": [
            "M-Bi-GRU (Test Set) - MAR: 0.1631, FAR: 0.1755\n"
          ]
        }
      ]
    },
    {
      "cell_type": "markdown",
      "source": [
        "### ROC and AUC"
      ],
      "metadata": {
        "id": "k9qdZj6jcvUy"
      }
    },
    {
      "cell_type": "markdown",
      "source": [
        "#### Train"
      ],
      "metadata": {
        "id": "vFr333qPcxXk"
      }
    },
    {
      "cell_type": "code",
      "source": [
        "if algorithm_class == \"deep-learning\":\n",
        "  # Compute the ROC curve\n",
        "  fpr, tpr, thresholds = roc_curve(train_labels, train_predictions)\n",
        "\n",
        "  # Compute the AUC\n",
        "  auc_score = auc(fpr, tpr)\n",
        "  results_df.at[\"ROC-AUC-Train\", deep_learning_model] = auc_score\n",
        "\n",
        "  # Plot ROC curve\n",
        "  plt.figure(figsize=(6, 4))\n",
        "  plt.plot(fpr, tpr, color='red', lw=2, label=f'ROC curve (AUC = {auc_score:.2f})')\n",
        "  plt.plot([0, 1], [0, 1], color='black', lw=2, linestyle='--')\n",
        "  plt.xlim([0.0, 1.0])\n",
        "  plt.ylim([0.0, 1.05])\n",
        "  plt.xlabel('False Positive Rate')\n",
        "  plt.ylabel('True Positive Rate')\n",
        "  plt.title(f'{deep_learning_model} - Receiver Operating Characteristic (Train)')\n",
        "  plt.legend(loc=\"lower right\")\n",
        "  if save_results == True:\n",
        "    plt.savefig(f\"RESULTS/{dataset_name.upper()}/RNN/PLOTS/{embedding_method_name}_{deep_learning_model}_ROC_Train\")\n",
        "  plt.show()\n",
        "\n",
        "  # Print AUC score\n",
        "  print(f\"{deep_learning_model} AUC: {auc_score:.4f}\")"
      ],
      "metadata": {
        "id": "i861NnP3cunD",
        "colab": {
          "base_uri": "https://localhost:8080/",
          "height": 427
        },
        "outputId": "b77d6f69-1a8e-4261-ff8c-86bc9d9e55b1"
      },
      "execution_count": 96,
      "outputs": [
        {
          "output_type": "display_data",
          "data": {
            "text/plain": [
              "<Figure size 600x400 with 1 Axes>"
            ],
            "image/png": "[encoded data removed]"
          },
          "metadata": {}
        },
        {
          "output_type": "stream",
          "name": "stdout",
          "text": [
            "M-Bi-GRU AUC: 0.8502\n"
          ]
        }
      ]
    },
    {
      "cell_type": "markdown",
      "source": [
        "#### Validation"
      ],
      "metadata": {
        "id": "ogjQA77rc4EH"
      }
    },
    {
      "cell_type": "code",
      "source": [
        "if algorithm_class == \"deep-learning\":\n",
        "  # Compute the ROC curve\n",
        "  fpr, tpr, thresholds = roc_curve(val_labels, val_predictions)\n",
        "\n",
        "  # Compute the AUC\n",
        "  auc_score = auc(fpr, tpr)\n",
        "  results_df.at[\"ROC-AUC-Val\", deep_learning_model] = auc_score\n",
        "\n",
        "  # Plot ROC curve\n",
        "  plt.figure(figsize=(6, 4))\n",
        "  plt.plot(fpr, tpr, color='red', lw=2, label=f'ROC curve (AUC = {auc_score:.2f})')\n",
        "  plt.plot([0, 1], [0, 1], color='black', lw=2, linestyle='--')\n",
        "  plt.xlim([0.0, 1.0])\n",
        "  plt.ylim([0.0, 1.05])\n",
        "  plt.xlabel('False Positive Rate')\n",
        "  plt.ylabel('True Positive Rate')\n",
        "  plt.title(f'{deep_learning_model} - Receiver Operating Characteristic (Val)')\n",
        "  plt.legend(loc=\"lower right\")\n",
        "  if save_results == True:\n",
        "    plt.savefig(f\"RESULTS/{dataset_name.upper()}/RNN/PLOTS/{embedding_method_name}_{deep_learning_model}_ROC_Val\")\n",
        "  plt.show()\n",
        "\n",
        "  # Print AUC score\n",
        "  print(f\"{deep_learning_model} AUC: {auc_score:.4f}\")"
      ],
      "metadata": {
        "id": "uNbhcPk8c3DE",
        "colab": {
          "base_uri": "https://localhost:8080/",
          "height": 427
        },
        "outputId": "4f77bd1f-b82e-43f3-edcf-f7bb67add35c"
      },
      "execution_count": 97,
      "outputs": [
        {
          "output_type": "display_data",
          "data": {
            "text/plain": [
              "<Figure size 600x400 with 1 Axes>"
            ],
            "image/png": "[encoded data removed]"
          },
          "metadata": {}
        },
        {
          "output_type": "stream",
          "name": "stdout",
          "text": [
            "M-Bi-GRU AUC: 0.8499\n"
          ]
        }
      ]
    },
    {
      "cell_type": "markdown",
      "source": [
        "#### Train"
      ],
      "metadata": {
        "id": "z8kCG1s-c_KT"
      }
    },
    {
      "cell_type": "code",
      "source": [
        "if algorithm_class == \"deep-learning\":\n",
        "  # Compute the ROC curve\n",
        "  fpr, tpr, thresholds = roc_curve(test_labels, test_predictions)\n",
        "\n",
        "  # Compute the AUC\n",
        "  auc_score = auc(fpr, tpr)\n",
        "  results_df.at[\"ROC-AUC-Test\", deep_learning_model] = auc_score\n",
        "\n",
        "  # Plot ROC curve\n",
        "  plt.figure(figsize=(6, 4))\n",
        "  plt.plot(fpr, tpr, color='red', lw=2, label=f'ROC curve (AUC = {auc_score:.2f})')\n",
        "  plt.plot([0, 1], [0, 1], color='black', lw=2, linestyle='--')\n",
        "  plt.xlim([0.0, 1.0])\n",
        "  plt.ylim([0.0, 1.05])\n",
        "  plt.xlabel('False Positive Rate')\n",
        "  plt.ylabel('True Positive Rate')\n",
        "  plt.title(f'{deep_learning_model} - Receiver Operating Characteristic (Test)')\n",
        "  plt.legend(loc=\"lower right\")\n",
        "  if save_results == True:\n",
        "    plt.savefig(f\"RESULTS/{dataset_name.upper()}/RNN/PLOTS/{embedding_method_name}_{deep_learning_model}_ROC_Test\")\n",
        "  plt.show()\n",
        "\n",
        "  # Print AUC score\n",
        "  print(f\"{deep_learning_model} AUC: {auc_score:.4f}\")"
      ],
      "metadata": {
        "id": "RIyJ7TwPc-Vz",
        "colab": {
          "base_uri": "https://localhost:8080/",
          "height": 427
        },
        "outputId": "a99db89d-bbb1-4ab8-8b0e-2d39674e21db"
      },
      "execution_count": 98,
      "outputs": [
        {
          "output_type": "display_data",
          "data": {
            "text/plain": [
              "<Figure size 600x400 with 1 Axes>"
            ],
            "image/png": "[encoded data removed]"
          },
          "metadata": {}
        },
        {
          "output_type": "stream",
          "name": "stdout",
          "text": [
            "M-Bi-GRU AUC: 0.8307\n"
          ]
        }
      ]
    },
    {
      "cell_type": "markdown",
      "source": [
        "### Confusion Matrix"
      ],
      "metadata": {
        "id": "FdDp655ydGMe"
      }
    },
    {
      "cell_type": "markdown",
      "source": [
        "#### Train"
      ],
      "metadata": {
        "id": "qA2BNQ-LdJQr"
      }
    },
    {
      "cell_type": "code",
      "source": [
        "if algorithm_class == \"deep-learning\":\n",
        "\n",
        "  # Create a confusion matrix\n",
        "  cm = confusion_matrix(train_labels, train_predictions)\n",
        "\n",
        "  # Use matplotlib to create a heatmap\n",
        "  plt.figure(figsize=(4, 4))\n",
        "  plt.imshow(cm, interpolation='nearest', cmap=plt.cm.Reds)\n",
        "\n",
        "  # Set up the labels\n",
        "  tick_marks = np.arange(2)  # there are 2 classes: 0 and 1\n",
        "  plt.xticks(tick_marks, [0, 1])\n",
        "  plt.yticks(tick_marks, [0, 1], rotation=90)\n",
        "\n",
        "  # Add the values in the cells\n",
        "  thresh = cm.max() / 2.\n",
        "  for i, j in itertools.product(range(cm.shape[0]), range(cm.shape[1])):\n",
        "      plt.text(j, i, format(cm[i, j], 'd'),\n",
        "              horizontalalignment=\"center\",\n",
        "              color=\"white\" if cm[i, j] > thresh else \"black\")\n",
        "\n",
        "  plt.tight_layout()\n",
        "  plt.title(f'{deep_learning_model} - Confusion Matrix (Train)')\n",
        "  plt.xlabel('Predicted')\n",
        "  plt.ylabel('True')\n",
        "  if save_results == True:\n",
        "    plt.savefig(f\"RESULTS/{dataset_name.upper()}/RNN/PLOTS/{embedding_method_name}_{deep_learning_model}_CM_Train\", bbox_inches='tight')\n",
        "  plt.show()"
      ],
      "metadata": {
        "id": "nEz4Q32GdO8L",
        "colab": {
          "base_uri": "https://localhost:8080/",
          "height": 448
        },
        "outputId": "64cff0b1-07c8-452a-e6a8-565603e459b0"
      },
      "execution_count": 99,
      "outputs": [
        {
          "output_type": "display_data",
          "data": {
            "text/plain": [
              "<Figure size 400x400 with 1 Axes>"
            ],
            "image/png": "[encoded data removed]"
          },
          "metadata": {}
        }
      ]
    },
    {
      "cell_type": "markdown",
      "source": [
        "#### Validation"
      ],
      "metadata": {
        "id": "P50oB95ZdKjX"
      }
    },
    {
      "cell_type": "code",
      "source": [
        "if algorithm_class == \"deep-learning\":\n",
        "\n",
        "  # Create a confusion matrix\n",
        "  cm = confusion_matrix(val_labels, val_predictions)\n",
        "\n",
        "  # Use matplotlib to create a heatmap\n",
        "  plt.figure(figsize=(4, 4))\n",
        "  plt.imshow(cm, interpolation='nearest', cmap=plt.cm.Reds)\n",
        "\n",
        "  # Set up the labels\n",
        "  tick_marks = np.arange(2)  # there are 2 classes: 0 and 1\n",
        "  plt.xticks(tick_marks, [0, 1])\n",
        "  plt.yticks(tick_marks, [0, 1], rotation=90)\n",
        "\n",
        "  # Add the values in the cells\n",
        "  thresh = cm.max() / 2.\n",
        "  for i, j in itertools.product(range(cm.shape[0]), range(cm.shape[1])):\n",
        "      plt.text(j, i, format(cm[i, j], 'd'),\n",
        "              horizontalalignment=\"center\",\n",
        "              color=\"white\" if cm[i, j] > thresh else \"black\")\n",
        "\n",
        "  plt.tight_layout()\n",
        "  plt.title(f'{deep_learning_model} - Confusion Matrix (Val)')\n",
        "  plt.xlabel('Predicted')\n",
        "  plt.ylabel('True')\n",
        "  if save_results == True:\n",
        "    plt.savefig(f\"RESULTS/{dataset_name.upper()}/RNN/PLOTS/{embedding_method_name}_{deep_learning_model}_CM_Val\", bbox_inches='tight')\n",
        "  plt.show()"
      ],
      "metadata": {
        "id": "9xLpxuaudWG4",
        "colab": {
          "base_uri": "https://localhost:8080/",
          "height": 448
        },
        "outputId": "9b32e0b4-3c0e-4e16-cd8f-6b8997920979"
      },
      "execution_count": 100,
      "outputs": [
        {
          "output_type": "display_data",
          "data": {
            "text/plain": [
              "<Figure size 400x400 with 1 Axes>"
            ],
            "image/png": "[encoded data removed]"
          },
          "metadata": {}
        }
      ]
    },
    {
      "cell_type": "markdown",
      "source": [
        "#### Test"
      ],
      "metadata": {
        "id": "1YiqMAZHdMB6"
      }
    },
    {
      "cell_type": "code",
      "source": [
        "if algorithm_class == \"deep-learning\":\n",
        "\n",
        "  # Create a confusion matrix\n",
        "  cm = confusion_matrix(test_labels, test_predictions)\n",
        "\n",
        "  # Use matplotlib to create a heatmap\n",
        "  plt.figure(figsize=(4, 4))\n",
        "  plt.imshow(cm, interpolation='nearest', cmap=plt.cm.Reds)\n",
        "\n",
        "  # Set up the labels\n",
        "  tick_marks = np.arange(2)  # there are 2 classes: 0 and 1\n",
        "  plt.xticks(tick_marks, [0, 1])\n",
        "  plt.yticks(tick_marks, [0, 1], rotation=90)\n",
        "\n",
        "  # Add the values in the cells\n",
        "  thresh = cm.max() / 2.\n",
        "  for i, j in itertools.product(range(cm.shape[0]), range(cm.shape[1])):\n",
        "      plt.text(j, i, format(cm[i, j], 'd'),\n",
        "              horizontalalignment=\"center\",\n",
        "              color=\"white\" if cm[i, j] > thresh else \"black\")\n",
        "\n",
        "  plt.tight_layout()\n",
        "  plt.title(f'{deep_learning_model} - Confusion Matrix (Test)')\n",
        "  plt.xlabel('Predicted')\n",
        "  plt.ylabel('True')\n",
        "  if save_results == True:\n",
        "    plt.savefig(f\"RESULTS/{dataset_name.upper()}/RNN/PLOTS/{embedding_method_name}_{deep_learning_model}_CM_Test\", bbox_inches='tight')\n",
        "  plt.show()"
      ],
      "metadata": {
        "id": "9KP4iH4LdE5G",
        "colab": {
          "base_uri": "https://localhost:8080/",
          "height": 448
        },
        "outputId": "8a4e10c8-f7b7-4a76-8655-3cb001da50c5"
      },
      "execution_count": 101,
      "outputs": [
        {
          "output_type": "display_data",
          "data": {
            "text/plain": [
              "<Figure size 400x400 with 1 Axes>"
            ],
            "image/png": "[encoded data removed]"
          },
          "metadata": {}
        }
      ]
    },
    {
      "cell_type": "code",
      "source": [
        "if save_results == True and algorithm_class == \"deep-learning\":\n",
        "  results_df.to_csv(f\"RESULTS/{dataset_name.upper()}/RNN/METRICS/{embedding_method_name}_results.csv\")"
      ],
      "metadata": {
        "id": "Nu4T_4KaeQOM"
      },
      "execution_count": 102,
      "outputs": []
    },
    {
      "cell_type": "markdown",
      "source": [
        "# Transformers"
      ],
      "metadata": {
        "id": "JYsw_5ZJejR5"
      }
    },
    {
      "cell_type": "markdown",
      "source": [
        "## Fine-Tune Transformer Model"
      ],
      "metadata": {
        "id": "yjh1WoT9gzr_"
      }
    },
    {
      "cell_type": "code",
      "source": [
        "def compute_metrics(eval_pred):\n",
        "    predictions, labels = eval_pred\n",
        "    predictions = np.argmax(predictions, axis=1)\n",
        "    precision, recall, f1, _ = precision_recall_fscore_support(labels, predictions, average='binary')\n",
        "    acc = accuracy_score(labels, predictions)\n",
        "    return {'accuracy': acc, 'f1': f1, 'precision': precision, 'recall': recall}"
      ],
      "metadata": {
        "id": "wU4x5-32hTZf"
      },
      "execution_count": 103,
      "outputs": []
    },
    {
      "cell_type": "code",
      "source": [
        "if algorithm_class == \"transformers\":\n",
        "  # Load model\n",
        "  model = AutoModelForSequenceClassification.from_pretrained(transformer_model, num_labels=2)\n",
        "\n",
        "  # Training arguments\n",
        "  training_args = TrainingArguments(\n",
        "      output_dir=f\"{transformer_model}_results\",\n",
        "      num_train_epochs=1,\n",
        "      per_device_train_batch_size=8,\n",
        "      per_device_eval_batch_size=8,\n",
        "      warmup_steps=500,\n",
        "      weight_decay=0.01,\n",
        "      logging_dir=f\"{transformer_model}_logs\",\n",
        "      logging_steps=10,\n",
        "      evaluation_strategy=\"epoch\",\n",
        "      save_strategy=\"epoch\",\n",
        "      seed=42,\n",
        "  )\n",
        "\n",
        "  # Create Trainer\n",
        "  trainer = Trainer(\n",
        "      model=model,\n",
        "      args=training_args,\n",
        "      train_dataset=encoded_train_dataset,\n",
        "      eval_dataset=encoded_val_dataset,\n",
        "      tokenizer=tokenizer,\n",
        "      compute_metrics=compute_metrics,\n",
        "  )\n",
        "\n",
        "  # Fine-tune the model\n",
        "  start = time.time()\n",
        "  trainer.train()\n",
        "  end = time.time()\n",
        "  results_df.at[\"Execution-Train\", f\"{transformer_model}\"] = end - start"
      ],
      "metadata": {
        "id": "Qxb9P8Cyelg3"
      },
      "execution_count": 104,
      "outputs": []
    },
    {
      "cell_type": "markdown",
      "source": [
        "## Evaluation"
      ],
      "metadata": {
        "id": "mB9aDcA7hihI"
      }
    },
    {
      "cell_type": "code",
      "source": [
        "model_results_path = f\"/content/drive/MyDrive/Master/Dizertatie/RESULTS/{transformer_model.upper()}\"\n",
        "os.makedirs(model_results_path, exist_ok=True)"
      ],
      "metadata": {
        "id": "zEmYmdTJlb94"
      },
      "execution_count": 105,
      "outputs": []
    },
    {
      "cell_type": "markdown",
      "source": [
        "### Predictions"
      ],
      "metadata": {
        "id": "N0gqBHFijHJP"
      }
    },
    {
      "cell_type": "code",
      "source": [
        "def get_predictions(trainer, dataset):\n",
        "    # Get raw model predictions\n",
        "    predictions_output = trainer.predict(dataset)\n",
        "    predictions = predictions_output.predictions\n",
        "\n",
        "    # Apply softmax and argmax to get predicted classes\n",
        "    predicted_classes = np.argmax(softmax(predictions, axis=1), axis=1)\n",
        "    true_labels = predictions_output.label_ids\n",
        "\n",
        "    return predicted_classes, true_labels"
      ],
      "metadata": {
        "id": "V9I57ILVjJmV"
      },
      "execution_count": 106,
      "outputs": []
    },
    {
      "cell_type": "code",
      "source": [
        "if algorithm_class == \"transformers\":\n",
        "  train_preds, train_labels = get_predictions(trainer, encoded_train_dataset)\n",
        "  val_preds, val_labels = get_predictions(trainer, encoded_val_dataset)\n",
        "  test_preds, test_labels = get_predictions(trainer, encoded_test_dataset)"
      ],
      "metadata": {
        "id": "y6j_FBpOjLcS"
      },
      "execution_count": 108,
      "outputs": []
    },
    {
      "cell_type": "markdown",
      "source": [
        "### Accuracy"
      ],
      "metadata": {
        "id": "04iacllDh1FB"
      }
    },
    {
      "cell_type": "markdown",
      "source": [
        "#### Train"
      ],
      "metadata": {
        "id": "ow33fsbniJS-"
      }
    },
    {
      "cell_type": "code",
      "source": [
        "if algorithm_class == \"transformers\":\n",
        "  start = time.time()\n",
        "  train_accuracy = accuracy_score(train_labels, train_preds)\n",
        "  end = time.time()\n",
        "  results_df.at[\"Execution-Train\", transformer_model] = end - start\n",
        "  results_df.at[\"Accuracy-Train\", transformer_model] = train_accuracy\n",
        "  print(f\"{transformer_model} Train accuracy: {train_accuracy:.4f}\")"
      ],
      "metadata": {
        "id": "Fd-0NsUYg3vz"
      },
      "execution_count": 109,
      "outputs": []
    },
    {
      "cell_type": "markdown",
      "source": [
        "#### Validation"
      ],
      "metadata": {
        "id": "N68q6Lm3iK9-"
      }
    },
    {
      "cell_type": "code",
      "source": [
        "if algorithm_class == \"transformers\":\n",
        "  start = time.time()\n",
        "  val_accuracy = accuracy_score(val_labels, val_preds)\n",
        "  end = time.time()\n",
        "  results_df.at[\"Execution-Val\", transformer_model] = end - start\n",
        "  results_df.at[\"Accuracy-Val\", transformer_model] = val_accuracy\n",
        "  print(f\"{transformer_model} Val accuracy: {val_accuracy:.4f}\")"
      ],
      "metadata": {
        "id": "ihBugZYXiMT9"
      },
      "execution_count": 110,
      "outputs": []
    },
    {
      "cell_type": "markdown",
      "source": [
        "#### Test"
      ],
      "metadata": {
        "id": "L-V3obHpiUTL"
      }
    },
    {
      "cell_type": "code",
      "source": [
        "if algorithm_class == \"transformers\":\n",
        "  start = time.time()\n",
        "  test_accuracy = accuracy_score(test_labels, test_preds)\n",
        "  end = time.time()\n",
        "  results_df.at[\"Execution-Test\", transformer_model] = end - start\n",
        "  results_df.at[\"Accuracy-Test\", transformer_model] = test_accuracy\n",
        "  print(f\"{transformer_model} Test accuracy: {test_accuracy:.4f}\")"
      ],
      "metadata": {
        "id": "hDJJF0vviVmV"
      },
      "execution_count": 111,
      "outputs": []
    },
    {
      "cell_type": "markdown",
      "source": [
        "#### Precision, Recall and F1 Score"
      ],
      "metadata": {
        "id": "xb-f8ecYifDq"
      }
    },
    {
      "cell_type": "markdown",
      "source": [
        "#### Train"
      ],
      "metadata": {
        "id": "ByAEbSfpiiSe"
      }
    },
    {
      "cell_type": "code",
      "source": [
        "if algorithm_class == \"transformers\":\n",
        "  precision_train = precision_score(train_labels, train_preds)\n",
        "  recall_train = recall_score(train_labels, train_preds)\n",
        "  f1_train = f1_score(train_labels, train_preds)\n",
        "\n",
        "  results_df.at[\"Precision-Train\", transformer_model] = precision_train\n",
        "  results_df.at[\"Recall-Train\", transformer_model] = recall_train\n",
        "  results_df.at[\"F1-Train\", transformer_model] = f1_train\n",
        "\n",
        "  print(f\"{transformer_model} (Train Set) - Precision: {precision_train:.4f}, Recall: {recall_train:.4f}, F1 Score: {f1_train:.4f}\")"
      ],
      "metadata": {
        "id": "JGWfcSYfihye"
      },
      "execution_count": 112,
      "outputs": []
    },
    {
      "cell_type": "markdown",
      "source": [
        "#### Validation"
      ],
      "metadata": {
        "id": "iG9S3edGiv-J"
      }
    },
    {
      "cell_type": "code",
      "source": [
        "if algorithm_class == \"transformers\":\n",
        "  precision_val = precision_score(val_labels, val_preds)\n",
        "  recall_val = recall_score(val_labels, val_preds)\n",
        "  f1_val = f1_score(val_labels, val_preds)\n",
        "\n",
        "  results_df.at[\"Precision-Val\", transformer_model] = precision_val\n",
        "  results_df.at[\"Recall-Val\", transformer_model] = recall_val\n",
        "  results_df.at[\"F1-Val\", transformer_model] = f1_val\n",
        "\n",
        "  print(f\"{transformer_model} (Val Set) - Precision: {precision_val:.4f}, Recall: {recall_val:.4f}, F1 Score: {f1_val:.4f}\")"
      ],
      "metadata": {
        "id": "Hxzqn3Afix5v"
      },
      "execution_count": 113,
      "outputs": []
    },
    {
      "cell_type": "markdown",
      "source": [
        "#### Test"
      ],
      "metadata": {
        "id": "udo4L4T5i6bi"
      }
    },
    {
      "cell_type": "code",
      "source": [
        "if algorithm_class == \"transformers\":\n",
        "  precision_test = precision_score(test_labels, test_preds)\n",
        "  recall_test = recall_score(test_labels, test_preds)\n",
        "  f1_test = f1_score(test_labels, test_preds)\n",
        "\n",
        "  results_df.at[\"Precision-Test\", transformer_model] = precision_test\n",
        "  results_df.at[\"Recall-Test\", transformer_model] = recall_test\n",
        "  results_df.at[\"F1-Test\", transformer_model] = f1_test\n",
        "\n",
        "  print(f\"{transformer_model} (Test Set) - Precision: {precision_test:.4f}, Recall: {recall_test:.4f}, F1 Score: {f1_test:.4f}\")"
      ],
      "metadata": {
        "id": "RyeSbnwui7aT"
      },
      "execution_count": 114,
      "outputs": []
    },
    {
      "cell_type": "markdown",
      "source": [
        "### MAR and FAR"
      ],
      "metadata": {
        "id": "vWMCk2psjTMd"
      }
    },
    {
      "cell_type": "code",
      "source": [
        "def compute_mar(TN, FP, FN, TP):\n",
        "    miss_alarm_rate = FN / (TP + FN)\n",
        "    return miss_alarm_rate"
      ],
      "metadata": {
        "id": "CIV8_DRvkLOS"
      },
      "execution_count": 115,
      "outputs": []
    },
    {
      "cell_type": "code",
      "source": [
        "def compute_far(TN, FP, FN, TP):\n",
        "    false_alarm_rate = FP / (FP + TN)\n",
        "    return false_alarm_rate"
      ],
      "metadata": {
        "id": "pQG1hDUYkMQy"
      },
      "execution_count": 116,
      "outputs": []
    },
    {
      "cell_type": "markdown",
      "source": [
        "#### Train"
      ],
      "metadata": {
        "id": "daF_D8XHjjGl"
      }
    },
    {
      "cell_type": "code",
      "source": [
        "if algorithm_class == \"transformers\":\n",
        "  tn, fp, fn, tp = confusion_matrix(train_labels, train_preds).ravel()\n",
        "\n",
        "  mar_train = compute_mar(tn, fp, fn, tp)\n",
        "  far_train = compute_far(tn, fp, fn, tp)\n",
        "\n",
        "  results_df.at[\"MAR-Train\", transformer_model] = mar_train\n",
        "  results_df.at[\"FAR-Train\", transformer_model] = far_train\n",
        "\n",
        "  print(f\"{transformer_model} (Train Set) - MAR: {mar_train:.4f}, FAR: {far_train:.4f}\")"
      ],
      "metadata": {
        "id": "p7Laf2S0jiYi"
      },
      "execution_count": 117,
      "outputs": []
    },
    {
      "cell_type": "markdown",
      "source": [
        "#### Validation"
      ],
      "metadata": {
        "id": "MQfUDTdDkVLJ"
      }
    },
    {
      "cell_type": "code",
      "source": [
        "if algorithm_class == \"transformers\":\n",
        "  tn, fp, fn, tp = confusion_matrix(val_labels, val_preds).ravel()\n",
        "\n",
        "  mar_val = compute_mar(tn, fp, fn, tp)\n",
        "  far_val = compute_far(tn, fp, fn, tp)\n",
        "\n",
        "  results_df.at[\"MAR-Val\", transformer_model] = mar_val\n",
        "  results_df.at[\"FAR-Val\", transformer_model] = far_val\n",
        "\n",
        "  print(f\"{transformer_model} (Val Set) - MAR: {mar_val:.4f}, FAR: {far_val:.4f}\")"
      ],
      "metadata": {
        "id": "zQGJXfX2kZ7c"
      },
      "execution_count": 118,
      "outputs": []
    },
    {
      "cell_type": "markdown",
      "source": [
        "#### Test"
      ],
      "metadata": {
        "id": "IHWo0haXkm9F"
      }
    },
    {
      "cell_type": "code",
      "source": [
        "if algorithm_class == \"transformers\":\n",
        "  tn, fp, fn, tp = confusion_matrix(test_labels, test_preds).ravel()\n",
        "\n",
        "  mar_test = compute_mar(tn, fp, fn, tp)\n",
        "  far_test = compute_far(tn, fp, fn, tp)\n",
        "\n",
        "  results_df.at[\"MAR-Test\", transformer_model] = mar_test\n",
        "  results_df.at[\"FAR-Test\", transformer_model] = far_test\n",
        "\n",
        "  print(f\"{transformer_model} (Test Set) - MAR: {mar_test:.4f}, FAR: {far_test:.4f}\")"
      ],
      "metadata": {
        "id": "l11exl2okg9V"
      },
      "execution_count": 119,
      "outputs": []
    },
    {
      "cell_type": "markdown",
      "source": [
        "### ROC and AUC"
      ],
      "metadata": {
        "id": "poTdu1rekv3H"
      }
    },
    {
      "cell_type": "markdown",
      "source": [
        "#### Train"
      ],
      "metadata": {
        "id": "j1hFQ5OrkyL5"
      }
    },
    {
      "cell_type": "code",
      "source": [
        "if algorithm_class == \"transformers\":\n",
        "  # Compute the ROC curve\n",
        "  fpr, tpr, thresholds = roc_curve(train_labels, train_preds)\n",
        "\n",
        "  # Compute the AUC\n",
        "  auc_score = auc(fpr, tpr)\n",
        "  results_df.at[\"ROC-AUC-Train\", transformer_model] = auc_score\n",
        "\n",
        "  # Plot ROC curve\n",
        "  plt.figure(figsize=(6, 4))\n",
        "  plt.plot(fpr, tpr, color='red', lw=2, label=f'ROC curve (AUC = {auc_score:.2f})')\n",
        "  plt.plot([0, 1], [0, 1], color='black', lw=2, linestyle='--')\n",
        "  plt.xlim([0.0, 1.0])\n",
        "  plt.ylim([0.0, 1.05])\n",
        "  plt.xlabel('False Positive Rate')\n",
        "  plt.ylabel('True Positive Rate')\n",
        "  plt.title(f'{transformer_model} - Receiver Operating Characteristic (Train)')\n",
        "  plt.legend(loc=\"lower right\")\n",
        "  if save_results:\n",
        "    plt.savefig(f\"{model_results_path}/ROC_Train\")\n",
        "  plt.show()\n",
        "\n",
        "  # Print AUC score\n",
        "  print(f\"{transformer_model} AUC (Train Set): {auc_score:.4f}\")"
      ],
      "metadata": {
        "id": "O1ihqU6AkoCw"
      },
      "execution_count": 120,
      "outputs": []
    },
    {
      "cell_type": "markdown",
      "source": [
        "#### Validation"
      ],
      "metadata": {
        "id": "IbAm6QOkl2_M"
      }
    },
    {
      "cell_type": "code",
      "source": [
        "if algorithm_class == \"transformers\":\n",
        "  # Compute the ROC curve\n",
        "  fpr, tpr, thresholds = roc_curve(val_labels, val_preds)\n",
        "\n",
        "  # Compute the AUC\n",
        "  auc_score = auc(fpr, tpr)\n",
        "  results_df.at[\"ROC-AUC-Val\", transformer_model] = auc_score\n",
        "\n",
        "  # Plot ROC curve\n",
        "  plt.figure(figsize=(6, 4))\n",
        "  plt.plot(fpr, tpr, color='red', lw=2, label=f'ROC curve (AUC = {auc_score:.2f})')\n",
        "  plt.plot([0, 1], [0, 1], color='black', lw=2, linestyle='--')\n",
        "  plt.xlim([0.0, 1.0])\n",
        "  plt.ylim([0.0, 1.05])\n",
        "  plt.xlabel('False Positive Rate')\n",
        "  plt.ylabel('True Positive Rate')\n",
        "  plt.title(f'{transformer_model} - Receiver Operating Characteristic (Val)')\n",
        "  plt.legend(loc=\"lower right\")\n",
        "  if save_results:\n",
        "    plt.savefig(f\"{model_results_path}/ROC_Val\")\n",
        "  plt.show()\n",
        "\n",
        "  # Print AUC score\n",
        "  print(f\"{transformer_model} AUC (Val Set): {auc_score:.4f}\")"
      ],
      "metadata": {
        "id": "6yllpTzRlyJP"
      },
      "execution_count": 121,
      "outputs": []
    },
    {
      "cell_type": "markdown",
      "source": [
        "#### Test"
      ],
      "metadata": {
        "id": "9JE96b09mH6X"
      }
    },
    {
      "cell_type": "code",
      "source": [
        "if algorithm_class == \"transformers\":\n",
        "  # Compute the ROC curve\n",
        "  fpr, tpr, thresholds = roc_curve(test_labels, test_preds)\n",
        "\n",
        "  # Compute the AUC\n",
        "  auc_score = auc(fpr, tpr)\n",
        "  results_df.at[\"ROC-AUC-Test\", transformer_model] = auc_score\n",
        "\n",
        "  # Plot ROC curve\n",
        "  plt.figure(figsize=(6, 4))\n",
        "  plt.plot(fpr, tpr, color='red', lw=2, label=f'ROC curve (AUC = {auc_score:.2f})')\n",
        "  plt.plot([0, 1], [0, 1], color='black', lw=2, linestyle='--')\n",
        "  plt.xlim([0.0, 1.0])\n",
        "  plt.ylim([0.0, 1.05])\n",
        "  plt.xlabel('False Positive Rate')\n",
        "  plt.ylabel('True Positive Rate')\n",
        "  plt.title(f'{transformer_model} - Receiver Operating Characteristic (Test))')\n",
        "  plt.legend(loc=\"lower right\")\n",
        "  if save_results:\n",
        "    plt.savefig(f\"{model_results_path}/ROC_Test\")\n",
        "  plt.show()\n",
        "\n",
        "  # Print AUC score\n",
        "  print(f\"{transformer_model} AUC (Test Set): {auc_score:.4f}\")"
      ],
      "metadata": {
        "id": "dsxz_b9VmE3x"
      },
      "execution_count": 122,
      "outputs": []
    },
    {
      "cell_type": "markdown",
      "source": [
        "### Confusion Matrix"
      ],
      "metadata": {
        "id": "cgmRw_ytmiyN"
      }
    },
    {
      "cell_type": "markdown",
      "source": [
        "#### Train"
      ],
      "metadata": {
        "id": "qm6qNNO5mmqn"
      }
    },
    {
      "cell_type": "code",
      "source": [
        " if algorithm_class == \"transformers\":\n",
        "  cm = confusion_matrix(train_labels, train_preds)\n",
        "  # Use matplotlib to create a heatmap\n",
        "  plt.figure(figsize=(4, 4))\n",
        "  plt.imshow(cm, interpolation='nearest', cmap=plt.cm.Reds)\n",
        "  # Set up the labels\n",
        "  tick_marks = np.arange(2)\n",
        "  plt.xticks(tick_marks, [0, 1])\n",
        "  plt.yticks(tick_marks, [0, 1], rotation=90)\n",
        "  # Add the values in the cells\n",
        "  thresh = cm.max() / 2.\n",
        "  for i, j in itertools.product(range(cm.shape[0]), range(cm.shape[1])):\n",
        "      plt.text(j, i, format(cm[i, j], 'd'),\n",
        "              horizontalalignment=\"center\",\n",
        "              color=\"white\" if cm[i, j] > thresh else \"black\")\n",
        "  plt.tight_layout()\n",
        "  plt.title(f'{transformer_model} - Confusion Matrix (Train)')\n",
        "  plt.xlabel('Predicted')\n",
        "  plt.ylabel('True')\n",
        "  if save_results:\n",
        "    plt.savefig(f\"{model_results_path}/CM_Train\", bbox_inches='tight')\n",
        "  plt.show()"
      ],
      "metadata": {
        "id": "BEvjo2tpmZcF"
      },
      "execution_count": 123,
      "outputs": []
    },
    {
      "cell_type": "markdown",
      "source": [
        "#### Validation"
      ],
      "metadata": {
        "id": "eKaOyxfgnk9y"
      }
    },
    {
      "cell_type": "code",
      "source": [
        "if algorithm_class == \"transformers\":\n",
        "  cm = confusion_matrix(val_labels, val_preds)\n",
        "  # Use matplotlib to create a heatmap\n",
        "  plt.figure(figsize=(4, 4))\n",
        "  plt.imshow(cm, interpolation='nearest', cmap=plt.cm.Reds)\n",
        "  # Set up the labels\n",
        "  tick_marks = np.arange(2)\n",
        "  plt.xticks(tick_marks, [0, 1])\n",
        "  plt.yticks(tick_marks, [0, 1], rotation=90)\n",
        "  # Add the values in the cells\n",
        "  thresh = cm.max() / 2.\n",
        "  for i, j in itertools.product(range(cm.shape[0]), range(cm.shape[1])):\n",
        "      plt.text(j, i, format(cm[i, j], 'd'),\n",
        "              horizontalalignment=\"center\",\n",
        "              color=\"white\" if cm[i, j] > thresh else \"black\")\n",
        "  plt.tight_layout()\n",
        "  plt.title(f'{transformer_model} - Confusion Matrix (Val)')\n",
        "  plt.xlabel('Predicted')\n",
        "  plt.ylabel('True')\n",
        "  if save_results:\n",
        "        plt.savefig(f\"{model_results_path}/CM_Val\", bbox_inches='tight')\n",
        "  plt.show()"
      ],
      "metadata": {
        "id": "5sih7rComxHa"
      },
      "execution_count": 124,
      "outputs": []
    },
    {
      "cell_type": "markdown",
      "source": [
        "#### Test"
      ],
      "metadata": {
        "id": "93zHNUDmoMmX"
      }
    },
    {
      "cell_type": "code",
      "source": [
        "if algorithm_class == \"transformers\":\n",
        "  cm = confusion_matrix(test_labels, test_preds)\n",
        "  # Use matplotlib to create a heatmap\n",
        "  plt.figure(figsize=(4, 4))\n",
        "  plt.imshow(cm, interpolation='nearest', cmap=plt.cm.Reds)\n",
        "  # Set up the labels\n",
        "  tick_marks = np.arange(2)\n",
        "  plt.xticks(tick_marks, [0, 1])\n",
        "  plt.yticks(tick_marks, [0, 1], rotation=90)\n",
        "  # Add the values in the cells\n",
        "  thresh = cm.max() / 2.\n",
        "  for i, j in itertools.product(range(cm.shape[0]), range(cm.shape[1])):\n",
        "      plt.text(j, i, format(cm[i, j], 'd'),\n",
        "              horizontalalignment=\"center\",\n",
        "              color=\"white\" if cm[i, j] > thresh else \"black\")\n",
        "  plt.tight_layout()\n",
        "  plt.title(f'{transformer_model} - Confusion Matrix (Test)')\n",
        "  plt.xlabel('Predicted')\n",
        "  plt.ylabel('True')\n",
        "  if save_results:\n",
        "        plt.savefig(f\"{model_results_path}/CM_Test\", bbox_inches='tight')\n",
        "  plt.show()"
      ],
      "metadata": {
        "id": "7fpfkJVVoIis"
      },
      "execution_count": 125,
      "outputs": []
    },
    {
      "cell_type": "code",
      "source": [
        "results_df"
      ],
      "metadata": {
        "id": "4zABJoZnoY8J",
        "colab": {
          "base_uri": "https://localhost:8080/",
          "height": 896
        },
        "outputId": "11bf1998-9d34-4e02-da87-7debba1f56e7"
      },
      "execution_count": 126,
      "outputs": [
        {
          "output_type": "execute_result",
          "data": {
            "text/plain": [
              "                LSTM  GRU Bi-LSTM Bi-GRU M-LSTM M-GRU M-Bi-LSTM    M-Bi-GRU\n",
              "Accuracy-Train   NaN  NaN     NaN    NaN    NaN   NaN       NaN     0.85015\n",
              "Accuracy-Val     NaN  NaN     NaN    NaN    NaN   NaN       NaN     0.84994\n",
              "Accuracy-Test    NaN  NaN     NaN    NaN    NaN   NaN       NaN    0.830732\n",
              "Loss-Train       NaN  NaN     NaN    NaN    NaN   NaN       NaN    0.339701\n",
              "Loss-Val         NaN  NaN     NaN    NaN    NaN   NaN       NaN    0.352082\n",
              "Loss-Test        NaN  NaN     NaN    NaN    NaN   NaN       NaN    0.394199\n",
              "Execution-Train  NaN  NaN     NaN    NaN    NaN   NaN       NaN  212.354766\n",
              "Execution-Val    NaN  NaN     NaN    NaN    NaN   NaN       NaN    0.447096\n",
              "Execution-Test   NaN  NaN     NaN    NaN    NaN   NaN       NaN    0.204821\n",
              "Precision-Train  NaN  NaN     NaN    NaN    NaN   NaN       NaN    0.865747\n",
              "Precision-Val    NaN  NaN     NaN    NaN    NaN   NaN       NaN    0.850602\n",
              "Precision-Test   NaN  NaN     NaN    NaN    NaN   NaN       NaN    0.827014\n",
              "Recall-Train     NaN  NaN     NaN    NaN    NaN   NaN       NaN    0.828829\n",
              "Recall-Val       NaN  NaN     NaN    NaN    NaN   NaN       NaN    0.848558\n",
              "Recall-Test      NaN  NaN     NaN    NaN    NaN   NaN       NaN     0.83693\n",
              "MAR-Train        NaN  NaN     NaN    NaN    NaN   NaN       NaN    0.171171\n",
              "MAR-Val          NaN  NaN     NaN    NaN    NaN   NaN       NaN    0.151442\n",
              "MAR-Test         NaN  NaN     NaN    NaN    NaN   NaN       NaN     0.16307\n",
              "FAR-Train        NaN  NaN     NaN    NaN    NaN   NaN       NaN    0.128529\n",
              "FAR-Val          NaN  NaN     NaN    NaN    NaN   NaN       NaN    0.148681\n",
              "FAR-Test         NaN  NaN     NaN    NaN    NaN   NaN       NaN    0.175481\n",
              "F1-Train         NaN  NaN     NaN    NaN    NaN   NaN       NaN    0.846886\n",
              "F1-Val           NaN  NaN     NaN    NaN    NaN   NaN       NaN    0.849579\n",
              "F1-Test          NaN  NaN     NaN    NaN    NaN   NaN       NaN    0.831943\n",
              "ROC-AUC-Train    NaN  NaN     NaN    NaN    NaN   NaN       NaN     0.85015\n",
              "ROC-AUC-Val      NaN  NaN     NaN    NaN    NaN   NaN       NaN    0.849938\n",
              "ROC-AUC-Test     NaN  NaN     NaN    NaN    NaN   NaN       NaN    0.830725"
            ],
            "text/html": [
              "\n",
              "  <div id=\"df-b10f810c-d9ba-484d-9886-45fd9e78eceb\" class=\"colab-df-container\">\n",
              "    <div>\n",
              "<style scoped>\n",
              "    .dataframe tbody tr th:only-of-type {\n",
              "        vertical-align: middle;\n",
              "    }\n",
              "\n",
              "    .dataframe tbody tr th {\n",
              "        vertical-align: top;\n",
              "    }\n",
              "\n",
              "    .dataframe thead th {\n",
              "        text-align: right;\n",
              "    }\n",
              "</style>\n",
              "<table border=\"1\" class=\"dataframe\">\n",
              "  <thead>\n",
              "    <tr style=\"text-align: right;\">\n",
              "      <th></th>\n",
              "      <th>LSTM</th>\n",
              "      <th>GRU</th>\n",
              "      <th>Bi-LSTM</th>\n",
              "      <th>Bi-GRU</th>\n",
              "      <th>M-LSTM</th>\n",
              "      <th>M-GRU</th>\n",
              "      <th>M-Bi-LSTM</th>\n",
              "      <th>M-Bi-GRU</th>\n",
              "    </tr>\n",
              "  </thead>\n",
              "  <tbody>\n",
              "    <tr>\n",
              "      <th>Accuracy-Train</th>\n",
              "      <td>NaN</td>\n",
              "      <td>NaN</td>\n",
              "      <td>NaN</td>\n",
              "      <td>NaN</td>\n",
              "      <td>NaN</td>\n",
              "      <td>NaN</td>\n",
              "      <td>NaN</td>\n",
              "      <td>0.85015</td>\n",
              "    </tr>\n",
              "    <tr>\n",
              "      <th>Accuracy-Val</th>\n",
              "      <td>NaN</td>\n",
              "      <td>NaN</td>\n",
              "      <td>NaN</td>\n",
              "      <td>NaN</td>\n",
              "      <td>NaN</td>\n",
              "      <td>NaN</td>\n",
              "      <td>NaN</td>\n",
              "      <td>0.84994</td>\n",
              "    </tr>\n",
              "    <tr>\n",
              "      <th>Accuracy-Test</th>\n",
              "      <td>NaN</td>\n",
              "      <td>NaN</td>\n",
              "      <td>NaN</td>\n",
              "      <td>NaN</td>\n",
              "      <td>NaN</td>\n",
              "      <td>NaN</td>\n",
              "      <td>NaN</td>\n",
              "      <td>0.830732</td>\n",
              "    </tr>\n",
              "    <tr>\n",
              "      <th>Loss-Train</th>\n",
              "      <td>NaN</td>\n",
              "      <td>NaN</td>\n",
              "      <td>NaN</td>\n",
              "      <td>NaN</td>\n",
              "      <td>NaN</td>\n",
              "      <td>NaN</td>\n",
              "      <td>NaN</td>\n",
              "      <td>0.339701</td>\n",
              "    </tr>\n",
              "    <tr>\n",
              "      <th>Loss-Val</th>\n",
              "      <td>NaN</td>\n",
              "      <td>NaN</td>\n",
              "      <td>NaN</td>\n",
              "      <td>NaN</td>\n",
              "      <td>NaN</td>\n",
              "      <td>NaN</td>\n",
              "      <td>NaN</td>\n",
              "      <td>0.352082</td>\n",
              "    </tr>\n",
              "    <tr>\n",
              "      <th>Loss-Test</th>\n",
              "      <td>NaN</td>\n",
              "      <td>NaN</td>\n",
              "      <td>NaN</td>\n",
              "      <td>NaN</td>\n",
              "      <td>NaN</td>\n",
              "      <td>NaN</td>\n",
              "      <td>NaN</td>\n",
              "      <td>0.394199</td>\n",
              "    </tr>\n",
              "    <tr>\n",
              "      <th>Execution-Train</th>\n",
              "      <td>NaN</td>\n",
              "      <td>NaN</td>\n",
              "      <td>NaN</td>\n",
              "      <td>NaN</td>\n",
              "      <td>NaN</td>\n",
              "      <td>NaN</td>\n",
              "      <td>NaN</td>\n",
              "      <td>212.354766</td>\n",
              "    </tr>\n",
              "    <tr>\n",
              "      <th>Execution-Val</th>\n",
              "      <td>NaN</td>\n",
              "      <td>NaN</td>\n",
              "      <td>NaN</td>\n",
              "      <td>NaN</td>\n",
              "      <td>NaN</td>\n",
              "      <td>NaN</td>\n",
              "      <td>NaN</td>\n",
              "      <td>0.447096</td>\n",
              "    </tr>\n",
              "    <tr>\n",
              "      <th>Execution-Test</th>\n",
              "      <td>NaN</td>\n",
              "      <td>NaN</td>\n",
              "      <td>NaN</td>\n",
              "      <td>NaN</td>\n",
              "      <td>NaN</td>\n",
              "      <td>NaN</td>\n",
              "      <td>NaN</td>\n",
              "      <td>0.204821</td>\n",
              "    </tr>\n",
              "    <tr>\n",
              "      <th>Precision-Train</th>\n",
              "      <td>NaN</td>\n",
              "      <td>NaN</td>\n",
              "      <td>NaN</td>\n",
              "      <td>NaN</td>\n",
              "      <td>NaN</td>\n",
              "      <td>NaN</td>\n",
              "      <td>NaN</td>\n",
              "      <td>0.865747</td>\n",
              "    </tr>\n",
              "    <tr>\n",
              "      <th>Precision-Val</th>\n",
              "      <td>NaN</td>\n",
              "      <td>NaN</td>\n",
              "      <td>NaN</td>\n",
              "      <td>NaN</td>\n",
              "      <td>NaN</td>\n",
              "      <td>NaN</td>\n",
              "      <td>NaN</td>\n",
              "      <td>0.850602</td>\n",
              "    </tr>\n",
              "    <tr>\n",
              "      <th>Precision-Test</th>\n",
              "      <td>NaN</td>\n",
              "      <td>NaN</td>\n",
              "      <td>NaN</td>\n",
              "      <td>NaN</td>\n",
              "      <td>NaN</td>\n",
              "      <td>NaN</td>\n",
              "      <td>NaN</td>\n",
              "      <td>0.827014</td>\n",
              "    </tr>\n",
              "    <tr>\n",
              "      <th>Recall-Train</th>\n",
              "      <td>NaN</td>\n",
              "      <td>NaN</td>\n",
              "      <td>NaN</td>\n",
              "      <td>NaN</td>\n",
              "      <td>NaN</td>\n",
              "      <td>NaN</td>\n",
              "      <td>NaN</td>\n",
              "      <td>0.828829</td>\n",
              "    </tr>\n",
              "    <tr>\n",
              "      <th>Recall-Val</th>\n",
              "      <td>NaN</td>\n",
              "      <td>NaN</td>\n",
              "      <td>NaN</td>\n",
              "      <td>NaN</td>\n",
              "      <td>NaN</td>\n",
              "      <td>NaN</td>\n",
              "      <td>NaN</td>\n",
              "      <td>0.848558</td>\n",
              "    </tr>\n",
              "    <tr>\n",
              "      <th>Recall-Test</th>\n",
              "      <td>NaN</td>\n",
              "      <td>NaN</td>\n",
              "      <td>NaN</td>\n",
              "      <td>NaN</td>\n",
              "      <td>NaN</td>\n",
              "      <td>NaN</td>\n",
              "      <td>NaN</td>\n",
              "      <td>0.83693</td>\n",
              "    </tr>\n",
              "    <tr>\n",
              "      <th>MAR-Train</th>\n",
              "      <td>NaN</td>\n",
              "      <td>NaN</td>\n",
              "      <td>NaN</td>\n",
              "      <td>NaN</td>\n",
              "      <td>NaN</td>\n",
              "      <td>NaN</td>\n",
              "      <td>NaN</td>\n",
              "      <td>0.171171</td>\n",
              "    </tr>\n",
              "    <tr>\n",
              "      <th>MAR-Val</th>\n",
              "      <td>NaN</td>\n",
              "      <td>NaN</td>\n",
              "      <td>NaN</td>\n",
              "      <td>NaN</td>\n",
              "      <td>NaN</td>\n",
              "      <td>NaN</td>\n",
              "      <td>NaN</td>\n",
              "      <td>0.151442</td>\n",
              "    </tr>\n",
              "    <tr>\n",
              "      <th>MAR-Test</th>\n",
              "      <td>NaN</td>\n",
              "      <td>NaN</td>\n",
              "      <td>NaN</td>\n",
              "      <td>NaN</td>\n",
              "      <td>NaN</td>\n",
              "      <td>NaN</td>\n",
              "      <td>NaN</td>\n",
              "      <td>0.16307</td>\n",
              "    </tr>\n",
              "    <tr>\n",
              "      <th>FAR-Train</th>\n",
              "      <td>NaN</td>\n",
              "      <td>NaN</td>\n",
              "      <td>NaN</td>\n",
              "      <td>NaN</td>\n",
              "      <td>NaN</td>\n",
              "      <td>NaN</td>\n",
              "      <td>NaN</td>\n",
              "      <td>0.128529</td>\n",
              "    </tr>\n",
              "    <tr>\n",
              "      <th>FAR-Val</th>\n",
              "      <td>NaN</td>\n",
              "      <td>NaN</td>\n",
              "      <td>NaN</td>\n",
              "      <td>NaN</td>\n",
              "      <td>NaN</td>\n",
              "      <td>NaN</td>\n",
              "      <td>NaN</td>\n",
              "      <td>0.148681</td>\n",
              "    </tr>\n",
              "    <tr>\n",
              "      <th>FAR-Test</th>\n",
              "      <td>NaN</td>\n",
              "      <td>NaN</td>\n",
              "      <td>NaN</td>\n",
              "      <td>NaN</td>\n",
              "      <td>NaN</td>\n",
              "      <td>NaN</td>\n",
              "      <td>NaN</td>\n",
              "      <td>0.175481</td>\n",
              "    </tr>\n",
              "    <tr>\n",
              "      <th>F1-Train</th>\n",
              "      <td>NaN</td>\n",
              "      <td>NaN</td>\n",
              "      <td>NaN</td>\n",
              "      <td>NaN</td>\n",
              "      <td>NaN</td>\n",
              "      <td>NaN</td>\n",
              "      <td>NaN</td>\n",
              "      <td>0.846886</td>\n",
              "    </tr>\n",
              "    <tr>\n",
              "      <th>F1-Val</th>\n",
              "      <td>NaN</td>\n",
              "      <td>NaN</td>\n",
              "      <td>NaN</td>\n",
              "      <td>NaN</td>\n",
              "      <td>NaN</td>\n",
              "      <td>NaN</td>\n",
              "      <td>NaN</td>\n",
              "      <td>0.849579</td>\n",
              "    </tr>\n",
              "    <tr>\n",
              "      <th>F1-Test</th>\n",
              "      <td>NaN</td>\n",
              "      <td>NaN</td>\n",
              "      <td>NaN</td>\n",
              "      <td>NaN</td>\n",
              "      <td>NaN</td>\n",
              "      <td>NaN</td>\n",
              "      <td>NaN</td>\n",
              "      <td>0.831943</td>\n",
              "    </tr>\n",
              "    <tr>\n",
              "      <th>ROC-AUC-Train</th>\n",
              "      <td>NaN</td>\n",
              "      <td>NaN</td>\n",
              "      <td>NaN</td>\n",
              "      <td>NaN</td>\n",
              "      <td>NaN</td>\n",
              "      <td>NaN</td>\n",
              "      <td>NaN</td>\n",
              "      <td>0.85015</td>\n",
              "    </tr>\n",
              "    <tr>\n",
              "      <th>ROC-AUC-Val</th>\n",
              "      <td>NaN</td>\n",
              "      <td>NaN</td>\n",
              "      <td>NaN</td>\n",
              "      <td>NaN</td>\n",
              "      <td>NaN</td>\n",
              "      <td>NaN</td>\n",
              "      <td>NaN</td>\n",
              "      <td>0.849938</td>\n",
              "    </tr>\n",
              "    <tr>\n",
              "      <th>ROC-AUC-Test</th>\n",
              "      <td>NaN</td>\n",
              "      <td>NaN</td>\n",
              "      <td>NaN</td>\n",
              "      <td>NaN</td>\n",
              "      <td>NaN</td>\n",
              "      <td>NaN</td>\n",
              "      <td>NaN</td>\n",
              "      <td>0.830725</td>\n",
              "    </tr>\n",
              "  </tbody>\n",
              "</table>\n",
              "</div>\n",
              "    <div class=\"colab-df-buttons\">\n",
              "\n",
              "  <div class=\"colab-df-container\">\n",
              "    <button class=\"colab-df-convert\" onclick=\"convertToInteractive('df-b10f810c-d9ba-484d-9886-45fd9e78eceb')\"\n",
              "            title=\"Convert this dataframe to an interactive table.\"\n",
              "            style=\"display:none;\">\n",
              "\n",
              "  <svg xmlns=\"http://www.w3.org/2000/svg\" height=\"24px\" viewBox=\"0 -960 960 960\">\n",
              "    <path d=\"M120-120v-720h720v720H120Zm60-500h600v-160H180v160Zm220 220h160v-160H400v160Zm0 220h160v-160H400v160ZM180-400h160v-160H180v160Zm440 0h160v-160H620v160ZM180-180h160v-160H180v160Zm440 0h160v-160H620v160Z\"/>\n",
              "  </svg>\n",
              "    </button>\n",
              "\n",
              "  <style>\n",
              "    .colab-df-container {\n",
              "      display:flex;\n",
              "      gap: 12px;\n",
              "    }\n",
              "\n",
              "    .colab-df-convert {\n",
              "      background-color: #E8F0FE;\n",
              "      border: none;\n",
              "      border-radius: 50%;\n",
              "      cursor: pointer;\n",
              "      display: none;\n",
              "      fill: #1967D2;\n",
              "      height: 32px;\n",
              "      padding: 0 0 0 0;\n",
              "      width: 32px;\n",
              "    }\n",
              "\n",
              "    .colab-df-convert:hover {\n",
              "      background-color: #E2EBFA;\n",
              "      box-shadow: 0px 1px 2px rgba(60, 64, 67, 0.3), 0px 1px 3px 1px rgba(60, 64, 67, 0.15);\n",
              "      fill: #174EA6;\n",
              "    }\n",
              "\n",
              "    .colab-df-buttons div {\n",
              "      margin-bottom: 4px;\n",
              "    }\n",
              "\n",
              "    [theme=dark] .colab-df-convert {\n",
              "      background-color: #3B4455;\n",
              "      fill: #D2E3FC;\n",
              "    }\n",
              "\n",
              "    [theme=dark] .colab-df-convert:hover {\n",
              "      background-color: #434B5C;\n",
              "      box-shadow: 0px 1px 3px 1px rgba(0, 0, 0, 0.15);\n",
              "      filter: drop-shadow(0px 1px 2px rgba(0, 0, 0, 0.3));\n",
              "      fill: #FFFFFF;\n",
              "    }\n",
              "  </style>\n",
              "\n",
              "    <script>\n",
              "      const buttonEl =\n",
              "        document.querySelector('#df-b10f810c-d9ba-484d-9886-45fd9e78eceb button.colab-df-convert');\n",
              "      buttonEl.style.display =\n",
              "        google.colab.kernel.accessAllowed ? 'block' : 'none';\n",
              "\n",
              "      async function convertToInteractive(key) {\n",
              "        const element = document.querySelector('#df-b10f810c-d9ba-484d-9886-45fd9e78eceb');\n",
              "        const dataTable =\n",
              "          await google.colab.kernel.invokeFunction('convertToInteractive',\n",
              "                                                    [key], {});\n",
              "        if (!dataTable) return;\n",
              "\n",
              "        const docLinkHtml = 'Like what you see? Visit the ' +\n",
              "          '<a target=\"_blank\" href=https://colab.research.google.com/notebooks/data_table.ipynb>data table notebook</a>'\n",
              "          + ' to learn more about interactive tables.';\n",
              "        element.innerHTML = '';\n",
              "        dataTable['output_type'] = 'display_data';\n",
              "        await google.colab.output.renderOutput(dataTable, element);\n",
              "        const docLink = document.createElement('div');\n",
              "        docLink.innerHTML = docLinkHtml;\n",
              "        element.appendChild(docLink);\n",
              "      }\n",
              "    </script>\n",
              "  </div>\n",
              "\n",
              "\n",
              "<div id=\"df-1171e845-94ef-438b-9f74-24c4b1974956\">\n",
              "  <button class=\"colab-df-quickchart\" onclick=\"quickchart('df-1171e845-94ef-438b-9f74-24c4b1974956')\"\n",
              "            title=\"Suggest charts\"\n",
              "            style=\"display:none;\">\n",
              "\n",
              "<svg xmlns=\"http://www.w3.org/2000/svg\" height=\"24px\"viewBox=\"0 0 24 24\"\n",
              "     width=\"24px\">\n",
              "    <g>\n",
              "        <path d=\"M19 3H5c-1.1 0-2 .9-2 2v14c0 1.1.9 2 2 2h14c1.1 0 2-.9 2-2V5c0-1.1-.9-2-2-2zM9 17H7v-7h2v7zm4 0h-2V7h2v10zm4 0h-2v-4h2v4z\"/>\n",
              "    </g>\n",
              "</svg>\n",
              "  </button>\n",
              "\n",
              "<style>\n",
              "  .colab-df-quickchart {\n",
              "      --bg-color: #E8F0FE;\n",
              "      --fill-color: #1967D2;\n",
              "      --hover-bg-color: #E2EBFA;\n",
              "      --hover-fill-color: #174EA6;\n",
              "      --disabled-fill-color: #AAA;\n",
              "      --disabled-bg-color: #DDD;\n",
              "  }\n",
              "\n",
              "  [theme=dark] .colab-df-quickchart {\n",
              "      --bg-color: #3B4455;\n",
              "      --fill-color: #D2E3FC;\n",
              "      --hover-bg-color: #434B5C;\n",
              "      --hover-fill-color: #FFFFFF;\n",
              "      --disabled-bg-color: #3B4455;\n",
              "      --disabled-fill-color: #666;\n",
              "  }\n",
              "\n",
              "  .colab-df-quickchart {\n",
              "    background-color: var(--bg-color);\n",
              "    border: none;\n",
              "    border-radius: 50%;\n",
              "    cursor: pointer;\n",
              "    display: none;\n",
              "    fill: var(--fill-color);\n",
              "    height: 32px;\n",
              "    padding: 0;\n",
              "    width: 32px;\n",
              "  }\n",
              "\n",
              "  .colab-df-quickchart:hover {\n",
              "    background-color: var(--hover-bg-color);\n",
              "    box-shadow: 0 1px 2px rgba(60, 64, 67, 0.3), 0 1px 3px 1px rgba(60, 64, 67, 0.15);\n",
              "    fill: var(--button-hover-fill-color);\n",
              "  }\n",
              "\n",
              "  .colab-df-quickchart-complete:disabled,\n",
              "  .colab-df-quickchart-complete:disabled:hover {\n",
              "    background-color: var(--disabled-bg-color);\n",
              "    fill: var(--disabled-fill-color);\n",
              "    box-shadow: none;\n",
              "  }\n",
              "\n",
              "  .colab-df-spinner {\n",
              "    border: 2px solid var(--fill-color);\n",
              "    border-color: transparent;\n",
              "    border-bottom-color: var(--fill-color);\n",
              "    animation:\n",
              "      spin 1s steps(1) infinite;\n",
              "  }\n",
              "\n",
              "  @keyframes spin {\n",
              "    0% {\n",
              "      border-color: transparent;\n",
              "      border-bottom-color: var(--fill-color);\n",
              "      border-left-color: var(--fill-color);\n",
              "    }\n",
              "    20% {\n",
              "      border-color: transparent;\n",
              "      border-left-color: var(--fill-color);\n",
              "      border-top-color: var(--fill-color);\n",
              "    }\n",
              "    30% {\n",
              "      border-color: transparent;\n",
              "      border-left-color: var(--fill-color);\n",
              "      border-top-color: var(--fill-color);\n",
              "      border-right-color: var(--fill-color);\n",
              "    }\n",
              "    40% {\n",
              "      border-color: transparent;\n",
              "      border-right-color: var(--fill-color);\n",
              "      border-top-color: var(--fill-color);\n",
              "    }\n",
              "    60% {\n",
              "      border-color: transparent;\n",
              "      border-right-color: var(--fill-color);\n",
              "    }\n",
              "    80% {\n",
              "      border-color: transparent;\n",
              "      border-right-color: var(--fill-color);\n",
              "      border-bottom-color: var(--fill-color);\n",
              "    }\n",
              "    90% {\n",
              "      border-color: transparent;\n",
              "      border-bottom-color: var(--fill-color);\n",
              "    }\n",
              "  }\n",
              "</style>\n",
              "\n",
              "  <script>\n",
              "    async function quickchart(key) {\n",
              "      const quickchartButtonEl =\n",
              "        document.querySelector('#' + key + ' button');\n",
              "      quickchartButtonEl.disabled = true;  // To prevent multiple clicks.\n",
              "      quickchartButtonEl.classList.add('colab-df-spinner');\n",
              "      try {\n",
              "        const charts = await google.colab.kernel.invokeFunction(\n",
              "            'suggestCharts', [key], {});\n",
              "      } catch (error) {\n",
              "        console.error('Error during call to suggestCharts:', error);\n",
              "      }\n",
              "      quickchartButtonEl.classList.remove('colab-df-spinner');\n",
              "      quickchartButtonEl.classList.add('colab-df-quickchart-complete');\n",
              "    }\n",
              "    (() => {\n",
              "      let quickchartButtonEl =\n",
              "        document.querySelector('#df-1171e845-94ef-438b-9f74-24c4b1974956 button');\n",
              "      quickchartButtonEl.style.display =\n",
              "        google.colab.kernel.accessAllowed ? 'block' : 'none';\n",
              "    })();\n",
              "  </script>\n",
              "</div>\n",
              "    </div>\n",
              "  </div>\n"
            ],
            "application/vnd.google.colaboratory.intrinsic+json": {
              "type": "dataframe",
              "variable_name": "results_df",
              "repr_error": "Out of range float values are not JSON compliant: nan"
            }
          },
          "metadata": {},
          "execution_count": 126
        }
      ]
    },
    {
      "cell_type": "code",
      "source": [],
      "metadata": {
        "id": "OXHvABCiKBxc"
      },
      "execution_count": null,
      "outputs": []
    }
  ]
}